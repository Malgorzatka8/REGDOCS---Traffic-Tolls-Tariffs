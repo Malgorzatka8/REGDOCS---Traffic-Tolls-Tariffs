{
 "cells": [
  {
   "cell_type": "markdown",
   "id": "dda1538e",
   "metadata": {
    "toc": true
   },
   "source": [
    "<h1>Table of Contents<span class=\"tocSkip\"></span></h1>\n",
    "<div class=\"toc\"><ul class=\"toc-item\"><li><span><a href=\"#Functions\" data-toc-modified-id=\"Functions-1\"><span class=\"toc-item-num\">1&nbsp;&nbsp;</span>Functions</a></span><ul class=\"toc-item\"><li><span><a href=\"#documents-function\" data-toc-modified-id=\"documents-function-1.1\"><span class=\"toc-item-num\">1.1&nbsp;&nbsp;</span>documents function</a></span></li><li><span><a href=\"#path-function\" data-toc-modified-id=\"path-function-1.2\"><span class=\"toc-item-num\">1.2&nbsp;&nbsp;</span>path function</a></span></li><li><span><a href=\"#get_documents-function\" data-toc-modified-id=\"get_documents-function-1.3\"><span class=\"toc-item-num\">1.3&nbsp;&nbsp;</span>get_documents function</a></span></li><li><span><a href=\"#concat_dfs_collector-function\" data-toc-modified-id=\"concat_dfs_collector-function-1.4\"><span class=\"toc-item-num\">1.4&nbsp;&nbsp;</span>concat_dfs_collector function</a></span></li><li><span><a href=\"#get_featured_information-function\" data-toc-modified-id=\"get_featured_information-function-1.5\"><span class=\"toc-item-num\">1.5&nbsp;&nbsp;</span>get_featured_information function</a></span></li></ul></li><li><span><a href=\"#Documents\" data-toc-modified-id=\"Documents-2\"><span class=\"toc-item-num\">2&nbsp;&nbsp;</span>Documents</a></span><ul class=\"toc-item\"><li><span><a href=\"#Result-1\" data-toc-modified-id=\"Result-1-2.1\"><span class=\"toc-item-num\">2.1&nbsp;&nbsp;</span>Result 1</a></span></li><li><span><a href=\"#Result-2\" data-toc-modified-id=\"Result-2-2.2\"><span class=\"toc-item-num\">2.2&nbsp;&nbsp;</span>Result 2</a></span></li><li><span><a href=\"#Result-3\" data-toc-modified-id=\"Result-3-2.3\"><span class=\"toc-item-num\">2.3&nbsp;&nbsp;</span>Result 3</a></span><ul class=\"toc-item\"><li><span><a href=\"#Result-3-documents\" data-toc-modified-id=\"Result-3-documents-2.3.1\"><span class=\"toc-item-num\">2.3.1&nbsp;&nbsp;</span>Result 3 documents</a></span></li><li><span><a href=\"#Result-3-path\" data-toc-modified-id=\"Result-3-path-2.3.2\"><span class=\"toc-item-num\">2.3.2&nbsp;&nbsp;</span>Result 3 path</a></span></li></ul></li><li><span><a href=\"#Result-4\" data-toc-modified-id=\"Result-4-2.4\"><span class=\"toc-item-num\">2.4&nbsp;&nbsp;</span>Result 4</a></span><ul class=\"toc-item\"><li><span><a href=\"#Results-4-documents\" data-toc-modified-id=\"Results-4-documents-2.4.1\"><span class=\"toc-item-num\">2.4.1&nbsp;&nbsp;</span>Results 4 documents</a></span></li><li><span><a href=\"#Results-4-path\" data-toc-modified-id=\"Results-4-path-2.4.2\"><span class=\"toc-item-num\">2.4.2&nbsp;&nbsp;</span>Results 4 path</a></span></li></ul></li><li><span><a href=\"#Results-5\" data-toc-modified-id=\"Results-5-2.5\"><span class=\"toc-item-num\">2.5&nbsp;&nbsp;</span>Results 5</a></span><ul class=\"toc-item\"><li><span><a href=\"#Results-5-documents\" data-toc-modified-id=\"Results-5-documents-2.5.1\"><span class=\"toc-item-num\">2.5.1&nbsp;&nbsp;</span>Results 5 documents</a></span></li><li><span><a href=\"#Results-5-path\" data-toc-modified-id=\"Results-5-path-2.5.2\"><span class=\"toc-item-num\">2.5.2&nbsp;&nbsp;</span>Results 5 path</a></span></li></ul></li><li><span><a href=\"#Results-6\" data-toc-modified-id=\"Results-6-2.6\"><span class=\"toc-item-num\">2.6&nbsp;&nbsp;</span>Results 6</a></span><ul class=\"toc-item\"><li><span><a href=\"#Results-6-documents\" data-toc-modified-id=\"Results-6-documents-2.6.1\"><span class=\"toc-item-num\">2.6.1&nbsp;&nbsp;</span>Results 6 documents</a></span></li><li><span><a href=\"#Result-6-path\" data-toc-modified-id=\"Result-6-path-2.6.2\"><span class=\"toc-item-num\">2.6.2&nbsp;&nbsp;</span>Result 6 path</a></span></li></ul></li><li><span><a href=\"#Results-7\" data-toc-modified-id=\"Results-7-2.7\"><span class=\"toc-item-num\">2.7&nbsp;&nbsp;</span>Results 7</a></span><ul class=\"toc-item\"><li><span><a href=\"#Results-7-documents\" data-toc-modified-id=\"Results-7-documents-2.7.1\"><span class=\"toc-item-num\">2.7.1&nbsp;&nbsp;</span>Results 7 documents</a></span></li><li><span><a href=\"#Results-7-path\" data-toc-modified-id=\"Results-7-path-2.7.2\"><span class=\"toc-item-num\">2.7.2&nbsp;&nbsp;</span>Results 7 path</a></span></li></ul></li><li><span><a href=\"#Results-8\" data-toc-modified-id=\"Results-8-2.8\"><span class=\"toc-item-num\">2.8&nbsp;&nbsp;</span>Results 8</a></span><ul class=\"toc-item\"><li><span><a href=\"#Results-8-documents\" data-toc-modified-id=\"Results-8-documents-2.8.1\"><span class=\"toc-item-num\">2.8.1&nbsp;&nbsp;</span>Results 8 documents</a></span></li></ul></li></ul></li><li><span><a href=\"#documents_all-1\" data-toc-modified-id=\"documents_all-1-3\"><span class=\"toc-item-num\">3&nbsp;&nbsp;</span>documents_all 1</a></span></li><li><span><a href=\"#Featured-Information\" data-toc-modified-id=\"Featured-Information-4\"><span class=\"toc-item-num\">4&nbsp;&nbsp;</span>Featured Information</a></span><ul class=\"toc-item\"><li><span><a href=\"#Featured-1\" data-toc-modified-id=\"Featured-1-4.1\"><span class=\"toc-item-num\">4.1&nbsp;&nbsp;</span>Featured 1</a></span></li><li><span><a href=\"#Featured-2\" data-toc-modified-id=\"Featured-2-4.2\"><span class=\"toc-item-num\">4.2&nbsp;&nbsp;</span>Featured 2</a></span></li><li><span><a href=\"#Featured-3\" data-toc-modified-id=\"Featured-3-4.3\"><span class=\"toc-item-num\">4.3&nbsp;&nbsp;</span>Featured 3</a></span><ul class=\"toc-item\"><li><span><a href=\"#Featured-3-documents\" data-toc-modified-id=\"Featured-3-documents-4.3.1\"><span class=\"toc-item-num\">4.3.1&nbsp;&nbsp;</span>Featured 3 documents</a></span></li><li><span><a href=\"#Featured-3-path\" data-toc-modified-id=\"Featured-3-path-4.3.2\"><span class=\"toc-item-num\">4.3.2&nbsp;&nbsp;</span>Featured 3 path</a></span></li></ul></li><li><span><a href=\"#Featured-4\" data-toc-modified-id=\"Featured-4-4.4\"><span class=\"toc-item-num\">4.4&nbsp;&nbsp;</span>Featured 4</a></span><ul class=\"toc-item\"><li><span><a href=\"#Featured-4-documents\" data-toc-modified-id=\"Featured-4-documents-4.4.1\"><span class=\"toc-item-num\">4.4.1&nbsp;&nbsp;</span>Featured 4 documents</a></span></li><li><span><a href=\"#Featured-4-path\" data-toc-modified-id=\"Featured-4-path-4.4.2\"><span class=\"toc-item-num\">4.4.2&nbsp;&nbsp;</span>Featured 4 path</a></span></li></ul></li><li><span><a href=\"#Featured-5\" data-toc-modified-id=\"Featured-5-4.5\"><span class=\"toc-item-num\">4.5&nbsp;&nbsp;</span>Featured 5</a></span><ul class=\"toc-item\"><li><span><a href=\"#Featured-5-path\" data-toc-modified-id=\"Featured-5-path-4.5.1\"><span class=\"toc-item-num\">4.5.1&nbsp;&nbsp;</span>Featured 5 path</a></span></li><li><span><a href=\"#Featured-5-documents\" data-toc-modified-id=\"Featured-5-documents-4.5.2\"><span class=\"toc-item-num\">4.5.2&nbsp;&nbsp;</span>Featured 5 documents</a></span></li></ul></li><li><span><a href=\"#Featured-6\" data-toc-modified-id=\"Featured-6-4.6\"><span class=\"toc-item-num\">4.6&nbsp;&nbsp;</span>Featured 6</a></span><ul class=\"toc-item\"><li><span><a href=\"#Featured-6-documents\" data-toc-modified-id=\"Featured-6-documents-4.6.1\"><span class=\"toc-item-num\">4.6.1&nbsp;&nbsp;</span>Featured 6 documents</a></span></li></ul></li></ul></li><li><span><a href=\"#documents_all-2\" data-toc-modified-id=\"documents_all-2-5\"><span class=\"toc-item-num\">5&nbsp;&nbsp;</span>documents_all 2</a></span></li></ul></div>"
   ]
  },
  {
   "cell_type": "code",
   "execution_count": null,
   "id": "00bff433",
   "metadata": {},
   "outputs": [],
   "source": []
  },
  {
   "cell_type": "code",
   "execution_count": 1,
   "id": "c664b617",
   "metadata": {},
   "outputs": [],
   "source": [
    "#TABLEAU dashboard for this data file available: \n",
    "\n",
    "import pandas as pd\n",
    "import queue\n",
    "from requests_toolbelt.threaded import pool\n",
    "import requests\n",
    "from bs4 import BeautifulSoup as bs\n",
    "import io\n",
    "import pandas as pd\n",
    "from collections import Counter\n",
    "import requests\n",
    "from bs4 import BeautifulSoup as bs\n",
    "from IPython.core.interactiveshell import InteractiveShell\n",
    "InteractiveShell.ast_node_interactivity = 'all'\n",
    "from matplotlib import pyplot as plot\n",
    "import numpy as np"
   ]
  },
  {
   "cell_type": "markdown",
   "id": "c01c0652",
   "metadata": {},
   "source": [
    "# Functions"
   ]
  },
  {
   "cell_type": "markdown",
   "id": "5c14a4c4",
   "metadata": {},
   "source": [
    "## documents function"
   ]
  },
  {
   "cell_type": "code",
   "execution_count": 2,
   "id": "cc17f585",
   "metadata": {},
   "outputs": [],
   "source": [
    "def documents(y):\n",
    "    x = y\n",
    "    x = x.dropna(subset = ['document_name']) \n",
    "    x = x.dropna(axis = 1, how = 'all')\n",
    "    x = x.drop_duplicates()\n",
    "    print(x.shape)\n",
    "    display(x.head(1))\n",
    "    return(x)"
   ]
  },
  {
   "cell_type": "markdown",
   "id": "8651163b",
   "metadata": {},
   "source": [
    "## path function"
   ]
  },
  {
   "cell_type": "code",
   "execution_count": 3,
   "id": "52caf5f3",
   "metadata": {},
   "outputs": [],
   "source": [
    "def path(y, z):\n",
    "    x = y\n",
    "    x = x.dropna(subset = [z])\n",
    "    x = x.dropna(axis = 1, how = 'all')\n",
    "    x = x.drop_duplicates()\n",
    "    print(x.shape)\n",
    "    display(x.head(1))\n",
    "    return(x)"
   ]
  },
  {
   "cell_type": "markdown",
   "id": "7c14f937",
   "metadata": {},
   "source": [
    "## get_documents function"
   ]
  },
  {
   "cell_type": "code",
   "execution_count": 4,
   "id": "e2c75c5d",
   "metadata": {},
   "outputs": [],
   "source": [
    "def get_documents(source, string1, string2):\n",
    "    \n",
    "    jobs = queue.Queue()\n",
    "    \n",
    "    for x in source:\n",
    "        jobs.put({'method' : 'GET', 'url' : x, 'cookies' : {'RDI-NumberOfRecords' : '200'} })\n",
    "        \n",
    "    p = pool.Pool(job_queue = jobs) \n",
    "    p.join_all()\n",
    "    \n",
    "    for r in p.responses():\n",
    "\n",
    "        soup = bs(r.text, 'html.parser')\n",
    "        \n",
    "        try:\n",
    "            text = [x.text for x in soup.find_all('a', {'class' : 'link-wait no-expand'})]\n",
    "            \n",
    "            url = [x['href'] for x in soup.find_all('a', {'class' : 'link-wait no-expand'})]\n",
    "            url = ['https://apps.cer-rec.gc.ca' + x for x in url]\n",
    "            url = [x.replace('/View', '/LoadResult') for x in url]\n",
    "            \n",
    "            df = pd.DataFrame({string1 + 'text': text, string1 + 'url' : url, \\\n",
    "                              string2 + 'url' : r.request_kwargs['url']})\n",
    "            \n",
    "            dfs_collector.append(df)\n",
    "            \n",
    "            document_download_link = [x['href'] for x in soup.find_all('a', {'class' : 'row-icon'})]\n",
    "            document_name = [x.text for x in soup.find_all('a', {'class' : 'row-icon'})]\n",
    "            document_date = [x.text for x in soup.find_all('td', {'class' : 'nowrap'})]\n",
    "            doc_submitter = [x.text for x in soup.find_all('td', {'class' : 'col-md-2'})]\n",
    "\n",
    "            df = pd.DataFrame({'document_name' : document_name, 'document_download_link' : document_download_link, \\\n",
    "                                'document_date' : document_date, 'doc_submitter' : doc_submitter, \\\n",
    "                                string2 + 'url' : r.request_kwargs['url']})\n",
    "            dfs_collector.append(df)\n",
    "            \n",
    "        except:\n",
    "            pass\n",
    "#             print(r.request_kwargs['url']) prints that are in featured_information"
   ]
  },
  {
   "cell_type": "markdown",
   "id": "15ffdf26",
   "metadata": {},
   "source": [
    "## concat_dfs_collector function"
   ]
  },
  {
   "cell_type": "code",
   "execution_count": 5,
   "id": "107cc296",
   "metadata": {},
   "outputs": [],
   "source": [
    "def concat_dfs_collector(x, y, z):\n",
    "    df = pd.concat(dfs_collector)\n",
    "    print(df.shape)\n",
    "#     print(df.nunique())\n",
    "    print(df.isnull().sum())\n",
    "    df.to_csv(x, index = False)\n",
    "    display(df.head(1))\n",
    "    try:\n",
    "        df[y].value_counts()[:8] \\\n",
    "            .sort_values(ascending = True) \\\n",
    "            .plot(kind = 'barh', title = z, figsize=(6, 8))\n",
    "    except:\n",
    "        print(\"plot not available\")\n",
    "    return(df)"
   ]
  },
  {
   "cell_type": "markdown",
   "id": "7e3d7f1b",
   "metadata": {},
   "source": [
    "## get_featured_information function"
   ]
  },
  {
   "cell_type": "code",
   "execution_count": 6,
   "id": "fc550045",
   "metadata": {},
   "outputs": [],
   "source": [
    "#this function is different than get_documents due to unique html elements in 'Feature Information' in CER CMS.\n",
    "def get_featured_information(source, string1, string2):\n",
    "    \n",
    "    jobs = queue.Queue()\n",
    "    \n",
    "    for x in source:\n",
    "        jobs.put({'method' : 'GET', 'url' : x, 'cookies' : {'RDI-NumberOfRecords' : '200'} })\n",
    "        \n",
    "    p = pool.Pool(job_queue = jobs)\n",
    "    p.join_all()\n",
    "    \n",
    "    for r in p.responses():\n",
    "        soup = bs(r.text, 'html.parser')\n",
    "        \n",
    "        text = [x.text for x in soup.find_all('a', {'class' : 'link-wait'})]\n",
    "            \n",
    "        url = [x['href'] for x in soup.find_all('a', {'class' : 'link-wait'})]\n",
    "        url = ['https://apps.cer-rec.gc.ca' + x for x in url]\n",
    "        url = [x.replace('/View', '/LoadResult') for x in url]\n",
    "            \n",
    "        df = pd.DataFrame({string1 + 'text': text, \n",
    "                            string1 + 'url' : url,\n",
    "                            string2 + 'url' : r.request_kwargs['url']})\n",
    "            \n",
    "        dfs_collector.append(df)"
   ]
  },
  {
   "cell_type": "markdown",
   "id": "798caf8d",
   "metadata": {},
   "source": [
    "# Documents"
   ]
  },
  {
   "cell_type": "markdown",
   "id": "b2b231e4",
   "metadata": {},
   "source": [
    "## Result 1"
   ]
  },
  {
   "cell_type": "code",
   "execution_count": 7,
   "id": "fc72a13c",
   "metadata": {},
   "outputs": [],
   "source": [
    "Group1TollsApplications_urls = ['https://apps.cer-rec.gc.ca/REGDOCS/Item/LoadResult/92835', \n",
    "                                'https://apps.cer-rec.gc.ca/REGDOCS/Item/View/92833']\n",
    "\n",
    "Group1TollsApplications_urls = [x.replace('View', 'LoadResult') for x in Group1TollsApplications_urls]"
   ]
  },
  {
   "cell_type": "code",
   "execution_count": 8,
   "id": "fb5f2a11",
   "metadata": {},
   "outputs": [
    {
     "data": {
      "text/html": [
       "<div><div id=b1df873e-2fe3-4164-bcae-bdb2314f417c style=\"display:none; background-color:#9D6CFF; color:white; width:200px; height:30px; padding-left:5px; border-radius:4px; flex-direction:row; justify-content:space-around; align-items:center;\" onmouseover=\"this.style.backgroundColor='#BA9BF8'\" onmouseout=\"this.style.backgroundColor='#9D6CFF'\" onclick=\"window.commands?.execute('create-mitosheet-from-dataframe-output');\">See Full Dataframe in Mito</div> <script> if (window.commands?.hasCommand('create-mitosheet-from-dataframe-output')) document.getElementById('b1df873e-2fe3-4164-bcae-bdb2314f417c').style.display = 'flex' </script> <table border=\"1\" class=\"dataframe\">\n",
       "  <thead>\n",
       "    <tr style=\"text-align: right;\">\n",
       "      <th></th>\n",
       "      <th>r1_text</th>\n",
       "      <th>r1_url</th>\n",
       "      <th>r0_url</th>\n",
       "    </tr>\n",
       "  </thead>\n",
       "  <tbody>\n",
       "    <tr>\n",
       "      <th>0</th>\n",
       "      <td>Cochin Pipe Lines Ltd.</td>\n",
       "      <td>https://apps.cer-rec.gc.ca/REGDOCS/Item/LoadResult/155665</td>\n",
       "      <td>https://apps.cer-rec.gc.ca/REGDOCS/Item/LoadResult/92835</td>\n",
       "    </tr>\n",
       "    <tr>\n",
       "      <th>1</th>\n",
       "      <td>Enbridge Pipelines (NW) Inc.</td>\n",
       "      <td>https://apps.cer-rec.gc.ca/REGDOCS/Item/LoadResult/305098</td>\n",
       "      <td>https://apps.cer-rec.gc.ca/REGDOCS/Item/LoadResult/92835</td>\n",
       "    </tr>\n",
       "    <tr>\n",
       "      <th>2</th>\n",
       "      <td>Enbridge Pipelines Inc.</td>\n",
       "      <td>https://apps.cer-rec.gc.ca/REGDOCS/Item/LoadResult/155829</td>\n",
       "      <td>https://apps.cer-rec.gc.ca/REGDOCS/Item/LoadResult/92835</td>\n",
       "    </tr>\n",
       "  </tbody>\n",
       "</table></div>"
      ],
      "text/plain": [
       "                        r1_text  \\\n",
       "0        Cochin Pipe Lines Ltd.   \n",
       "1  Enbridge Pipelines (NW) Inc.   \n",
       "2       Enbridge Pipelines Inc.   \n",
       "\n",
       "                                              r1_url  \\\n",
       "0  https://apps.cer-rec.gc.ca/REGDOCS/Item/LoadRe...   \n",
       "1  https://apps.cer-rec.gc.ca/REGDOCS/Item/LoadRe...   \n",
       "2  https://apps.cer-rec.gc.ca/REGDOCS/Item/LoadRe...   \n",
       "\n",
       "                                              r0_url  \n",
       "0  https://apps.cer-rec.gc.ca/REGDOCS/Item/LoadRe...  \n",
       "1  https://apps.cer-rec.gc.ca/REGDOCS/Item/LoadRe...  \n",
       "2  https://apps.cer-rec.gc.ca/REGDOCS/Item/LoadRe...  "
      ]
     },
     "execution_count": 8,
     "metadata": {},
     "output_type": "execute_result"
    },
    {
     "data": {
      "text/html": [
       "<div><div id=e71ca5c5-65c9-443b-a191-28927d26f9cb style=\"display:none; background-color:#9D6CFF; color:white; width:200px; height:30px; padding-left:5px; border-radius:4px; flex-direction:row; justify-content:space-around; align-items:center;\" onmouseover=\"this.style.backgroundColor='#BA9BF8'\" onmouseout=\"this.style.backgroundColor='#9D6CFF'\" onclick=\"window.commands?.execute('create-mitosheet-from-dataframe-output');\">See Full Dataframe in Mito</div> <script> if (window.commands?.hasCommand('create-mitosheet-from-dataframe-output')) document.getElementById('e71ca5c5-65c9-443b-a191-28927d26f9cb').style.display = 'flex' </script> <table border=\"1\" class=\"dataframe\">\n",
       "  <thead>\n",
       "    <tr style=\"text-align: right;\">\n",
       "      <th></th>\n",
       "      <th>r1_text</th>\n",
       "      <th>r1_url</th>\n",
       "      <th>r0_url</th>\n",
       "    </tr>\n",
       "  </thead>\n",
       "  <tbody>\n",
       "    <tr>\n",
       "      <th>10</th>\n",
       "      <td>TransCanada PipeLines Limited</td>\n",
       "      <td>https://apps.cer-rec.gc.ca/REGDOCS/Item/LoadResult/92843</td>\n",
       "      <td>https://apps.cer-rec.gc.ca/REGDOCS/Item/LoadResult/92833</td>\n",
       "    </tr>\n",
       "    <tr>\n",
       "      <th>11</th>\n",
       "      <td>TransCanada PipeLines Limited B.C. System</td>\n",
       "      <td>https://apps.cer-rec.gc.ca/REGDOCS/Item/LoadResult/155421</td>\n",
       "      <td>https://apps.cer-rec.gc.ca/REGDOCS/Item/LoadResult/92833</td>\n",
       "    </tr>\n",
       "    <tr>\n",
       "      <th>12</th>\n",
       "      <td>Westcoast Energy Inc.</td>\n",
       "      <td>https://apps.cer-rec.gc.ca/REGDOCS/Item/LoadResult/92844</td>\n",
       "      <td>https://apps.cer-rec.gc.ca/REGDOCS/Item/LoadResult/92833</td>\n",
       "    </tr>\n",
       "  </tbody>\n",
       "</table></div>"
      ],
      "text/plain": [
       "                                      r1_text  \\\n",
       "10              TransCanada PipeLines Limited   \n",
       "11  TransCanada PipeLines Limited B.C. System   \n",
       "12                      Westcoast Energy Inc.   \n",
       "\n",
       "                                               r1_url  \\\n",
       "10  https://apps.cer-rec.gc.ca/REGDOCS/Item/LoadRe...   \n",
       "11  https://apps.cer-rec.gc.ca/REGDOCS/Item/LoadRe...   \n",
       "12  https://apps.cer-rec.gc.ca/REGDOCS/Item/LoadRe...   \n",
       "\n",
       "                                               r0_url  \n",
       "10  https://apps.cer-rec.gc.ca/REGDOCS/Item/LoadRe...  \n",
       "11  https://apps.cer-rec.gc.ca/REGDOCS/Item/LoadRe...  \n",
       "12  https://apps.cer-rec.gc.ca/REGDOCS/Item/LoadRe...  "
      ]
     },
     "execution_count": 8,
     "metadata": {},
     "output_type": "execute_result"
    },
    {
     "data": {
      "text/plain": [
       "(26, 3)"
      ]
     },
     "execution_count": 8,
     "metadata": {},
     "output_type": "execute_result"
    }
   ],
   "source": [
    "jobs = queue.Queue()\n",
    "\n",
    "r1_list = []\n",
    "\n",
    "for x in Group1TollsApplications_urls:\n",
    "    jobs.put({'method' : 'GET', 'url' : x, 'cookies' : {'RDI-NumberOfRecords' : '200'} })\n",
    "        \n",
    "    p = pool.Pool(job_queue = jobs)\n",
    "    p.join_all()\n",
    "    \n",
    "    for r in p.responses():\n",
    "        soup = bs(r.text, 'html.parser')\n",
    "        \n",
    "        r1_url = [x['href'] for x in soup.find_all('a', {'class' : 'link-wait no-expand'})]\n",
    "        r1_url = ['https://apps.cer-rec.gc.ca' + x for x in r1_url]\n",
    "        r1_url = [x.replace('View', 'LoadResult') for x in r1_url]\n",
    "\n",
    "        r1_text = [x.text for x in soup.find_all('a', {'class' : 'link-wait no-expand'})]\n",
    "        \n",
    "        r0_url = r.request_kwargs['url']\n",
    "        \n",
    "        df = pd.DataFrame({'r1_text' : r1_text, 'r1_url' : r1_url, 'r0_url' : r0_url})\n",
    "        r1_list.append(df)\n",
    "        \n",
    "df_r1 = pd.concat(r1_list)        \n",
    "df_r1.head(3)\n",
    "df_r1.tail(3)\n",
    "df_r1.shape\n",
    "df_r1.to_csv('df_r1.csv', index = False)"
   ]
  },
  {
   "cell_type": "markdown",
   "id": "44b28557",
   "metadata": {},
   "source": [
    "## Result 2"
   ]
  },
  {
   "cell_type": "code",
   "execution_count": 9,
   "id": "0cb22494",
   "metadata": {},
   "outputs": [],
   "source": [
    "dfs_collector = []\n",
    "get_documents(source = df_r1['r1_url'], string1 = 'r2_', string2 = 'r1_')"
   ]
  },
  {
   "cell_type": "code",
   "execution_count": 10,
   "id": "44295aa1",
   "metadata": {},
   "outputs": [
    {
     "data": {
      "text/plain": [
       "(329, 7)"
      ]
     },
     "execution_count": 10,
     "metadata": {},
     "output_type": "execute_result"
    },
    {
     "data": {
      "text/plain": [
       "r2_text                     0\n",
       "r2_url                      0\n",
       "r1_url                      0\n",
       "document_name             329\n",
       "document_download_link    329\n",
       "document_date             329\n",
       "doc_submitter             329\n",
       "dtype: int64"
      ]
     },
     "execution_count": 10,
     "metadata": {},
     "output_type": "execute_result"
    },
    {
     "data": {
      "text/html": [
       "<div><div id=1b80b30d-4152-4e07-b9d9-9132e32b1bd6 style=\"display:none; background-color:#9D6CFF; color:white; width:200px; height:30px; padding-left:5px; border-radius:4px; flex-direction:row; justify-content:space-around; align-items:center;\" onmouseover=\"this.style.backgroundColor='#BA9BF8'\" onmouseout=\"this.style.backgroundColor='#9D6CFF'\" onclick=\"window.commands?.execute('create-mitosheet-from-dataframe-output');\">See Full Dataframe in Mito</div> <script> if (window.commands?.hasCommand('create-mitosheet-from-dataframe-output')) document.getElementById('1b80b30d-4152-4e07-b9d9-9132e32b1bd6').style.display = 'flex' </script> <table border=\"1\" class=\"dataframe\">\n",
       "  <thead>\n",
       "    <tr style=\"text-align: right;\">\n",
       "      <th></th>\n",
       "      <th>r2_text</th>\n",
       "      <th>r2_url</th>\n",
       "      <th>r1_url</th>\n",
       "      <th>document_name</th>\n",
       "      <th>document_download_link</th>\n",
       "      <th>document_date</th>\n",
       "      <th>doc_submitter</th>\n",
       "    </tr>\n",
       "  </thead>\n",
       "  <tbody>\n",
       "    <tr>\n",
       "      <th>0</th>\n",
       "      <td>2013-08-23 - Complaint by ISH Energy Ltd. regarding Enbridge Pipelines (NW) Inc. 2011 Willowlake Pipeline Spill Operating Costs (MHW-002-2015)</td>\n",
       "      <td>https://apps.cer-rec.gc.ca/REGDOCS/Item/LoadResult/1021722</td>\n",
       "      <td>https://apps.cer-rec.gc.ca/REGDOCS/Item/LoadResult/305098</td>\n",
       "      <td>NaN</td>\n",
       "      <td>NaN</td>\n",
       "      <td>NaN</td>\n",
       "      <td>NaN</td>\n",
       "    </tr>\n",
       "    <tr>\n",
       "      <th>0</th>\n",
       "      <td>2006-12-22 - Application for Tariff Amendments</td>\n",
       "      <td>https://apps.cer-rec.gc.ca/REGDOCS/Item/LoadResult/450776</td>\n",
       "      <td>https://apps.cer-rec.gc.ca/REGDOCS/Item/LoadResult/155665</td>\n",
       "      <td>NaN</td>\n",
       "      <td>NaN</td>\n",
       "      <td>NaN</td>\n",
       "      <td>NaN</td>\n",
       "    </tr>\n",
       "    <tr>\n",
       "      <th>0</th>\n",
       "      <td>2015-11-18 Application for Approval of Toll Methodology and Tolls and Tariffs for Transportation of Ethane and Ethane-Propane Mix</td>\n",
       "      <td>https://apps.cer-rec.gc.ca/REGDOCS/Item/LoadResult/2857095</td>\n",
       "      <td>https://apps.cer-rec.gc.ca/REGDOCS/Item/LoadResult/472901</td>\n",
       "      <td>NaN</td>\n",
       "      <td>NaN</td>\n",
       "      <td>NaN</td>\n",
       "      <td>NaN</td>\n",
       "    </tr>\n",
       "    <tr>\n",
       "      <th>1</th>\n",
       "      <td>2009-06-23 Complaint by NGL Supply Co. Ltd with respect to Tariff no. 119 for Propane</td>\n",
       "      <td>https://apps.cer-rec.gc.ca/REGDOCS/Item/LoadResult/568503</td>\n",
       "      <td>https://apps.cer-rec.gc.ca/REGDOCS/Item/LoadResult/472901</td>\n",
       "      <td>NaN</td>\n",
       "      <td>NaN</td>\n",
       "      <td>NaN</td>\n",
       "      <td>NaN</td>\n",
       "    </tr>\n",
       "    <tr>\n",
       "      <th>2</th>\n",
       "      <td>2009-05-27 Complaint by BP Canada Energy Resources with respect to NEB Tariff 120 and Line Fill Policy</td>\n",
       "      <td>https://apps.cer-rec.gc.ca/REGDOCS/Item/LoadResult/558308</td>\n",
       "      <td>https://apps.cer-rec.gc.ca/REGDOCS/Item/LoadResult/472901</td>\n",
       "      <td>NaN</td>\n",
       "      <td>NaN</td>\n",
       "      <td>NaN</td>\n",
       "      <td>NaN</td>\n",
       "    </tr>\n",
       "  </tbody>\n",
       "</table></div>"
      ],
      "text/plain": [
       "                                             r2_text  \\\n",
       "0  2013-08-23 - Complaint by ISH Energy Ltd. rega...   \n",
       "0     2006-12-22 - Application for Tariff Amendments   \n",
       "0  2015-11-18 Application for Approval of Toll Me...   \n",
       "1  2009-06-23 Complaint by NGL Supply Co. Ltd wit...   \n",
       "2  2009-05-27 Complaint by BP Canada Energy Resou...   \n",
       "\n",
       "                                              r2_url  \\\n",
       "0  https://apps.cer-rec.gc.ca/REGDOCS/Item/LoadRe...   \n",
       "0  https://apps.cer-rec.gc.ca/REGDOCS/Item/LoadRe...   \n",
       "0  https://apps.cer-rec.gc.ca/REGDOCS/Item/LoadRe...   \n",
       "1  https://apps.cer-rec.gc.ca/REGDOCS/Item/LoadRe...   \n",
       "2  https://apps.cer-rec.gc.ca/REGDOCS/Item/LoadRe...   \n",
       "\n",
       "                                              r1_url  document_name  \\\n",
       "0  https://apps.cer-rec.gc.ca/REGDOCS/Item/LoadRe...            NaN   \n",
       "0  https://apps.cer-rec.gc.ca/REGDOCS/Item/LoadRe...            NaN   \n",
       "0  https://apps.cer-rec.gc.ca/REGDOCS/Item/LoadRe...            NaN   \n",
       "1  https://apps.cer-rec.gc.ca/REGDOCS/Item/LoadRe...            NaN   \n",
       "2  https://apps.cer-rec.gc.ca/REGDOCS/Item/LoadRe...            NaN   \n",
       "\n",
       "   document_download_link  document_date  doc_submitter  \n",
       "0                     NaN            NaN            NaN  \n",
       "0                     NaN            NaN            NaN  \n",
       "0                     NaN            NaN            NaN  \n",
       "1                     NaN            NaN            NaN  \n",
       "2                     NaN            NaN            NaN  "
      ]
     },
     "execution_count": 10,
     "metadata": {},
     "output_type": "execute_result"
    },
    {
     "data": {
      "text/plain": [
       "r2_text                   268\n",
       "r2_url                    328\n",
       "r1_url                     25\n",
       "document_name               0\n",
       "document_download_link      0\n",
       "document_date               0\n",
       "doc_submitter               0\n",
       "dtype: int64"
      ]
     },
     "execution_count": 10,
     "metadata": {},
     "output_type": "execute_result"
    },
    {
     "data": {
      "text/plain": [
       "<AxesSubplot:title={'center':'Top in r2'}>"
      ]
     },
     "execution_count": 10,
     "metadata": {},
     "output_type": "execute_result"
    },
    {
     "data": {
      "image/png": "[encoded data removed]",
      "text/plain": [
       "<Figure size 504x648 with 1 Axes>"
      ]
     },
     "metadata": {
      "needs_background": "light"
     },
     "output_type": "display_data"
    }
   ],
   "source": [
    "df_r2 = pd.concat(dfs_collector)\n",
    "df_r2.shape\n",
    "df_r2.isnull().sum() #no docs\n",
    "df_r2.head()\n",
    "df_r2.nunique()\n",
    "df_r2.to_csv('df_r2.csv', index = False)\n",
    "\n",
    "df_r2['r2_text'].value_counts()[:30].sort_values(ascending = True).plot(kind = 'barh', title = 'Top in r2', figsize=(7, 9))"
   ]
  },
  {
   "cell_type": "markdown",
   "id": "a55933a7",
   "metadata": {},
   "source": [
    "## Result 3"
   ]
  },
  {
   "cell_type": "code",
   "execution_count": 11,
   "id": "814d71d5",
   "metadata": {
    "scrolled": false
   },
   "outputs": [
    {
     "name": "stdout",
     "output_type": "stream",
     "text": [
      "(1497, 7)\n",
      "r3_text                    109\n",
      "r3_url                     109\n",
      "r2_url                       0\n",
      "document_name             1388\n",
      "document_download_link    1388\n",
      "document_date             1388\n",
      "doc_submitter             1388\n",
      "dtype: int64\n"
     ]
    },
    {
     "data": {
      "text/html": [
       "<div><div id=45c177ca-9628-4ab4-89e3-7c54560fb7e1 style=\"display:none; background-color:#9D6CFF; color:white; width:200px; height:30px; padding-left:5px; border-radius:4px; flex-direction:row; justify-content:space-around; align-items:center;\" onmouseover=\"this.style.backgroundColor='#BA9BF8'\" onmouseout=\"this.style.backgroundColor='#9D6CFF'\" onclick=\"window.commands?.execute('create-mitosheet-from-dataframe-output');\">See Full Dataframe in Mito</div> <script> if (window.commands?.hasCommand('create-mitosheet-from-dataframe-output')) document.getElementById('45c177ca-9628-4ab4-89e3-7c54560fb7e1').style.display = 'flex' </script> <table border=\"1\" class=\"dataframe\">\n",
       "  <thead>\n",
       "    <tr style=\"text-align: right;\">\n",
       "      <th></th>\n",
       "      <th>r3_text</th>\n",
       "      <th>r3_url</th>\n",
       "      <th>r2_url</th>\n",
       "      <th>document_name</th>\n",
       "      <th>document_download_link</th>\n",
       "      <th>document_date</th>\n",
       "      <th>doc_submitter</th>\n",
       "    </tr>\n",
       "  </thead>\n",
       "  <tbody>\n",
       "    <tr>\n",
       "      <th>0</th>\n",
       "      <td>A03726 - NEB - Decision - Interprovincial Pipe Line Inc. - Negotiated Toll Settlement - RH-4-94</td>\n",
       "      <td>https://apps.cer-rec.gc.ca/REGDOCS/Item/LoadResult/235207</td>\n",
       "      <td>https://apps.cer-rec.gc.ca/REGDOCS/Item/LoadResult/285324</td>\n",
       "      <td>NaN</td>\n",
       "      <td>NaN</td>\n",
       "      <td>NaN</td>\n",
       "      <td>NaN</td>\n",
       "    </tr>\n",
       "  </tbody>\n",
       "</table></div>"
      ],
      "text/plain": [
       "                                             r3_text  \\\n",
       "0  A03726 - NEB - Decision - Interprovincial Pipe...   \n",
       "\n",
       "                                              r3_url  \\\n",
       "0  https://apps.cer-rec.gc.ca/REGDOCS/Item/LoadRe...   \n",
       "\n",
       "                                              r2_url document_name  \\\n",
       "0  https://apps.cer-rec.gc.ca/REGDOCS/Item/LoadRe...           NaN   \n",
       "\n",
       "  document_download_link document_date doc_submitter  \n",
       "0                    NaN           NaN           NaN  "
      ]
     },
     "metadata": {},
     "output_type": "display_data"
    },
    {
     "data": {
      "image/png": "[encoded data removed]",
      "text/plain": [
       "<Figure size 432x576 with 1 Axes>"
      ]
     },
     "metadata": {
      "needs_background": "light"
     },
     "output_type": "display_data"
    }
   ],
   "source": [
    "# %%time \n",
    "# Wall time: 1min 42s\n",
    "\n",
    "dfs_collector = []\n",
    "get_documents(source = df_r2['r2_url'], string1 = 'r3_', string2 = 'r2_')\n",
    "\n",
    "df_r3 = concat_dfs_collector('df_r3.csv', 'r3_text', 'r3')"
   ]
  },
  {
   "cell_type": "markdown",
   "id": "924bc073",
   "metadata": {},
   "source": [
    "### Result 3 documents"
   ]
  },
  {
   "cell_type": "code",
   "execution_count": 12,
   "id": "2dd7df98",
   "metadata": {},
   "outputs": [
    {
     "name": "stdout",
     "output_type": "stream",
     "text": [
      "(109, 5)\n"
     ]
    },
    {
     "data": {
      "text/html": [
       "<div><div id=c73f6c41-4f7b-4eb1-940b-3be9c3ca036b style=\"display:none; background-color:#9D6CFF; color:white; width:200px; height:30px; padding-left:5px; border-radius:4px; flex-direction:row; justify-content:space-around; align-items:center;\" onmouseover=\"this.style.backgroundColor='#BA9BF8'\" onmouseout=\"this.style.backgroundColor='#9D6CFF'\" onclick=\"window.commands?.execute('create-mitosheet-from-dataframe-output');\">See Full Dataframe in Mito</div> <script> if (window.commands?.hasCommand('create-mitosheet-from-dataframe-output')) document.getElementById('c73f6c41-4f7b-4eb1-940b-3be9c3ca036b').style.display = 'flex' </script> <table border=\"1\" class=\"dataframe\">\n",
       "  <thead>\n",
       "    <tr style=\"text-align: right;\">\n",
       "      <th></th>\n",
       "      <th>r2_url</th>\n",
       "      <th>document_name</th>\n",
       "      <th>document_download_link</th>\n",
       "      <th>document_date</th>\n",
       "      <th>doc_submitter</th>\n",
       "    </tr>\n",
       "  </thead>\n",
       "  <tbody>\n",
       "    <tr>\n",
       "      <th>0</th>\n",
       "      <td>https://apps.cer-rec.gc.ca/REGDOCS/Item/LoadResult/1021722</td>\n",
       "      <td>Appendix B - Enbridge Pipelines (NW) Inc Norman Wells Pipeline Agreement - A4J1F2</td>\n",
       "      <td>/REGDOCS/File/Download/2697260</td>\n",
       "      <td>2015-03-03</td>\n",
       "      <td>ISH Energy Ltd.</td>\n",
       "    </tr>\n",
       "  </tbody>\n",
       "</table></div>"
      ],
      "text/plain": [
       "                                              r2_url  \\\n",
       "0  https://apps.cer-rec.gc.ca/REGDOCS/Item/LoadRe...   \n",
       "\n",
       "                                       document_name  \\\n",
       "0  Appendix B - Enbridge Pipelines (NW) Inc Norma...   \n",
       "\n",
       "           document_download_link document_date    doc_submitter  \n",
       "0  /REGDOCS/File/Download/2697260    2015-03-03  ISH Energy Ltd.  "
      ]
     },
     "metadata": {},
     "output_type": "display_data"
    },
    {
     "data": {
      "text/plain": [
       "(109, 13)"
      ]
     },
     "execution_count": 12,
     "metadata": {},
     "output_type": "execute_result"
    }
   ],
   "source": [
    "df_r3_doc = documents(df_r3)\n",
    "df_r3_doc = df_r3_doc.merge(df_r2, on = 'r2_url')\n",
    "df_r3_doc = df_r3_doc.merge(df_r1) #these are 'frequenly accessed documents'\n",
    "\n",
    "df_r3_doc.shape"
   ]
  },
  {
   "cell_type": "markdown",
   "id": "c246ff5c",
   "metadata": {},
   "source": [
    "### Result 3 path"
   ]
  },
  {
   "cell_type": "code",
   "execution_count": 13,
   "id": "595b67c2",
   "metadata": {},
   "outputs": [
    {
     "name": "stdout",
     "output_type": "stream",
     "text": [
      "(1387, 3)\n"
     ]
    },
    {
     "data": {
      "text/html": [
       "<div><div id=b0282e28-39c4-46d3-936d-4960a1068c93 style=\"display:none; background-color:#9D6CFF; color:white; width:200px; height:30px; padding-left:5px; border-radius:4px; flex-direction:row; justify-content:space-around; align-items:center;\" onmouseover=\"this.style.backgroundColor='#BA9BF8'\" onmouseout=\"this.style.backgroundColor='#9D6CFF'\" onclick=\"window.commands?.execute('create-mitosheet-from-dataframe-output');\">See Full Dataframe in Mito</div> <script> if (window.commands?.hasCommand('create-mitosheet-from-dataframe-output')) document.getElementById('b0282e28-39c4-46d3-936d-4960a1068c93').style.display = 'flex' </script> <table border=\"1\" class=\"dataframe\">\n",
       "  <thead>\n",
       "    <tr style=\"text-align: right;\">\n",
       "      <th></th>\n",
       "      <th>r3_text</th>\n",
       "      <th>r3_url</th>\n",
       "      <th>r2_url</th>\n",
       "    </tr>\n",
       "  </thead>\n",
       "  <tbody>\n",
       "    <tr>\n",
       "      <th>0</th>\n",
       "      <td>A03726 - NEB - Decision - Interprovincial Pipe Line Inc. - Negotiated Toll Settlement - RH-4-94</td>\n",
       "      <td>https://apps.cer-rec.gc.ca/REGDOCS/Item/LoadResult/235207</td>\n",
       "      <td>https://apps.cer-rec.gc.ca/REGDOCS/Item/LoadResult/285324</td>\n",
       "    </tr>\n",
       "  </tbody>\n",
       "</table></div>"
      ],
      "text/plain": [
       "                                             r3_text  \\\n",
       "0  A03726 - NEB - Decision - Interprovincial Pipe...   \n",
       "\n",
       "                                              r3_url  \\\n",
       "0  https://apps.cer-rec.gc.ca/REGDOCS/Item/LoadRe...   \n",
       "\n",
       "                                              r2_url  \n",
       "0  https://apps.cer-rec.gc.ca/REGDOCS/Item/LoadRe...  "
      ]
     },
     "metadata": {},
     "output_type": "display_data"
    }
   ],
   "source": [
    "df_r3_path = path(df_r3, 'r3_text')"
   ]
  },
  {
   "cell_type": "markdown",
   "id": "f32de2d5",
   "metadata": {},
   "source": [
    "## Result 4"
   ]
  },
  {
   "cell_type": "code",
   "execution_count": 14,
   "id": "de27b0ae",
   "metadata": {},
   "outputs": [
    {
     "name": "stdout",
     "output_type": "stream",
     "text": [
      "(5735, 7)\n",
      "r4_text                   2770\n",
      "r4_url                    2770\n",
      "r3_url                       0\n",
      "document_name             2965\n",
      "document_download_link    2965\n",
      "document_date             2965\n",
      "doc_submitter             2965\n",
      "dtype: int64\n"
     ]
    },
    {
     "data": {
      "text/html": [
       "<div><div id=63689ab9-0eae-4311-aa56-54b8cc4b9cc2 style=\"display:none; background-color:#9D6CFF; color:white; width:200px; height:30px; padding-left:5px; border-radius:4px; flex-direction:row; justify-content:space-around; align-items:center;\" onmouseover=\"this.style.backgroundColor='#BA9BF8'\" onmouseout=\"this.style.backgroundColor='#9D6CFF'\" onclick=\"window.commands?.execute('create-mitosheet-from-dataframe-output');\">See Full Dataframe in Mito</div> <script> if (window.commands?.hasCommand('create-mitosheet-from-dataframe-output')) document.getElementById('63689ab9-0eae-4311-aa56-54b8cc4b9cc2').style.display = 'flex' </script> <table border=\"1\" class=\"dataframe\">\n",
       "  <thead>\n",
       "    <tr style=\"text-align: right;\">\n",
       "      <th></th>\n",
       "      <th>r4_text</th>\n",
       "      <th>r4_url</th>\n",
       "      <th>r3_url</th>\n",
       "      <th>document_name</th>\n",
       "      <th>document_download_link</th>\n",
       "      <th>document_date</th>\n",
       "      <th>doc_submitter</th>\n",
       "    </tr>\n",
       "  </thead>\n",
       "  <tbody>\n",
       "    <tr>\n",
       "      <th>0</th>\n",
       "      <td>NaN</td>\n",
       "      <td>NaN</td>\n",
       "      <td>https://apps.cer-rec.gc.ca/REGDOCS/Item/LoadResult/235207</td>\n",
       "      <td>A03726-1 NEB – Decision – Interprovincial – Negotiated Toll Settlement – RH-4-94</td>\n",
       "      <td>/REGDOCS/File/Download/235208</td>\n",
       "      <td>2002-09-05</td>\n",
       "      <td>National Energy Board</td>\n",
       "    </tr>\n",
       "  </tbody>\n",
       "</table></div>"
      ],
      "text/plain": [
       "  r4_text r4_url                                             r3_url  \\\n",
       "0     NaN    NaN  https://apps.cer-rec.gc.ca/REGDOCS/Item/LoadRe...   \n",
       "\n",
       "                                       document_name  \\\n",
       "0  A03726-1 NEB – Decision – Interprovincial – Ne...   \n",
       "\n",
       "          document_download_link document_date          doc_submitter  \n",
       "0  /REGDOCS/File/Download/235208    2002-09-05  National Energy Board  "
      ]
     },
     "metadata": {},
     "output_type": "display_data"
    },
    {
     "name": "stdout",
     "output_type": "stream",
     "text": [
      "CPU times: user 15.5 s, sys: 1.29 s, total: 16.7 s\n",
      "Wall time: 1min 31s\n"
     ]
    },
    {
     "data": {
      "image/png": "[encoded data removed]",
      "text/plain": [
       "<Figure size 432x576 with 1 Axes>"
      ]
     },
     "metadata": {
      "needs_background": "light"
     },
     "output_type": "display_data"
    }
   ],
   "source": [
    "%%time\n",
    "# Wall time: 3min 27s\n",
    "\n",
    "dfs_collector = []\n",
    "get_documents(source = df_r3_path['r3_url'], string1 = 'r4_', string2 = 'r3_')\n",
    "\n",
    "df_r4 = concat_dfs_collector('df_r4.csv', 'r4_text', 'r4')"
   ]
  },
  {
   "cell_type": "markdown",
   "id": "612780a0",
   "metadata": {},
   "source": [
    "### Results 4 documents"
   ]
  },
  {
   "cell_type": "code",
   "execution_count": 15,
   "id": "1503263c",
   "metadata": {},
   "outputs": [
    {
     "name": "stdout",
     "output_type": "stream",
     "text": [
      "(2760, 5)\n"
     ]
    },
    {
     "data": {
      "text/html": [
       "<div><div id=a7850e69-311d-4a5b-af0f-86c1716c05dc style=\"display:none; background-color:#9D6CFF; color:white; width:200px; height:30px; padding-left:5px; border-radius:4px; flex-direction:row; justify-content:space-around; align-items:center;\" onmouseover=\"this.style.backgroundColor='#BA9BF8'\" onmouseout=\"this.style.backgroundColor='#9D6CFF'\" onclick=\"window.commands?.execute('create-mitosheet-from-dataframe-output');\">See Full Dataframe in Mito</div> <script> if (window.commands?.hasCommand('create-mitosheet-from-dataframe-output')) document.getElementById('a7850e69-311d-4a5b-af0f-86c1716c05dc').style.display = 'flex' </script> <table border=\"1\" class=\"dataframe\">\n",
       "  <thead>\n",
       "    <tr style=\"text-align: right;\">\n",
       "      <th></th>\n",
       "      <th>r3_url</th>\n",
       "      <th>document_name</th>\n",
       "      <th>document_download_link</th>\n",
       "      <th>document_date</th>\n",
       "      <th>doc_submitter</th>\n",
       "    </tr>\n",
       "  </thead>\n",
       "  <tbody>\n",
       "    <tr>\n",
       "      <th>0</th>\n",
       "      <td>https://apps.cer-rec.gc.ca/REGDOCS/Item/LoadResult/235207</td>\n",
       "      <td>A03726-1 NEB – Decision – Interprovincial – Negotiated Toll Settlement – RH-4-94</td>\n",
       "      <td>/REGDOCS/File/Download/235208</td>\n",
       "      <td>2002-09-05</td>\n",
       "      <td>National Energy Board</td>\n",
       "    </tr>\n",
       "  </tbody>\n",
       "</table></div>"
      ],
      "text/plain": [
       "                                              r3_url  \\\n",
       "0  https://apps.cer-rec.gc.ca/REGDOCS/Item/LoadRe...   \n",
       "\n",
       "                                       document_name  \\\n",
       "0  A03726-1 NEB – Decision – Interprovincial – Ne...   \n",
       "\n",
       "          document_download_link document_date          doc_submitter  \n",
       "0  /REGDOCS/File/Download/235208    2002-09-05  National Energy Board  "
      ]
     },
     "metadata": {},
     "output_type": "display_data"
    },
    {
     "data": {
      "text/plain": [
       "(2770, 15)"
      ]
     },
     "execution_count": 15,
     "metadata": {},
     "output_type": "execute_result"
    }
   ],
   "source": [
    "df_r4_doc = documents(df_r4)\n",
    "df_r4_doc = df_r4_doc.merge(df_r3_path, on = 'r3_url').merge(df_r2, on = 'r2_url').merge(df_r1)\n",
    "df_r4_doc.shape"
   ]
  },
  {
   "cell_type": "code",
   "execution_count": 16,
   "id": "0e38532b",
   "metadata": {},
   "outputs": [],
   "source": [
    "df_r4_doc['FAQ'] = np.where(df_r4_doc['r2_text'].str.contains('^......pplic|Application Prior'), 'Yes', 'No')\n",
    "df_r4_doc['PKM'] = np.where(df_r4_doc['r2_text'].str.contains('^Tolls and Tariffs'), 'Yes', 'No')\n",
    "\n",
    "# doc_1 FAQ removed; PKM removed (company level featured information)\n",
    "df_r4_doc_1 = df_r4_doc[(~df_r4_doc['FAQ'].str.contains('Yes') & (~df_r4_doc['PKM'].str.contains('Yes')))] \n",
    "\n",
    "df_r4_doc_1 = df_r4_doc_1.rename(columns = {\"r1_text\" : \"company_name\", \"r1_url\" : \"company_name_url\",\n",
    "                              \"r2_text\" : \"application_name\", \"r2_url\" : \"application_name_url\",\n",
    "                              \"r3_text\" : \"folder_name\", \"r3_url\" : \"folder_name_url\"})\n",
    "\n",
    "df_r4_doc_1 = df_r4_doc_1.assign(df = 'df_r4_doc_1')\n",
    "df_r4_doc_1 = df_r4_doc_1.assign(component = 'applications')\n",
    "df_r4_doc_1 = df_r4_doc_1.drop(['FAQ', 'PKM'], axis = 1)"
   ]
  },
  {
   "cell_type": "markdown",
   "id": "d216b4df",
   "metadata": {},
   "source": [
    "### Results 4 path"
   ]
  },
  {
   "cell_type": "code",
   "execution_count": 17,
   "id": "2c561cab",
   "metadata": {},
   "outputs": [
    {
     "name": "stdout",
     "output_type": "stream",
     "text": [
      "(2965, 3)\n"
     ]
    },
    {
     "data": {
      "text/html": [
       "<div><div id=b4f71a63-6ff5-42f0-9d3f-3c70c8671d16 style=\"display:none; background-color:#9D6CFF; color:white; width:200px; height:30px; padding-left:5px; border-radius:4px; flex-direction:row; justify-content:space-around; align-items:center;\" onmouseover=\"this.style.backgroundColor='#BA9BF8'\" onmouseout=\"this.style.backgroundColor='#9D6CFF'\" onclick=\"window.commands?.execute('create-mitosheet-from-dataframe-output');\">See Full Dataframe in Mito</div> <script> if (window.commands?.hasCommand('create-mitosheet-from-dataframe-output')) document.getElementById('b4f71a63-6ff5-42f0-9d3f-3c70c8671d16').style.display = 'flex' </script> <table border=\"1\" class=\"dataframe\">\n",
       "  <thead>\n",
       "    <tr style=\"text-align: right;\">\n",
       "      <th></th>\n",
       "      <th>r4_text</th>\n",
       "      <th>r4_url</th>\n",
       "      <th>r3_url</th>\n",
       "    </tr>\n",
       "  </thead>\n",
       "  <tbody>\n",
       "    <tr>\n",
       "      <th>0</th>\n",
       "      <td>C-1 Apache Canada Ltd</td>\n",
       "      <td>https://apps.cer-rec.gc.ca/REGDOCS/Item/LoadResult/2694334</td>\n",
       "      <td>https://apps.cer-rec.gc.ca/REGDOCS/Item/LoadResult/2693514</td>\n",
       "    </tr>\n",
       "  </tbody>\n",
       "</table></div>"
      ],
      "text/plain": [
       "                 r4_text                                             r4_url  \\\n",
       "0  C-1 Apache Canada Ltd  https://apps.cer-rec.gc.ca/REGDOCS/Item/LoadRe...   \n",
       "\n",
       "                                              r3_url  \n",
       "0  https://apps.cer-rec.gc.ca/REGDOCS/Item/LoadRe...  "
      ]
     },
     "metadata": {},
     "output_type": "display_data"
    }
   ],
   "source": [
    "df_r4_path = path(df_r4, 'r4_text')"
   ]
  },
  {
   "cell_type": "markdown",
   "id": "7c5a3d83",
   "metadata": {},
   "source": [
    "## Results 5"
   ]
  },
  {
   "cell_type": "code",
   "execution_count": 18,
   "id": "f2e4696b",
   "metadata": {},
   "outputs": [
    {
     "name": "stdout",
     "output_type": "stream",
     "text": [
      "(10875, 7)\n",
      "r5_text                   7551\n",
      "r5_url                    7551\n",
      "r4_url                       0\n",
      "document_name             3324\n",
      "document_download_link    3324\n",
      "document_date             3324\n",
      "doc_submitter             3324\n",
      "dtype: int64\n"
     ]
    },
    {
     "data": {
      "text/html": [
       "<div><div id=8f09cc64-dbde-409e-81fb-cc5e81d76d3b style=\"display:none; background-color:#9D6CFF; color:white; width:200px; height:30px; padding-left:5px; border-radius:4px; flex-direction:row; justify-content:space-around; align-items:center;\" onmouseover=\"this.style.backgroundColor='#BA9BF8'\" onmouseout=\"this.style.backgroundColor='#9D6CFF'\" onclick=\"window.commands?.execute('create-mitosheet-from-dataframe-output');\">See Full Dataframe in Mito</div> <script> if (window.commands?.hasCommand('create-mitosheet-from-dataframe-output')) document.getElementById('8f09cc64-dbde-409e-81fb-cc5e81d76d3b').style.display = 'flex' </script> <table border=\"1\" class=\"dataframe\">\n",
       "  <thead>\n",
       "    <tr style=\"text-align: right;\">\n",
       "      <th></th>\n",
       "      <th>r5_text</th>\n",
       "      <th>r5_url</th>\n",
       "      <th>r4_url</th>\n",
       "      <th>document_name</th>\n",
       "      <th>document_download_link</th>\n",
       "      <th>document_date</th>\n",
       "      <th>doc_submitter</th>\n",
       "    </tr>\n",
       "  </thead>\n",
       "  <tbody>\n",
       "    <tr>\n",
       "      <th>0</th>\n",
       "      <td>NaN</td>\n",
       "      <td>NaN</td>\n",
       "      <td>https://apps.cer-rec.gc.ca/REGDOCS/Item/LoadResult/2381164</td>\n",
       "      <td>ISH Energy Complaint - Enbridge Letter to NEB - A3R4F1</td>\n",
       "      <td>/REGDOCS/File/Download/2381165</td>\n",
       "      <td>2013-11-29</td>\n",
       "      <td>Enbridge Pipelines (NW) Inc.</td>\n",
       "    </tr>\n",
       "  </tbody>\n",
       "</table></div>"
      ],
      "text/plain": [
       "  r5_text r5_url                                             r4_url  \\\n",
       "0     NaN    NaN  https://apps.cer-rec.gc.ca/REGDOCS/Item/LoadRe...   \n",
       "\n",
       "                                       document_name  \\\n",
       "0  ISH Energy Complaint - Enbridge Letter to NEB ...   \n",
       "\n",
       "           document_download_link document_date                 doc_submitter  \n",
       "0  /REGDOCS/File/Download/2381165    2013-11-29  Enbridge Pipelines (NW) Inc.  "
      ]
     },
     "metadata": {},
     "output_type": "display_data"
    },
    {
     "name": "stdout",
     "output_type": "stream",
     "text": [
      "CPU times: user 31.9 s, sys: 2.62 s, total: 34.5 s\n",
      "Wall time: 1min 58s\n"
     ]
    },
    {
     "data": {
      "image/png": "[encoded data removed]",
      "text/plain": [
       "<Figure size 432x576 with 1 Axes>"
      ]
     },
     "metadata": {
      "needs_background": "light"
     },
     "output_type": "display_data"
    }
   ],
   "source": [
    "%%time\n",
    "# Wall time: 6min 36s\n",
    "\n",
    "dfs_collector = []\n",
    "get_documents(source = df_r4_path['r4_url'], string1 = 'r5_', string2 = 'r4_')\n",
    "\n",
    "df_r5 = concat_dfs_collector('df_r5.csv', 'r5_text', 'r5')"
   ]
  },
  {
   "cell_type": "markdown",
   "id": "39878f36",
   "metadata": {},
   "source": [
    "### Results 5 documents"
   ]
  },
  {
   "cell_type": "code",
   "execution_count": 19,
   "id": "cc8f7924",
   "metadata": {
    "code_folding": [],
    "scrolled": true
   },
   "outputs": [
    {
     "name": "stdout",
     "output_type": "stream",
     "text": [
      "(7417, 5)\n"
     ]
    },
    {
     "data": {
      "text/html": [
       "<div><div id=2595294a-7d1d-470f-8eab-a1e3a3557cc4 style=\"display:none; background-color:#9D6CFF; color:white; width:200px; height:30px; padding-left:5px; border-radius:4px; flex-direction:row; justify-content:space-around; align-items:center;\" onmouseover=\"this.style.backgroundColor='#BA9BF8'\" onmouseout=\"this.style.backgroundColor='#9D6CFF'\" onclick=\"window.commands?.execute('create-mitosheet-from-dataframe-output');\">See Full Dataframe in Mito</div> <script> if (window.commands?.hasCommand('create-mitosheet-from-dataframe-output')) document.getElementById('2595294a-7d1d-470f-8eab-a1e3a3557cc4').style.display = 'flex' </script> <table border=\"1\" class=\"dataframe\">\n",
       "  <thead>\n",
       "    <tr style=\"text-align: right;\">\n",
       "      <th></th>\n",
       "      <th>r4_url</th>\n",
       "      <th>document_name</th>\n",
       "      <th>document_download_link</th>\n",
       "      <th>document_date</th>\n",
       "      <th>doc_submitter</th>\n",
       "    </tr>\n",
       "  </thead>\n",
       "  <tbody>\n",
       "    <tr>\n",
       "      <th>0</th>\n",
       "      <td>https://apps.cer-rec.gc.ca/REGDOCS/Item/LoadResult/2381164</td>\n",
       "      <td>ISH Energy Complaint - Enbridge Letter to NEB - A3R4F1</td>\n",
       "      <td>/REGDOCS/File/Download/2381165</td>\n",
       "      <td>2013-11-29</td>\n",
       "      <td>Enbridge Pipelines (NW) Inc.</td>\n",
       "    </tr>\n",
       "  </tbody>\n",
       "</table></div>"
      ],
      "text/plain": [
       "                                              r4_url  \\\n",
       "0  https://apps.cer-rec.gc.ca/REGDOCS/Item/LoadRe...   \n",
       "\n",
       "                                       document_name  \\\n",
       "0  ISH Energy Complaint - Enbridge Letter to NEB ...   \n",
       "\n",
       "           document_download_link document_date                 doc_submitter  \n",
       "0  /REGDOCS/File/Download/2381165    2013-11-29  Enbridge Pipelines (NW) Inc.  "
      ]
     },
     "metadata": {},
     "output_type": "display_data"
    },
    {
     "data": {
      "text/plain": [
       "(7666, 17)"
      ]
     },
     "execution_count": 19,
     "metadata": {},
     "output_type": "execute_result"
    }
   ],
   "source": [
    "df_r5_doc = documents(df_r5)\n",
    "df_r5_doc = df_r5_doc.merge(df_r4_path, on = 'r4_url').merge(df_r3_path, on = 'r3_url').merge(df_r2, on = 'r2_url').merge(df_r1)\n",
    "df_r5_doc.shape"
   ]
  },
  {
   "cell_type": "code",
   "execution_count": 20,
   "id": "6928fe78",
   "metadata": {},
   "outputs": [
    {
     "data": {
      "text/html": [
       "<div><div id=928f18c9-8c55-4c9d-b4a1-f48862139228 style=\"display:none; background-color:#9D6CFF; color:white; width:200px; height:30px; padding-left:5px; border-radius:4px; flex-direction:row; justify-content:space-around; align-items:center;\" onmouseover=\"this.style.backgroundColor='#BA9BF8'\" onmouseout=\"this.style.backgroundColor='#9D6CFF'\" onclick=\"window.commands?.execute('create-mitosheet-from-dataframe-output');\">See Full Dataframe in Mito</div> <script> if (window.commands?.hasCommand('create-mitosheet-from-dataframe-output')) document.getElementById('928f18c9-8c55-4c9d-b4a1-f48862139228').style.display = 'flex' </script> <table border=\"1\" class=\"dataframe\">\n",
       "  <thead>\n",
       "    <tr style=\"text-align: right;\">\n",
       "      <th></th>\n",
       "      <th>folder_name_url</th>\n",
       "      <th>document_name_x</th>\n",
       "      <th>document_download_link_x</th>\n",
       "      <th>document_date_x</th>\n",
       "      <th>doc_submitter_x</th>\n",
       "      <th>folder_name</th>\n",
       "      <th>application_name_url</th>\n",
       "      <th>application_name</th>\n",
       "      <th>year_folder_url</th>\n",
       "      <th>year_folder</th>\n",
       "      <th>company_name_url</th>\n",
       "      <th>document_name_y</th>\n",
       "      <th>document_download_link_y</th>\n",
       "      <th>document_date_y</th>\n",
       "      <th>doc_submitter_y</th>\n",
       "      <th>company_name</th>\n",
       "      <th>r0_url</th>\n",
       "      <th>df</th>\n",
       "      <th>component</th>\n",
       "    </tr>\n",
       "  </thead>\n",
       "  <tbody>\n",
       "    <tr>\n",
       "      <th>564</th>\n",
       "      <td>https://apps.cer-rec.gc.ca/REGDOCS/Item/LoadResult/4081264</td>\n",
       "      <td>C11986-1 Application for Line 3 Replacement Surcharge Toll Order - A7R9L3</td>\n",
       "      <td>/REGDOCS/File/Download/4082448</td>\n",
       "      <td>2021-03-15</td>\n",
       "      <td>Enbridge Pipelines Inc.</td>\n",
       "      <td>C11986 Enbridge Pipelines Inc. - Application for Line 3 Replacement Surcharge Toll Order</td>\n",
       "      <td>https://apps.cer-rec.gc.ca/REGDOCS/Item/LoadResult/4081847</td>\n",
       "      <td>2021-03-15 Application for a Toll Order respecting the implemention of the Line 3 replacement surcharges</td>\n",
       "      <td>https://apps.cer-rec.gc.ca/REGDOCS/Item/LoadResult/4081846</td>\n",
       "      <td>2021 Applications</td>\n",
       "      <td>https://apps.cer-rec.gc.ca/REGDOCS/Item/LoadResult/155829</td>\n",
       "      <td>NaN</td>\n",
       "      <td>NaN</td>\n",
       "      <td>NaN</td>\n",
       "      <td>NaN</td>\n",
       "      <td>Enbridge Pipelines Inc.</td>\n",
       "      <td>https://apps.cer-rec.gc.ca/REGDOCS/Item/LoadResult/92835</td>\n",
       "      <td>df_r5_doc_1</td>\n",
       "      <td>applications</td>\n",
       "    </tr>\n",
       "  </tbody>\n",
       "</table></div>"
      ],
      "text/plain": [
       "                                       folder_name_url  \\\n",
       "564  https://apps.cer-rec.gc.ca/REGDOCS/Item/LoadRe...   \n",
       "\n",
       "                                       document_name_x  \\\n",
       "564  C11986-1 Application for Line 3 Replacement Su...   \n",
       "\n",
       "           document_download_link_x document_date_x          doc_submitter_x  \\\n",
       "564  /REGDOCS/File/Download/4082448      2021-03-15  Enbridge Pipelines Inc.   \n",
       "\n",
       "                                           folder_name  \\\n",
       "564  C11986 Enbridge Pipelines Inc. - Application f...   \n",
       "\n",
       "                                  application_name_url  \\\n",
       "564  https://apps.cer-rec.gc.ca/REGDOCS/Item/LoadRe...   \n",
       "\n",
       "                                      application_name  \\\n",
       "564  2021-03-15 Application for a Toll Order respec...   \n",
       "\n",
       "                                       year_folder_url        year_folder  \\\n",
       "564  https://apps.cer-rec.gc.ca/REGDOCS/Item/LoadRe...  2021 Applications   \n",
       "\n",
       "                                      company_name_url  document_name_y  \\\n",
       "564  https://apps.cer-rec.gc.ca/REGDOCS/Item/LoadRe...              NaN   \n",
       "\n",
       "     document_download_link_y  document_date_y  doc_submitter_y  \\\n",
       "564                       NaN              NaN              NaN   \n",
       "\n",
       "                company_name  \\\n",
       "564  Enbridge Pipelines Inc.   \n",
       "\n",
       "                                                r0_url           df  \\\n",
       "564  https://apps.cer-rec.gc.ca/REGDOCS/Item/LoadRe...  df_r5_doc_1   \n",
       "\n",
       "        component  \n",
       "564  applications  "
      ]
     },
     "execution_count": 20,
     "metadata": {},
     "output_type": "execute_result"
    }
   ],
   "source": [
    "# doc_1\n",
    "df_r5_doc['application_year'] = np.where(df_r5_doc['r2_text'].str.contains('^\\d\\d\\d\\d..pplic|Application Prior'), 'Yes', 'No')\n",
    "\n",
    "df_r5_doc_1 = df_r5_doc[df_r5_doc['application_year'].str.contains('Yes')] \n",
    "df_r5_doc_1 = df_r5_doc_1.drop(['application_year'], axis = 1)\n",
    "\n",
    "df_r5_doc_1 = df_r5_doc_1.assign(df = 'df_r5_doc_1') #...\n",
    "\n",
    "df_r5_doc_1 = df_r5_doc_1.rename(columns = {\n",
    "                          \"r1_text\" : \"company_name\", \"r1_url\" : \"company_name_url\",\n",
    "                          \"r2_text\" : \"year_folder\", 'r2_url' : \"year_folder_url\",\n",
    "                          \"r3_text\" : \"application_name\", \"r3_url\" : \"application_name_url\",\n",
    "                          \"r4_text\" : \"folder_name\", \"r4_url\" : \"folder_name_url\"})\n",
    "\n",
    "df_r5_doc_1['component'] = 'applications'\n",
    "\n",
    "df_r5_doc_1['year_folder'] = df_r5_doc_1['year_folder'].str.replace('Application$', 'Applications')\n",
    "df_r5_doc_1.head(1)\n"
   ]
  },
  {
   "cell_type": "code",
   "execution_count": 21,
   "id": "13a9fb4f",
   "metadata": {},
   "outputs": [],
   "source": [
    "# doc_2\n",
    "df_r5_doc['participant_name'] = np.where(df_r5_doc['r2_text'].str.contains('^\\d\\d\\d\\d-\\d\\d-\\d\\d'), 'Yes', 'No')\n",
    "\n",
    "df_r5_doc_2 = df_r5_doc[df_r5_doc['participant_name'].str.contains('Yes')] \n",
    "df_r5_doc_2 = df_r5_doc_2.drop(['participant_name', 'application_year'], axis = 1)\n",
    "\n",
    "df_r5_doc_2 = df_r5_doc_2.assign(df = 'df_r5_doc_2')\n",
    "\n",
    "df_r5_doc_2 = df_r5_doc_2.rename(columns = {\n",
    "                          \"r1_text\" : \"company_name\", \"r1_url\" : \"company_name_url\",\n",
    "                          \"r2_text\" : \"application_name\", 'r2_url' : \"application_name_url\",\n",
    "                          \"r3_text\" : \"participant_name\", \"r3_url\" : \"participant_name_url\",\n",
    "                          \"r4_text\" : \"folder_name\", \"r4_url\" : \"folder_name_url\"})\n",
    "\n",
    "df_r5_doc_2['component'] = 'applications'\n",
    "\n",
    "df_r5_doc_2 = df_r5_doc_2[~df_r5_doc_2['company_name'].str.contains('Multi')]"
   ]
  },
  {
   "cell_type": "code",
   "execution_count": 22,
   "id": "fa758fd4",
   "metadata": {},
   "outputs": [
    {
     "data": {
      "text/plain": [
       "(230, 19)"
      ]
     },
     "execution_count": 22,
     "metadata": {},
     "output_type": "execute_result"
    }
   ],
   "source": [
    "# doc_3\n",
    "df_r5_doc['multi_client'] = np.where(df_r5_doc['r1_text'].str.contains('Multi-Client'), 'Yes', 'No')\n",
    "df_r5_doc_3 = df_r5_doc[df_r5_doc['multi_client'].str.contains('Yes')] \n",
    "df_r5_doc_3 = df_r5_doc_3.drop(['multi_client', 'participant_name', 'application_year'], axis = 1)\n",
    "\n",
    "df_r5_doc_3 = df_r5_doc_3.assign(df = 'df_r5_doc_3')\n",
    "\n",
    "df_r5_doc_3 = df_r5_doc_3.rename(columns = {\n",
    "                          \"r1_text\" : \"company_name\", \"r1_url\" : \"company_name_url\",\n",
    "                          \"r2_text\" : \"application_name\", 'r2_url' : \"application_name_url\",\n",
    "                          \"r3_text\" : \"Notes\", \"r3_url\" : \"Notes_url\", #come back to this\n",
    "                          \"r4_text\" : \"folder_name\", \"r4_url\" : \"folder_name_url\"})\n",
    "\n",
    "df_r5_doc_3['component'] = 'applications'\n",
    "\n",
    "df_r5_doc_3.shape"
   ]
  },
  {
   "cell_type": "markdown",
   "id": "9d7d7514",
   "metadata": {},
   "source": [
    "### Results 5 path"
   ]
  },
  {
   "cell_type": "code",
   "execution_count": 23,
   "id": "17fb6125",
   "metadata": {},
   "outputs": [
    {
     "name": "stdout",
     "output_type": "stream",
     "text": [
      "(3324, 3)\n"
     ]
    },
    {
     "data": {
      "text/html": [
       "<div><div id=7be44bfc-82cc-492c-abce-47a7652bf792 style=\"display:none; background-color:#9D6CFF; color:white; width:200px; height:30px; padding-left:5px; border-radius:4px; flex-direction:row; justify-content:space-around; align-items:center;\" onmouseover=\"this.style.backgroundColor='#BA9BF8'\" onmouseout=\"this.style.backgroundColor='#9D6CFF'\" onclick=\"window.commands?.execute('create-mitosheet-from-dataframe-output');\">See Full Dataframe in Mito</div> <script> if (window.commands?.hasCommand('create-mitosheet-from-dataframe-output')) document.getElementById('7be44bfc-82cc-492c-abce-47a7652bf792').style.display = 'flex' </script> <table border=\"1\" class=\"dataframe\">\n",
       "  <thead>\n",
       "    <tr style=\"text-align: right;\">\n",
       "      <th></th>\n",
       "      <th>r5_text</th>\n",
       "      <th>r5_url</th>\n",
       "      <th>r4_url</th>\n",
       "    </tr>\n",
       "  </thead>\n",
       "  <tbody>\n",
       "    <tr>\n",
       "      <th>0</th>\n",
       "      <td>07-05-08 BP Canada  - BP Canada Intervention  (A15462)</td>\n",
       "      <td>https://apps.cer-rec.gc.ca/REGDOCS/Item/LoadResult/461757</td>\n",
       "      <td>https://apps.cer-rec.gc.ca/REGDOCS/Item/LoadResult/462209</td>\n",
       "    </tr>\n",
       "  </tbody>\n",
       "</table></div>"
      ],
      "text/plain": [
       "                                             r5_text  \\\n",
       "0  07-05-08 BP Canada  - BP Canada Intervention  ...   \n",
       "\n",
       "                                              r5_url  \\\n",
       "0  https://apps.cer-rec.gc.ca/REGDOCS/Item/LoadRe...   \n",
       "\n",
       "                                              r4_url  \n",
       "0  https://apps.cer-rec.gc.ca/REGDOCS/Item/LoadRe...  "
      ]
     },
     "metadata": {},
     "output_type": "display_data"
    }
   ],
   "source": [
    "df_r5_path = path(df_r5, 'r5_text')"
   ]
  },
  {
   "cell_type": "markdown",
   "id": "2bb935ec",
   "metadata": {},
   "source": [
    "## Results 6"
   ]
  },
  {
   "cell_type": "code",
   "execution_count": 24,
   "id": "a9240d58",
   "metadata": {},
   "outputs": [
    {
     "name": "stdout",
     "output_type": "stream",
     "text": [
      "(11298, 7)\n",
      "r6_text                   7973\n",
      "r6_url                    7973\n",
      "r5_url                       0\n",
      "document_name             3325\n",
      "document_download_link    3325\n",
      "document_date             3325\n",
      "doc_submitter             3325\n",
      "dtype: int64\n"
     ]
    },
    {
     "data": {
      "text/html": [
       "<div><div id=b5a59fbb-c76d-4545-bb00-3b58f0f51e58 style=\"display:none; background-color:#9D6CFF; color:white; width:200px; height:30px; padding-left:5px; border-radius:4px; flex-direction:row; justify-content:space-around; align-items:center;\" onmouseover=\"this.style.backgroundColor='#BA9BF8'\" onmouseout=\"this.style.backgroundColor='#9D6CFF'\" onclick=\"window.commands?.execute('create-mitosheet-from-dataframe-output');\">See Full Dataframe in Mito</div> <script> if (window.commands?.hasCommand('create-mitosheet-from-dataframe-output')) document.getElementById('b5a59fbb-c76d-4545-bb00-3b58f0f51e58').style.display = 'flex' </script> <table border=\"1\" class=\"dataframe\">\n",
       "  <thead>\n",
       "    <tr style=\"text-align: right;\">\n",
       "      <th></th>\n",
       "      <th>r6_text</th>\n",
       "      <th>r6_url</th>\n",
       "      <th>r5_url</th>\n",
       "      <th>document_name</th>\n",
       "      <th>document_download_link</th>\n",
       "      <th>document_date</th>\n",
       "      <th>doc_submitter</th>\n",
       "    </tr>\n",
       "  </thead>\n",
       "  <tbody>\n",
       "    <tr>\n",
       "      <th>0</th>\n",
       "      <td>NaN</td>\n",
       "      <td>NaN</td>\n",
       "      <td>https://apps.cer-rec.gc.ca/REGDOCS/Item/LoadResult/461757</td>\n",
       "      <td>A0Y8Q5 - BP Canada Intervention</td>\n",
       "      <td>/REGDOCS/File/Download/461583</td>\n",
       "      <td>2007-05-08</td>\n",
       "      <td>BP Canada</td>\n",
       "    </tr>\n",
       "  </tbody>\n",
       "</table></div>"
      ],
      "text/plain": [
       "  r6_text r6_url                                             r5_url  \\\n",
       "0     NaN    NaN  https://apps.cer-rec.gc.ca/REGDOCS/Item/LoadRe...   \n",
       "\n",
       "                     document_name         document_download_link  \\\n",
       "0  A0Y8Q5 - BP Canada Intervention  /REGDOCS/File/Download/461583   \n",
       "\n",
       "  document_date doc_submitter  \n",
       "0    2007-05-08    BP Canada   "
      ]
     },
     "metadata": {},
     "output_type": "display_data"
    },
    {
     "name": "stdout",
     "output_type": "stream",
     "text": [
      "CPU times: user 36.8 s, sys: 2.96 s, total: 39.8 s\n",
      "Wall time: 3min 39s\n"
     ]
    },
    {
     "data": {
      "image/png": "[encoded data removed]",
      "text/plain": [
       "<Figure size 432x576 with 1 Axes>"
      ]
     },
     "metadata": {
      "needs_background": "light"
     },
     "output_type": "display_data"
    }
   ],
   "source": [
    "%%time\n",
    "# Wall time: 3min 18s\n",
    "\n",
    "dfs_collector = []\n",
    "get_documents(source = df_r5_path['r5_url'], string1 = 'r6_', string2 = 'r5_')\n",
    "\n",
    "df_r6 = concat_dfs_collector('df_r6.csv', 'r6_text', 'r6')"
   ]
  },
  {
   "cell_type": "markdown",
   "id": "f6caee90",
   "metadata": {},
   "source": [
    "### Results 6 documents"
   ]
  },
  {
   "cell_type": "code",
   "execution_count": 25,
   "id": "4309e840",
   "metadata": {
    "scrolled": true
   },
   "outputs": [
    {
     "name": "stdout",
     "output_type": "stream",
     "text": [
      "(7938, 5)\n"
     ]
    },
    {
     "data": {
      "text/html": [
       "<div><div id=e17aad4a-f0b3-4f69-b769-f2a562d85cd9 style=\"display:none; background-color:#9D6CFF; color:white; width:200px; height:30px; padding-left:5px; border-radius:4px; flex-direction:row; justify-content:space-around; align-items:center;\" onmouseover=\"this.style.backgroundColor='#BA9BF8'\" onmouseout=\"this.style.backgroundColor='#9D6CFF'\" onclick=\"window.commands?.execute('create-mitosheet-from-dataframe-output');\">See Full Dataframe in Mito</div> <script> if (window.commands?.hasCommand('create-mitosheet-from-dataframe-output')) document.getElementById('e17aad4a-f0b3-4f69-b769-f2a562d85cd9').style.display = 'flex' </script> <table border=\"1\" class=\"dataframe\">\n",
       "  <thead>\n",
       "    <tr style=\"text-align: right;\">\n",
       "      <th></th>\n",
       "      <th>r5_url</th>\n",
       "      <th>document_name</th>\n",
       "      <th>document_download_link</th>\n",
       "      <th>document_date</th>\n",
       "      <th>doc_submitter</th>\n",
       "    </tr>\n",
       "  </thead>\n",
       "  <tbody>\n",
       "    <tr>\n",
       "      <th>0</th>\n",
       "      <td>https://apps.cer-rec.gc.ca/REGDOCS/Item/LoadResult/461757</td>\n",
       "      <td>A0Y8Q5 - BP Canada Intervention</td>\n",
       "      <td>/REGDOCS/File/Download/461583</td>\n",
       "      <td>2007-05-08</td>\n",
       "      <td>BP Canada</td>\n",
       "    </tr>\n",
       "  </tbody>\n",
       "</table></div>"
      ],
      "text/plain": [
       "                                              r5_url  \\\n",
       "0  https://apps.cer-rec.gc.ca/REGDOCS/Item/LoadRe...   \n",
       "\n",
       "                     document_name         document_download_link  \\\n",
       "0  A0Y8Q5 - BP Canada Intervention  /REGDOCS/File/Download/461583   \n",
       "\n",
       "  document_date doc_submitter  \n",
       "0    2007-05-08    BP Canada   "
      ]
     },
     "metadata": {},
     "output_type": "display_data"
    },
    {
     "data": {
      "text/plain": [
       "(7973, 19)"
      ]
     },
     "execution_count": 25,
     "metadata": {},
     "output_type": "execute_result"
    }
   ],
   "source": [
    "df_r6_doc = documents(df_r6)\n",
    "df_r6_doc = df_r6_doc.merge(df_r5_path, on = 'r5_url').merge(df_r4_path, on = 'r4_url').merge(df_r3_path, on = 'r3_url').merge(df_r2, on = 'r2_url').merge(df_r1)\n",
    "df_r6_doc.shape"
   ]
  },
  {
   "cell_type": "code",
   "execution_count": 26,
   "id": "9b2d1d19",
   "metadata": {},
   "outputs": [
    {
     "data": {
      "text/plain": [
       "(6620, 21)"
      ]
     },
     "execution_count": 26,
     "metadata": {},
     "output_type": "execute_result"
    }
   ],
   "source": [
    "# doc_1\n",
    "df_r6_doc['application_year'] = np.where(df_r6_doc['r2_text'].str.contains('^\\d\\d\\d\\d..pplic|Application Prior'), 'Yes', 'No')\n",
    "df_r6_doc_1 = df_r6_doc[df_r6_doc['application_year'].str.contains('Yes')] \n",
    "df_r6_doc_1 = df_r6_doc_1.drop(['application_year'], axis = 1)\n",
    "\n",
    "df_r6_doc_1 = df_r6_doc_1.assign(df = 'df_r6_doc_1')\n",
    "\n",
    "df_r6_doc_1 = df_r6_doc_1.rename(columns = {\n",
    "                          \"r1_text\" : \"company_name\", \"r1_url\" : \"company_name_url\",\n",
    "                          \"r2_text\" : \"year_folder\", 'r2_url' : \"year_folder_url\",\n",
    "                          \"r3_text\" : \"application_name\", \"r3_url\" : \"application_name_url\",\n",
    "                          \"r4_text\" : \"participant_category\", \"r4_url\" : \"participant_category_url\",\n",
    "                          \"r5_text\" : \"folder_name\", \"r5_url\" : \"folder_name_url\"})\n",
    "\n",
    "df_r6_doc_1['component'] = 'applications'\n",
    "\n",
    "df_r6_doc_1['year_folder'] = df_r6_doc_1['year_folder'].str.replace('Application$', 'Applications')\n",
    "df_r6_doc_1.shape\n"
   ]
  },
  {
   "cell_type": "code",
   "execution_count": 27,
   "id": "4664046f",
   "metadata": {},
   "outputs": [
    {
     "data": {
      "text/plain": [
       "(1353, 21)"
      ]
     },
     "execution_count": 27,
     "metadata": {},
     "output_type": "execute_result"
    }
   ],
   "source": [
    "# doc_2\n",
    "df_r6_doc['participant_name'] = np.where(df_r6_doc['r2_text'].str.contains('^\\d\\d\\d\\d-\\d\\d-\\d\\d'), 'Yes', 'No')\n",
    "\n",
    "df_r6_doc_2 = df_r6_doc[df_r6_doc['participant_name'].str.contains('Yes')] \n",
    "df_r6_doc_2 = df_r6_doc_2.drop(['participant_name', 'application_year'], axis = 1)\n",
    "\n",
    "df_r6_doc_2 = df_r6_doc_2.assign(df = 'df_r6_doc_2')\n",
    "\n",
    "df_r6_doc_2 = df_r6_doc_2.rename(columns = {\n",
    "                          \"r1_text\" : \"company_name\", \"r1_url\" : \"company_name_url\",\n",
    "                          \"r2_text\" : \"application_name\", 'r2_url' : \"application_name_url\",\n",
    "                          \"r3_text\" : \"participant_category\", \"r3_url\" : \"participant_category_url\",\n",
    "                          \"r4_text\" : \"participant_name\", \"r4_url\" : \"participant_name_url\",\n",
    "                          \"r5_text\" : \"folder_name\", \"r5_url\" : \"folder_name_url\"})\n",
    "\n",
    "df_r6_doc_2['component'] = 'applications'\n",
    "\n",
    "df_r6_doc_2.shape"
   ]
  },
  {
   "cell_type": "markdown",
   "id": "5f42cc64",
   "metadata": {},
   "source": [
    "### Result 6 path"
   ]
  },
  {
   "cell_type": "code",
   "execution_count": 28,
   "id": "420fba78",
   "metadata": {},
   "outputs": [
    {
     "name": "stdout",
     "output_type": "stream",
     "text": [
      "(3325, 3)\n"
     ]
    },
    {
     "data": {
      "text/html": [
       "<div><div id=9287fdcb-6ad1-4d8b-9ff4-131bfabdf933 style=\"display:none; background-color:#9D6CFF; color:white; width:200px; height:30px; padding-left:5px; border-radius:4px; flex-direction:row; justify-content:space-around; align-items:center;\" onmouseover=\"this.style.backgroundColor='#BA9BF8'\" onmouseout=\"this.style.backgroundColor='#9D6CFF'\" onclick=\"window.commands?.execute('create-mitosheet-from-dataframe-output');\">See Full Dataframe in Mito</div> <script> if (window.commands?.hasCommand('create-mitosheet-from-dataframe-output')) document.getElementById('9287fdcb-6ad1-4d8b-9ff4-131bfabdf933').style.display = 'flex' </script> <table border=\"1\" class=\"dataframe\">\n",
       "  <thead>\n",
       "    <tr style=\"text-align: right;\">\n",
       "      <th></th>\n",
       "      <th>r6_text</th>\n",
       "      <th>r6_url</th>\n",
       "      <th>r5_url</th>\n",
       "    </tr>\n",
       "  </thead>\n",
       "  <tbody>\n",
       "    <tr>\n",
       "      <th>0</th>\n",
       "      <td>C04389 Aspenleaf Energy Limited - Aspenleaf Letter of Comment on Canadian Mainline Contracting Application</td>\n",
       "      <td>https://apps.cer-rec.gc.ca/REGDOCS/Item/LoadResult/3899781</td>\n",
       "      <td>https://apps.cer-rec.gc.ca/REGDOCS/Item/LoadResult/3930705</td>\n",
       "    </tr>\n",
       "  </tbody>\n",
       "</table></div>"
      ],
      "text/plain": [
       "                                             r6_text  \\\n",
       "0  C04389 Aspenleaf Energy Limited - Aspenleaf Le...   \n",
       "\n",
       "                                              r6_url  \\\n",
       "0  https://apps.cer-rec.gc.ca/REGDOCS/Item/LoadRe...   \n",
       "\n",
       "                                              r5_url  \n",
       "0  https://apps.cer-rec.gc.ca/REGDOCS/Item/LoadRe...  "
      ]
     },
     "metadata": {},
     "output_type": "display_data"
    }
   ],
   "source": [
    "df_r6_path = path(df_r6, 'r6_text')"
   ]
  },
  {
   "cell_type": "markdown",
   "id": "049eddf0",
   "metadata": {},
   "source": [
    "## Results 7"
   ]
  },
  {
   "cell_type": "code",
   "execution_count": 29,
   "id": "3546aaf5",
   "metadata": {},
   "outputs": [
    {
     "name": "stdout",
     "output_type": "stream",
     "text": [
      "(8752, 7)\n",
      "r7_text                   8751\n",
      "r7_url                    8751\n",
      "r6_url                       0\n",
      "document_name                1\n",
      "document_download_link       1\n",
      "document_date                1\n",
      "doc_submitter                1\n",
      "dtype: int64\n"
     ]
    },
    {
     "data": {
      "text/html": [
       "<div><div id=f9084d03-77a7-400e-8658-0d4eb16a38fc style=\"display:none; background-color:#9D6CFF; color:white; width:200px; height:30px; padding-left:5px; border-radius:4px; flex-direction:row; justify-content:space-around; align-items:center;\" onmouseover=\"this.style.backgroundColor='#BA9BF8'\" onmouseout=\"this.style.backgroundColor='#9D6CFF'\" onclick=\"window.commands?.execute('create-mitosheet-from-dataframe-output');\">See Full Dataframe in Mito</div> <script> if (window.commands?.hasCommand('create-mitosheet-from-dataframe-output')) document.getElementById('f9084d03-77a7-400e-8658-0d4eb16a38fc').style.display = 'flex' </script> <table border=\"1\" class=\"dataframe\">\n",
       "  <thead>\n",
       "    <tr style=\"text-align: right;\">\n",
       "      <th></th>\n",
       "      <th>r7_text</th>\n",
       "      <th>r7_url</th>\n",
       "      <th>r6_url</th>\n",
       "      <th>document_name</th>\n",
       "      <th>document_download_link</th>\n",
       "      <th>document_date</th>\n",
       "      <th>doc_submitter</th>\n",
       "    </tr>\n",
       "  </thead>\n",
       "  <tbody>\n",
       "    <tr>\n",
       "      <th>0</th>\n",
       "      <td>NaN</td>\n",
       "      <td>NaN</td>\n",
       "      <td>https://apps.cer-rec.gc.ca/REGDOCS/Item/LoadResult/3899781</td>\n",
       "      <td>C04389-1 Aspenleaf Letter of Comment to CER on Canadian Mainline Contracting Application (30-01-2020) - A7C9V8</td>\n",
       "      <td>/REGDOCS/File/Download/3899852</td>\n",
       "      <td>2020-01-30</td>\n",
       "      <td>Aspenleaf Energy Limited</td>\n",
       "    </tr>\n",
       "  </tbody>\n",
       "</table></div>"
      ],
      "text/plain": [
       "  r7_text r7_url                                             r6_url  \\\n",
       "0     NaN    NaN  https://apps.cer-rec.gc.ca/REGDOCS/Item/LoadRe...   \n",
       "\n",
       "                                       document_name  \\\n",
       "0  C04389-1 Aspenleaf Letter of Comment to CER on...   \n",
       "\n",
       "           document_download_link document_date             doc_submitter  \n",
       "0  /REGDOCS/File/Download/3899852    2020-01-30  Aspenleaf Energy Limited  "
      ]
     },
     "metadata": {},
     "output_type": "display_data"
    },
    {
     "name": "stdout",
     "output_type": "stream",
     "text": [
      "CPU times: user 33.9 s, sys: 2.9 s, total: 36.8 s\n",
      "Wall time: 1min 45s\n"
     ]
    },
    {
     "data": {
      "image/png": "[encoded data removed]",
      "text/plain": [
       "<Figure size 432x576 with 1 Axes>"
      ]
     },
     "metadata": {
      "needs_background": "light"
     },
     "output_type": "display_data"
    }
   ],
   "source": [
    "%%time\n",
    "\n",
    "dfs_collector = []\n",
    "get_documents(source = df_r6_path['r6_url'], string1 = 'r7_', string2 = 'r6_')\n",
    "df_r7 = concat_dfs_collector('df_r7.csv', 'r7_text', 'r7')"
   ]
  },
  {
   "cell_type": "markdown",
   "id": "e9853867",
   "metadata": {},
   "source": [
    "### Results 7 documents"
   ]
  },
  {
   "cell_type": "code",
   "execution_count": 30,
   "id": "98a19b34",
   "metadata": {},
   "outputs": [
    {
     "name": "stdout",
     "output_type": "stream",
     "text": [
      "(8214, 5)\n"
     ]
    },
    {
     "data": {
      "text/html": [
       "<div><div id=69e45a0e-6c7b-4b45-ab68-91988c0e5bcb style=\"display:none; background-color:#9D6CFF; color:white; width:200px; height:30px; padding-left:5px; border-radius:4px; flex-direction:row; justify-content:space-around; align-items:center;\" onmouseover=\"this.style.backgroundColor='#BA9BF8'\" onmouseout=\"this.style.backgroundColor='#9D6CFF'\" onclick=\"window.commands?.execute('create-mitosheet-from-dataframe-output');\">See Full Dataframe in Mito</div> <script> if (window.commands?.hasCommand('create-mitosheet-from-dataframe-output')) document.getElementById('69e45a0e-6c7b-4b45-ab68-91988c0e5bcb').style.display = 'flex' </script> <table border=\"1\" class=\"dataframe\">\n",
       "  <thead>\n",
       "    <tr style=\"text-align: right;\">\n",
       "      <th></th>\n",
       "      <th>r6_url</th>\n",
       "      <th>document_name</th>\n",
       "      <th>document_download_link</th>\n",
       "      <th>document_date</th>\n",
       "      <th>doc_submitter</th>\n",
       "    </tr>\n",
       "  </thead>\n",
       "  <tbody>\n",
       "    <tr>\n",
       "      <th>0</th>\n",
       "      <td>https://apps.cer-rec.gc.ca/REGDOCS/Item/LoadResult/3899781</td>\n",
       "      <td>C04389-1 Aspenleaf Letter of Comment to CER on Canadian Mainline Contracting Application (30-01-2020) - A7C9V8</td>\n",
       "      <td>/REGDOCS/File/Download/3899852</td>\n",
       "      <td>2020-01-30</td>\n",
       "      <td>Aspenleaf Energy Limited</td>\n",
       "    </tr>\n",
       "  </tbody>\n",
       "</table></div>"
      ],
      "text/plain": [
       "                                              r6_url  \\\n",
       "0  https://apps.cer-rec.gc.ca/REGDOCS/Item/LoadRe...   \n",
       "\n",
       "                                       document_name  \\\n",
       "0  C04389-1 Aspenleaf Letter of Comment to CER on...   \n",
       "\n",
       "           document_download_link document_date             doc_submitter  \n",
       "0  /REGDOCS/File/Download/3899852    2020-01-30  Aspenleaf Energy Limited  "
      ]
     },
     "metadata": {},
     "output_type": "display_data"
    },
    {
     "data": {
      "text/plain": [
       "(8751, 23)"
      ]
     },
     "execution_count": 30,
     "metadata": {},
     "output_type": "execute_result"
    },
    {
     "data": {
      "text/html": [
       "<div><div id=02f67785-42dd-42c4-9b98-212dd30a8ecb style=\"display:none; background-color:#9D6CFF; color:white; width:200px; height:30px; padding-left:5px; border-radius:4px; flex-direction:row; justify-content:space-around; align-items:center;\" onmouseover=\"this.style.backgroundColor='#BA9BF8'\" onmouseout=\"this.style.backgroundColor='#9D6CFF'\" onclick=\"window.commands?.execute('create-mitosheet-from-dataframe-output');\">See Full Dataframe in Mito</div> <script> if (window.commands?.hasCommand('create-mitosheet-from-dataframe-output')) document.getElementById('02f67785-42dd-42c4-9b98-212dd30a8ecb').style.display = 'flex' </script> <table border=\"1\" class=\"dataframe\">\n",
       "  <thead>\n",
       "    <tr style=\"text-align: right;\">\n",
       "      <th></th>\n",
       "      <th>folder_name_url</th>\n",
       "      <th>document_name_x</th>\n",
       "      <th>document_download_link_x</th>\n",
       "      <th>document_date_x</th>\n",
       "      <th>doc_submitter_x</th>\n",
       "      <th>folder_name</th>\n",
       "      <th>participant_name_url</th>\n",
       "      <th>participant_name</th>\n",
       "      <th>participant_category_url</th>\n",
       "      <th>participant_category</th>\n",
       "      <th>...</th>\n",
       "      <th>year_folder</th>\n",
       "      <th>company_name_url</th>\n",
       "      <th>document_name_y</th>\n",
       "      <th>document_download_link_y</th>\n",
       "      <th>document_date_y</th>\n",
       "      <th>doc_submitter_y</th>\n",
       "      <th>company_name</th>\n",
       "      <th>r0_url</th>\n",
       "      <th>df</th>\n",
       "      <th>component</th>\n",
       "    </tr>\n",
       "  </thead>\n",
       "  <tbody>\n",
       "    <tr>\n",
       "      <th>0</th>\n",
       "      <td>https://apps.cer-rec.gc.ca/REGDOCS/Item/LoadResult/3899781</td>\n",
       "      <td>C04389-1 Aspenleaf Letter of Comment to CER on Canadian Mainline Contracting Application (30-01-2020) - A7C9V8</td>\n",
       "      <td>/REGDOCS/File/Download/3899852</td>\n",
       "      <td>2020-01-30</td>\n",
       "      <td>Aspenleaf Energy Limited</td>\n",
       "      <td>C04389 Aspenleaf Energy Limited - Aspenleaf Letter of Comment on Canadian Mainline Contracting Application</td>\n",
       "      <td>https://apps.cer-rec.gc.ca/REGDOCS/Item/LoadResult/3930705</td>\n",
       "      <td>Aspenleaf Energy Limited</td>\n",
       "      <td>https://apps.cer-rec.gc.ca/REGDOCS/Item/LoadResult/3908470</td>\n",
       "      <td>D - Commenters</td>\n",
       "      <td>...</td>\n",
       "      <td>2019 Applications</td>\n",
       "      <td>https://apps.cer-rec.gc.ca/REGDOCS/Item/LoadResult/155829</td>\n",
       "      <td>NaN</td>\n",
       "      <td>NaN</td>\n",
       "      <td>NaN</td>\n",
       "      <td>NaN</td>\n",
       "      <td>Enbridge Pipelines Inc.</td>\n",
       "      <td>https://apps.cer-rec.gc.ca/REGDOCS/Item/LoadResult/92835</td>\n",
       "      <td>df_r7_doc</td>\n",
       "      <td>applications</td>\n",
       "    </tr>\n",
       "  </tbody>\n",
       "</table></div>"
      ],
      "text/plain": [
       "                                     folder_name_url  \\\n",
       "0  https://apps.cer-rec.gc.ca/REGDOCS/Item/LoadRe...   \n",
       "\n",
       "                                     document_name_x  \\\n",
       "0  C04389-1 Aspenleaf Letter of Comment to CER on...   \n",
       "\n",
       "         document_download_link_x document_date_x           doc_submitter_x  \\\n",
       "0  /REGDOCS/File/Download/3899852      2020-01-30  Aspenleaf Energy Limited   \n",
       "\n",
       "                                         folder_name  \\\n",
       "0  C04389 Aspenleaf Energy Limited - Aspenleaf Le...   \n",
       "\n",
       "                                participant_name_url  \\\n",
       "0  https://apps.cer-rec.gc.ca/REGDOCS/Item/LoadRe...   \n",
       "\n",
       "           participant_name  \\\n",
       "0  Aspenleaf Energy Limited   \n",
       "\n",
       "                            participant_category_url participant_category  \\\n",
       "0  https://apps.cer-rec.gc.ca/REGDOCS/Item/LoadRe...       D - Commenters   \n",
       "\n",
       "   ...        year_folder                                   company_name_url  \\\n",
       "0  ...  2019 Applications  https://apps.cer-rec.gc.ca/REGDOCS/Item/LoadRe...   \n",
       "\n",
       "  document_name_y document_download_link_y document_date_y  doc_submitter_y  \\\n",
       "0             NaN                      NaN             NaN              NaN   \n",
       "\n",
       "              company_name                                             r0_url  \\\n",
       "0  Enbridge Pipelines Inc.  https://apps.cer-rec.gc.ca/REGDOCS/Item/LoadRe...   \n",
       "\n",
       "          df     component  \n",
       "0  df_r7_doc  applications  \n",
       "\n",
       "[1 rows x 23 columns]"
      ]
     },
     "execution_count": 30,
     "metadata": {},
     "output_type": "execute_result"
    }
   ],
   "source": [
    "df_r7_doc = documents(df_r7)\n",
    "\n",
    "df_r7_doc = df_r7_doc.merge(df_r6_path, on = 'r6_url').merge(df_r5_path, on = 'r5_url').merge(df_r4_path, on = 'r4_url').\\\n",
    "                            merge(df_r3_path, on = 'r3_url').merge(df_r2, on = 'r2_url').merge(df_r1)\n",
    "\n",
    "\n",
    "df_r7_doc.rename(columns={\"r1_text\" : \"company_name\", \"r1_url\" : \"company_name_url\",\n",
    "                          \"r2_text\" : \"year_folder\", 'r2_url' : \"year_folder_url\",\n",
    "                          \"r3_text\" : \"application_name\", \"r3_url\" : \"application_name_url\",\n",
    "                          \"r4_text\" : \"participant_category\", \"r4_url\" : \"participant_category_url\",\n",
    "                          \"r5_text\" : \"participant_name\", \"r5_url\" : \"participant_name_url\",\n",
    "                          \"r6_text\" : \"folder_name\", \"r6_url\" : \"folder_name_url\"}, inplace = True)\n",
    "\n",
    "df_r7_doc['df'] = 'df_r7_doc'\n",
    "\n",
    "df_r7_doc['year_folder'] = df_r7_doc['year_folder'].str.replace('Application$', 'Applications')\n",
    "\n",
    "df_r7_doc['component'] = 'applications'\n",
    "\n",
    "df_r7_doc.shape\n",
    "df_r7_doc.head(1)"
   ]
  },
  {
   "cell_type": "markdown",
   "id": "b9a3aacb",
   "metadata": {},
   "source": [
    "### Results 7 path"
   ]
  },
  {
   "cell_type": "code",
   "execution_count": 31,
   "id": "2d925fa4",
   "metadata": {},
   "outputs": [
    {
     "name": "stdout",
     "output_type": "stream",
     "text": [
      "(1, 3)\n"
     ]
    },
    {
     "data": {
      "text/html": [
       "<div><div id=d8bb19b0-2968-4cf7-bd1e-20a934b50283 style=\"display:none; background-color:#9D6CFF; color:white; width:200px; height:30px; padding-left:5px; border-radius:4px; flex-direction:row; justify-content:space-around; align-items:center;\" onmouseover=\"this.style.backgroundColor='#BA9BF8'\" onmouseout=\"this.style.backgroundColor='#9D6CFF'\" onclick=\"window.commands?.execute('create-mitosheet-from-dataframe-output');\">See Full Dataframe in Mito</div> <script> if (window.commands?.hasCommand('create-mitosheet-from-dataframe-output')) document.getElementById('d8bb19b0-2968-4cf7-bd1e-20a934b50283').style.display = 'flex' </script> <table border=\"1\" class=\"dataframe\">\n",
       "  <thead>\n",
       "    <tr style=\"text-align: right;\">\n",
       "      <th></th>\n",
       "      <th>r7_text</th>\n",
       "      <th>r7_url</th>\n",
       "      <th>r6_url</th>\n",
       "    </tr>\n",
       "  </thead>\n",
       "  <tbody>\n",
       "    <tr>\n",
       "      <th>0</th>\n",
       "      <td>C4-1b BP Canada Letter re Contact Information (A47731)</td>\n",
       "      <td>https://apps.cer-rec.gc.ca/REGDOCS/Item/LoadResult/865683</td>\n",
       "      <td>https://apps.cer-rec.gc.ca/REGDOCS/Item/LoadResult/853183</td>\n",
       "    </tr>\n",
       "  </tbody>\n",
       "</table></div>"
      ],
      "text/plain": [
       "                                             r7_text  \\\n",
       "0  C4-1b BP Canada Letter re Contact Information ...   \n",
       "\n",
       "                                              r7_url  \\\n",
       "0  https://apps.cer-rec.gc.ca/REGDOCS/Item/LoadRe...   \n",
       "\n",
       "                                              r6_url  \n",
       "0  https://apps.cer-rec.gc.ca/REGDOCS/Item/LoadRe...  "
      ]
     },
     "metadata": {},
     "output_type": "display_data"
    }
   ],
   "source": [
    "df_r7_path = path(df_r7, 'r7_text')"
   ]
  },
  {
   "cell_type": "markdown",
   "id": "46f12ee0",
   "metadata": {},
   "source": [
    "## Results 8 "
   ]
  },
  {
   "cell_type": "code",
   "execution_count": 32,
   "id": "6b33c61a",
   "metadata": {},
   "outputs": [],
   "source": [
    "# %%time\n",
    "# Wall time: 565 ms\n",
    "dfs_collector = []\n",
    "get_documents(source = df_r7_path['r7_url'], string1 = 'r8_', string2 = 'r7_')\n",
    "df_r8 = pd.concat(dfs_collector)#('df_r8.csv', 'r8_text', 'r8')"
   ]
  },
  {
   "cell_type": "markdown",
   "id": "f6883969",
   "metadata": {},
   "source": [
    "### Results 8 documents"
   ]
  },
  {
   "cell_type": "code",
   "execution_count": 33,
   "id": "aea32dbb",
   "metadata": {
    "scrolled": false
   },
   "outputs": [
    {
     "name": "stdout",
     "output_type": "stream",
     "text": [
      "(2, 5)\n"
     ]
    },
    {
     "data": {
      "text/html": [
       "<div><div id=dadc06c7-1afb-4282-83cf-e36304a892e7 style=\"display:none; background-color:#9D6CFF; color:white; width:200px; height:30px; padding-left:5px; border-radius:4px; flex-direction:row; justify-content:space-around; align-items:center;\" onmouseover=\"this.style.backgroundColor='#BA9BF8'\" onmouseout=\"this.style.backgroundColor='#9D6CFF'\" onclick=\"window.commands?.execute('create-mitosheet-from-dataframe-output');\">See Full Dataframe in Mito</div> <script> if (window.commands?.hasCommand('create-mitosheet-from-dataframe-output')) document.getElementById('dadc06c7-1afb-4282-83cf-e36304a892e7').style.display = 'flex' </script> <table border=\"1\" class=\"dataframe\">\n",
       "  <thead>\n",
       "    <tr style=\"text-align: right;\">\n",
       "      <th></th>\n",
       "      <th>r7_url</th>\n",
       "      <th>document_name</th>\n",
       "      <th>document_download_link</th>\n",
       "      <th>document_date</th>\n",
       "      <th>doc_submitter</th>\n",
       "    </tr>\n",
       "  </thead>\n",
       "  <tbody>\n",
       "    <tr>\n",
       "      <th>0</th>\n",
       "      <td>https://apps.cer-rec.gc.ca/REGDOCS/Item/LoadResult/865683</td>\n",
       "      <td>C4-1b Letter re BP Canada Contact information A3A4C3</td>\n",
       "      <td>/REGDOCS/File/Download/865576</td>\n",
       "      <td>2012-09-25</td>\n",
       "      <td>BP Canada Energy Group ULC</td>\n",
       "    </tr>\n",
       "  </tbody>\n",
       "</table></div>"
      ],
      "text/plain": [
       "                                              r7_url  \\\n",
       "0  https://apps.cer-rec.gc.ca/REGDOCS/Item/LoadRe...   \n",
       "\n",
       "                                       document_name  \\\n",
       "0  C4-1b Letter re BP Canada Contact information ...   \n",
       "\n",
       "          document_download_link document_date               doc_submitter  \n",
       "0  /REGDOCS/File/Download/865576    2012-09-25  BP Canada Energy Group ULC  "
      ]
     },
     "metadata": {},
     "output_type": "display_data"
    },
    {
     "data": {
      "text/plain": [
       "(2, 25)"
      ]
     },
     "execution_count": 33,
     "metadata": {},
     "output_type": "execute_result"
    },
    {
     "data": {
      "text/html": [
       "<div><div id=4e33ad99-7c33-432d-ab3b-35f32639a1e5 style=\"display:none; background-color:#9D6CFF; color:white; width:200px; height:30px; padding-left:5px; border-radius:4px; flex-direction:row; justify-content:space-around; align-items:center;\" onmouseover=\"this.style.backgroundColor='#BA9BF8'\" onmouseout=\"this.style.backgroundColor='#9D6CFF'\" onclick=\"window.commands?.execute('create-mitosheet-from-dataframe-output');\">See Full Dataframe in Mito</div> <script> if (window.commands?.hasCommand('create-mitosheet-from-dataframe-output')) document.getElementById('4e33ad99-7c33-432d-ab3b-35f32639a1e5').style.display = 'flex' </script> <table border=\"1\" class=\"dataframe\">\n",
       "  <thead>\n",
       "    <tr style=\"text-align: right;\">\n",
       "      <th></th>\n",
       "      <th>Notes_url</th>\n",
       "      <th>document_name_x</th>\n",
       "      <th>document_download_link_x</th>\n",
       "      <th>document_date_x</th>\n",
       "      <th>doc_submitter_x</th>\n",
       "      <th>Notes</th>\n",
       "      <th>folder_name_url</th>\n",
       "      <th>folder_name</th>\n",
       "      <th>participant_name_url</th>\n",
       "      <th>participant_name</th>\n",
       "      <th>...</th>\n",
       "      <th>year_folder</th>\n",
       "      <th>company_name_url</th>\n",
       "      <th>document_name_y</th>\n",
       "      <th>document_download_link_y</th>\n",
       "      <th>document_date_y</th>\n",
       "      <th>doc_submitter_y</th>\n",
       "      <th>company_name</th>\n",
       "      <th>r0_url</th>\n",
       "      <th>df</th>\n",
       "      <th>component</th>\n",
       "    </tr>\n",
       "  </thead>\n",
       "  <tbody>\n",
       "    <tr>\n",
       "      <th>0</th>\n",
       "      <td>https://apps.cer-rec.gc.ca/REGDOCS/Item/LoadResult/865683</td>\n",
       "      <td>C4-1b Letter re BP Canada Contact information A3A4C3</td>\n",
       "      <td>/REGDOCS/File/Download/865576</td>\n",
       "      <td>2012-09-25</td>\n",
       "      <td>BP Canada Energy Group ULC</td>\n",
       "      <td>C4-1b BP Canada Letter re Contact Information (A47731)</td>\n",
       "      <td>https://apps.cer-rec.gc.ca/REGDOCS/Item/LoadResult/853183</td>\n",
       "      <td>C4-01 BP Canada - Application for Intervenor Status (A46122)</td>\n",
       "      <td>https://apps.cer-rec.gc.ca/REGDOCS/Item/LoadResult/856018</td>\n",
       "      <td>C04 BP Canada Energy Group ULC</td>\n",
       "      <td>...</td>\n",
       "      <td>2012 Applications</td>\n",
       "      <td>https://apps.cer-rec.gc.ca/REGDOCS/Item/LoadResult/552980</td>\n",
       "      <td>NaN</td>\n",
       "      <td>NaN</td>\n",
       "      <td>NaN</td>\n",
       "      <td>NaN</td>\n",
       "      <td>Trans Mountain Pipeline ULC</td>\n",
       "      <td>https://apps.cer-rec.gc.ca/REGDOCS/Item/LoadResult/92835</td>\n",
       "      <td>df_r8_doc</td>\n",
       "      <td>applications</td>\n",
       "    </tr>\n",
       "  </tbody>\n",
       "</table></div>"
      ],
      "text/plain": [
       "                                           Notes_url  \\\n",
       "0  https://apps.cer-rec.gc.ca/REGDOCS/Item/LoadRe...   \n",
       "\n",
       "                                     document_name_x  \\\n",
       "0  C4-1b Letter re BP Canada Contact information ...   \n",
       "\n",
       "        document_download_link_x document_date_x             doc_submitter_x  \\\n",
       "0  /REGDOCS/File/Download/865576      2012-09-25  BP Canada Energy Group ULC   \n",
       "\n",
       "                                               Notes  \\\n",
       "0  C4-1b BP Canada Letter re Contact Information ...   \n",
       "\n",
       "                                     folder_name_url  \\\n",
       "0  https://apps.cer-rec.gc.ca/REGDOCS/Item/LoadRe...   \n",
       "\n",
       "                                         folder_name  \\\n",
       "0  C4-01 BP Canada - Application for Intervenor S...   \n",
       "\n",
       "                                participant_name_url  \\\n",
       "0  https://apps.cer-rec.gc.ca/REGDOCS/Item/LoadRe...   \n",
       "\n",
       "                 participant_name  ...        year_folder  \\\n",
       "0  C04 BP Canada Energy Group ULC  ...  2012 Applications   \n",
       "\n",
       "                                    company_name_url document_name_y  \\\n",
       "0  https://apps.cer-rec.gc.ca/REGDOCS/Item/LoadRe...             NaN   \n",
       "\n",
       "  document_download_link_y document_date_y doc_submitter_y  \\\n",
       "0                      NaN             NaN             NaN   \n",
       "\n",
       "                  company_name  \\\n",
       "0  Trans Mountain Pipeline ULC   \n",
       "\n",
       "                                              r0_url         df     component  \n",
       "0  https://apps.cer-rec.gc.ca/REGDOCS/Item/LoadRe...  df_r8_doc  applications  \n",
       "\n",
       "[1 rows x 25 columns]"
      ]
     },
     "execution_count": 33,
     "metadata": {},
     "output_type": "execute_result"
    }
   ],
   "source": [
    "df_r8_doc = documents(df_r8)\n",
    "df_r8_doc = df_r8_doc.merge(df_r7_path, on = 'r7_url').merge(df_r6_path, on = 'r6_url').merge(df_r5_path, on = 'r5_url').merge(df_r4_path, on = 'r4_url').\\\n",
    "                            merge(df_r3_path, on = 'r3_url').merge(df_r2, on = 'r2_url').merge(df_r1)\n",
    "\n",
    "df_r8_doc.rename(columns={\"r1_text\" : \"company_name\", \"r1_url\" : \"company_name_url\",\n",
    "                          \"r2_text\" : \"year_folder\", 'r2_url' : \"year_folder_url\",\n",
    "                          \"r3_text\" : \"application_name\", \"r3_url\" : \"application_name_url\",\n",
    "                          \"r4_text\" : \"participant_category\", \"r4_url\" : \"participant_category_url\",\n",
    "                          \"r5_text\" : \"participant_name\", \"r5_url\" : \"participant_name_url\",\n",
    "                          \"r6_text\" : \"folder_name\", \"r6_url\" : \"folder_name_url\",\n",
    "                          \"r7_text\" : \"Notes\", \"r7_url\" : \"Notes_url\"}, inplace = True)\n",
    "\n",
    "df_r8_doc['df'] = 'df_r8_doc'\n",
    "df_r8_doc['component'] = 'applications'\n",
    "\n",
    "df_r8_doc.shape\n",
    "df_r8_doc.head(1)"
   ]
  },
  {
   "cell_type": "markdown",
   "id": "76932456",
   "metadata": {},
   "source": [
    "# documents_all 1"
   ]
  },
  {
   "cell_type": "code",
   "execution_count": 34,
   "id": "6099088a",
   "metadata": {},
   "outputs": [],
   "source": [
    "documents_all = pd.concat([df_r4_doc_1, \n",
    "                           df_r5_doc_1, df_r5_doc_2, df_r5_doc_3, \n",
    "                           df_r6_doc_1, df_r6_doc_2, \n",
    "                           df_r7_doc, \n",
    "                           df_r8_doc])"
   ]
  },
  {
   "cell_type": "markdown",
   "id": "a5b6db81",
   "metadata": {},
   "source": [
    "# Featured Information"
   ]
  },
  {
   "cell_type": "markdown",
   "id": "6f361718",
   "metadata": {},
   "source": [
    "## Featured 1"
   ]
  },
  {
   "cell_type": "code",
   "execution_count": 35,
   "id": "61bd942f",
   "metadata": {},
   "outputs": [
    {
     "data": {
      "text/plain": [
       "application_name           0\n",
       "application_name_url       0\n",
       "company_name               0\n",
       "company_name_url           0\n",
       "year_folder             5827\n",
       "year_folder_url         5827\n",
       "dtype: int64"
      ]
     },
     "execution_count": 35,
     "metadata": {},
     "output_type": "execute_result"
    },
    {
     "data": {
      "text/html": [
       "<div><div id=853e27a2-69a2-460a-ba85-172eb7ea5541 style=\"display:none; background-color:#9D6CFF; color:white; width:200px; height:30px; padding-left:5px; border-radius:4px; flex-direction:row; justify-content:space-around; align-items:center;\" onmouseover=\"this.style.backgroundColor='#BA9BF8'\" onmouseout=\"this.style.backgroundColor='#9D6CFF'\" onclick=\"window.commands?.execute('create-mitosheet-from-dataframe-output');\">See Full Dataframe in Mito</div> <script> if (window.commands?.hasCommand('create-mitosheet-from-dataframe-output')) document.getElementById('853e27a2-69a2-460a-ba85-172eb7ea5541').style.display = 'flex' </script> <table border=\"1\" class=\"dataframe\">\n",
       "  <thead>\n",
       "    <tr style=\"text-align: right;\">\n",
       "      <th></th>\n",
       "      <th>application_name</th>\n",
       "      <th>application_name_url</th>\n",
       "      <th>company_name</th>\n",
       "      <th>company_name_url</th>\n",
       "      <th>year_folder</th>\n",
       "      <th>year_folder_url</th>\n",
       "      <th>application_name_featured_information_url</th>\n",
       "    </tr>\n",
       "  </thead>\n",
       "  <tbody>\n",
       "    <tr>\n",
       "      <th>0</th>\n",
       "      <td>1995-02-16 Application for Negotiated Toll Settlement RH-4-94</td>\n",
       "      <td>https://apps.cer-rec.gc.ca/REGDOCS/Item/LoadResult/285324</td>\n",
       "      <td>Interprovincial Pipe Line Limited</td>\n",
       "      <td>https://apps.cer-rec.gc.ca/REGDOCS/Item/LoadResult/93853</td>\n",
       "      <td>NaN</td>\n",
       "      <td>NaN</td>\n",
       "      <td>https://apps.cer-rec.gc.ca/REGDOCS/Item/LoadFeatured/285324</td>\n",
       "    </tr>\n",
       "  </tbody>\n",
       "</table></div>"
      ],
      "text/plain": [
       "                                    application_name  \\\n",
       "0  1995-02-16 Application for Negotiated Toll Set...   \n",
       "\n",
       "                                application_name_url  \\\n",
       "0  https://apps.cer-rec.gc.ca/REGDOCS/Item/LoadRe...   \n",
       "\n",
       "                        company_name  \\\n",
       "0  Interprovincial Pipe Line Limited   \n",
       "\n",
       "                                    company_name_url year_folder  \\\n",
       "0  https://apps.cer-rec.gc.ca/REGDOCS/Item/LoadRe...         NaN   \n",
       "\n",
       "  year_folder_url          application_name_featured_information_url  \n",
       "0             NaN  https://apps.cer-rec.gc.ca/REGDOCS/Item/LoadFe...  "
      ]
     },
     "execution_count": 35,
     "metadata": {},
     "output_type": "execute_result"
    }
   ],
   "source": [
    "df_f1 = pd.DataFrame(documents_all[['application_name', 'application_name_url', 'company_name', 'company_name_url',\n",
    "                                   'year_folder', 'year_folder_url']])\n",
    "df_f1.isnull().sum()\n",
    "df_f1 = df_f1.drop_duplicates().reset_index(drop = True)\n",
    "df_f1['application_name_featured_information_url'] = df_f1['application_name_url'].str.replace('Result', 'Featured')\n",
    "df_f1.head(1)"
   ]
  },
  {
   "cell_type": "markdown",
   "id": "5d479c0a",
   "metadata": {},
   "source": [
    "## Featured 2"
   ]
  },
  {
   "cell_type": "code",
   "execution_count": 36,
   "id": "bbfa7bbd",
   "metadata": {},
   "outputs": [
    {
     "name": "stdout",
     "output_type": "stream",
     "text": [
      "(191, 3)\n",
      "f2_text                                      0\n",
      "f2_url                                       0\n",
      "application_name_featured_information_url    0\n",
      "dtype: int64\n"
     ]
    },
    {
     "data": {
      "text/html": [
       "<div><div id=ea436ba9-61c5-4fa1-aad6-2645947bc3da style=\"display:none; background-color:#9D6CFF; color:white; width:200px; height:30px; padding-left:5px; border-radius:4px; flex-direction:row; justify-content:space-around; align-items:center;\" onmouseover=\"this.style.backgroundColor='#BA9BF8'\" onmouseout=\"this.style.backgroundColor='#9D6CFF'\" onclick=\"window.commands?.execute('create-mitosheet-from-dataframe-output');\">See Full Dataframe in Mito</div> <script> if (window.commands?.hasCommand('create-mitosheet-from-dataframe-output')) document.getElementById('ea436ba9-61c5-4fa1-aad6-2645947bc3da').style.display = 'flex' </script> <table border=\"1\" class=\"dataframe\">\n",
       "  <thead>\n",
       "    <tr style=\"text-align: right;\">\n",
       "      <th></th>\n",
       "      <th>f2_text</th>\n",
       "      <th>f2_url</th>\n",
       "      <th>application_name_featured_information_url</th>\n",
       "    </tr>\n",
       "  </thead>\n",
       "  <tbody>\n",
       "    <tr>\n",
       "      <th>0</th>\n",
       "      <td>2005-06-17 Application for Revised Tariff Filling - Petroleum Tariff No. 57 and Refined Tariff No. RP 25</td>\n",
       "      <td>https://apps.cer-rec.gc.ca/REGDOCS/Item/LoadResult/370395</td>\n",
       "      <td>https://apps.cer-rec.gc.ca/REGDOCS/Item/LoadFeatured/358605</td>\n",
       "    </tr>\n",
       "  </tbody>\n",
       "</table></div>"
      ],
      "text/plain": [
       "                                             f2_text  \\\n",
       "0  2005-06-17 Application for Revised Tariff Fill...   \n",
       "\n",
       "                                              f2_url  \\\n",
       "0  https://apps.cer-rec.gc.ca/REGDOCS/Item/LoadRe...   \n",
       "\n",
       "           application_name_featured_information_url  \n",
       "0  https://apps.cer-rec.gc.ca/REGDOCS/Item/LoadFe...  "
      ]
     },
     "metadata": {},
     "output_type": "display_data"
    },
    {
     "data": {
      "image/png": "[encoded data removed]",
      "text/plain": [
       "<Figure size 432x576 with 1 Axes>"
      ]
     },
     "metadata": {
      "needs_background": "light"
     },
     "output_type": "display_data"
    }
   ],
   "source": [
    "# %%time\n",
    "# Wall time: 1min 13s\n",
    "dfs_collector = []\n",
    "get_featured_information(source = df_f1['application_name_featured_information_url'], string1 = 'f2_', string2 = 'application_name_featured_information_')\n",
    "df_f2 = concat_dfs_collector('df_f2.csv', 'f2_text', 'f2')\n"
   ]
  },
  {
   "cell_type": "markdown",
   "id": "7af71d12",
   "metadata": {},
   "source": [
    "## Featured 3"
   ]
  },
  {
   "cell_type": "code",
   "execution_count": 37,
   "id": "e96c3631",
   "metadata": {
    "scrolled": false
   },
   "outputs": [
    {
     "name": "stdout",
     "output_type": "stream",
     "text": [
      "(1227, 7)\n",
      "f3_text                     83\n",
      "f3_url                      83\n",
      "f2_url                       0\n",
      "document_name             1144\n",
      "document_download_link    1144\n",
      "document_date             1144\n",
      "doc_submitter             1144\n",
      "dtype: int64\n"
     ]
    },
    {
     "data": {
      "text/html": [
       "<div><div id=be8d4284-f50f-43cb-b537-086f9e0bba28 style=\"display:none; background-color:#9D6CFF; color:white; width:200px; height:30px; padding-left:5px; border-radius:4px; flex-direction:row; justify-content:space-around; align-items:center;\" onmouseover=\"this.style.backgroundColor='#BA9BF8'\" onmouseout=\"this.style.backgroundColor='#9D6CFF'\" onclick=\"window.commands?.execute('create-mitosheet-from-dataframe-output');\">See Full Dataframe in Mito</div> <script> if (window.commands?.hasCommand('create-mitosheet-from-dataframe-output')) document.getElementById('be8d4284-f50f-43cb-b537-086f9e0bba28').style.display = 'flex' </script> <table border=\"1\" class=\"dataframe\">\n",
       "  <thead>\n",
       "    <tr style=\"text-align: right;\">\n",
       "      <th></th>\n",
       "      <th>f3_text</th>\n",
       "      <th>f3_url</th>\n",
       "      <th>f2_url</th>\n",
       "      <th>document_name</th>\n",
       "      <th>document_download_link</th>\n",
       "      <th>document_date</th>\n",
       "      <th>doc_submitter</th>\n",
       "    </tr>\n",
       "  </thead>\n",
       "  <tbody>\n",
       "    <tr>\n",
       "      <th>0</th>\n",
       "      <td>05-06-17 Kate Stables - Terasen Pipelines (Trans Mountain) Inc. Tariff No. 57 &amp; RP25 (A09981)</td>\n",
       "      <td>https://apps.cer-rec.gc.ca/REGDOCS/Item/LoadResult/369246</td>\n",
       "      <td>https://apps.cer-rec.gc.ca/REGDOCS/Item/LoadResult/370395</td>\n",
       "      <td>NaN</td>\n",
       "      <td>NaN</td>\n",
       "      <td>NaN</td>\n",
       "      <td>NaN</td>\n",
       "    </tr>\n",
       "  </tbody>\n",
       "</table></div>"
      ],
      "text/plain": [
       "                                             f3_text  \\\n",
       "0  05-06-17 Kate Stables - Terasen Pipelines (Tra...   \n",
       "\n",
       "                                              f3_url  \\\n",
       "0  https://apps.cer-rec.gc.ca/REGDOCS/Item/LoadRe...   \n",
       "\n",
       "                                              f2_url document_name  \\\n",
       "0  https://apps.cer-rec.gc.ca/REGDOCS/Item/LoadRe...           NaN   \n",
       "\n",
       "  document_download_link document_date doc_submitter  \n",
       "0                    NaN           NaN           NaN  "
      ]
     },
     "metadata": {},
     "output_type": "display_data"
    },
    {
     "data": {
      "image/png": "[encoded data removed]",
      "text/plain": [
       "<Figure size 432x576 with 1 Axes>"
      ]
     },
     "metadata": {
      "needs_background": "light"
     },
     "output_type": "display_data"
    }
   ],
   "source": [
    "# %%time\n",
    "# Wall time: 37.1 s\n",
    "dfs_collector = []\n",
    "get_documents(source = df_f2['f2_url'], string1 = 'f3_', string2 = 'f2_')\n",
    "df_f3 = concat_dfs_collector('df_f3.csv', 'f3_text', 'f3')"
   ]
  },
  {
   "cell_type": "markdown",
   "id": "ee43793e",
   "metadata": {},
   "source": [
    "### Featured 3 documents"
   ]
  },
  {
   "cell_type": "code",
   "execution_count": 38,
   "id": "4c27eadf",
   "metadata": {},
   "outputs": [
    {
     "name": "stdout",
     "output_type": "stream",
     "text": [
      "(51, 5)\n"
     ]
    },
    {
     "data": {
      "text/html": [
       "<div><div id=40309777-6040-48ce-b910-294d1b5ed516 style=\"display:none; background-color:#9D6CFF; color:white; width:200px; height:30px; padding-left:5px; border-radius:4px; flex-direction:row; justify-content:space-around; align-items:center;\" onmouseover=\"this.style.backgroundColor='#BA9BF8'\" onmouseout=\"this.style.backgroundColor='#9D6CFF'\" onclick=\"window.commands?.execute('create-mitosheet-from-dataframe-output');\">See Full Dataframe in Mito</div> <script> if (window.commands?.hasCommand('create-mitosheet-from-dataframe-output')) document.getElementById('40309777-6040-48ce-b910-294d1b5ed516').style.display = 'flex' </script> <table border=\"1\" class=\"dataframe\">\n",
       "  <thead>\n",
       "    <tr style=\"text-align: right;\">\n",
       "      <th></th>\n",
       "      <th>f2_url</th>\n",
       "      <th>document_name</th>\n",
       "      <th>document_download_link</th>\n",
       "      <th>document_date</th>\n",
       "      <th>doc_submitter</th>\n",
       "    </tr>\n",
       "  </thead>\n",
       "  <tbody>\n",
       "    <tr>\n",
       "      <th>0</th>\n",
       "      <td>https://apps.cer-rec.gc.ca/REGDOCS/Item/LoadResult/94126</td>\n",
       "      <td>2000-11-23 Motifs de décision MH-3-2000</td>\n",
       "      <td>/REGDOCS/File/Download/94136</td>\n",
       "      <td>2002-02-05</td>\n",
       "      <td>National Energy Board</td>\n",
       "    </tr>\n",
       "  </tbody>\n",
       "</table></div>"
      ],
      "text/plain": [
       "                                              f2_url  \\\n",
       "0  https://apps.cer-rec.gc.ca/REGDOCS/Item/LoadRe...   \n",
       "\n",
       "                             document_name        document_download_link  \\\n",
       "0  2000-11-23 Motifs de décision MH-3-2000  /REGDOCS/File/Download/94136   \n",
       "\n",
       "  document_date          doc_submitter  \n",
       "0    2002-02-05  National Energy Board  "
      ]
     },
     "metadata": {},
     "output_type": "display_data"
    },
    {
     "data": {
      "text/plain": [
       "(147, 13)"
      ]
     },
     "execution_count": 38,
     "metadata": {},
     "output_type": "execute_result"
    },
    {
     "data": {
      "text/html": [
       "<div><div id=e802d109-09ff-4a81-906a-62f4208c5893 style=\"display:none; background-color:#9D6CFF; color:white; width:200px; height:30px; padding-left:5px; border-radius:4px; flex-direction:row; justify-content:space-around; align-items:center;\" onmouseover=\"this.style.backgroundColor='#BA9BF8'\" onmouseout=\"this.style.backgroundColor='#9D6CFF'\" onclick=\"window.commands?.execute('create-mitosheet-from-dataframe-output');\">See Full Dataframe in Mito</div> <script> if (window.commands?.hasCommand('create-mitosheet-from-dataframe-output')) document.getElementById('e802d109-09ff-4a81-906a-62f4208c5893').style.display = 'flex' </script> <table border=\"1\" class=\"dataframe\">\n",
       "  <thead>\n",
       "    <tr style=\"text-align: right;\">\n",
       "      <th></th>\n",
       "      <th>fi_type_url</th>\n",
       "      <th>document_name</th>\n",
       "      <th>document_download_link</th>\n",
       "      <th>document_date</th>\n",
       "      <th>doc_submitter</th>\n",
       "      <th>fi_component</th>\n",
       "      <th>application_name_featured_information_url</th>\n",
       "      <th>application_name</th>\n",
       "      <th>application_name_url</th>\n",
       "      <th>company_name</th>\n",
       "      <th>company_name_url</th>\n",
       "      <th>year_folder</th>\n",
       "      <th>year_folder_url</th>\n",
       "    </tr>\n",
       "  </thead>\n",
       "  <tbody>\n",
       "    <tr>\n",
       "      <th>0</th>\n",
       "      <td>https://apps.cer-rec.gc.ca/REGDOCS/Item/LoadResult/94126</td>\n",
       "      <td>2000-11-23 Motifs de décision MH-3-2000</td>\n",
       "      <td>/REGDOCS/File/Download/94136</td>\n",
       "      <td>2002-02-05</td>\n",
       "      <td>National Energy Board</td>\n",
       "      <td>Reasons For Decision</td>\n",
       "      <td>https://apps.cer-rec.gc.ca/REGDOCS/Item/LoadFeatured/94103</td>\n",
       "      <td>2000-02-15 Suspension of Service Don Valley Lateral (MH-3-2000)</td>\n",
       "      <td>https://apps.cer-rec.gc.ca/REGDOCS/Item/LoadResult/94103</td>\n",
       "      <td>Trans-Northern Pipelines Inc</td>\n",
       "      <td>https://apps.cer-rec.gc.ca/REGDOCS/Item/LoadResult/93855</td>\n",
       "      <td>NaN</td>\n",
       "      <td>NaN</td>\n",
       "    </tr>\n",
       "  </tbody>\n",
       "</table></div>"
      ],
      "text/plain": [
       "                                         fi_type_url  \\\n",
       "0  https://apps.cer-rec.gc.ca/REGDOCS/Item/LoadRe...   \n",
       "\n",
       "                             document_name        document_download_link  \\\n",
       "0  2000-11-23 Motifs de décision MH-3-2000  /REGDOCS/File/Download/94136   \n",
       "\n",
       "  document_date          doc_submitter          fi_component  \\\n",
       "0    2002-02-05  National Energy Board  Reasons For Decision   \n",
       "\n",
       "           application_name_featured_information_url  \\\n",
       "0  https://apps.cer-rec.gc.ca/REGDOCS/Item/LoadFe...   \n",
       "\n",
       "                                    application_name  \\\n",
       "0  2000-02-15 Suspension of Service Don Valley La...   \n",
       "\n",
       "                                application_name_url  \\\n",
       "0  https://apps.cer-rec.gc.ca/REGDOCS/Item/LoadRe...   \n",
       "\n",
       "                   company_name  \\\n",
       "0  Trans-Northern Pipelines Inc   \n",
       "\n",
       "                                    company_name_url year_folder  \\\n",
       "0  https://apps.cer-rec.gc.ca/REGDOCS/Item/LoadRe...         NaN   \n",
       "\n",
       "  year_folder_url  \n",
       "0             NaN  "
      ]
     },
     "execution_count": 38,
     "metadata": {},
     "output_type": "execute_result"
    }
   ],
   "source": [
    "df_f3_doc = documents(df_f3) \n",
    "df_f3_doc = df_f3_doc.merge(df_f2).merge(df_f1)\n",
    "\n",
    "\n",
    "df_f3_doc.rename(columns = {\"f2_text\" : \"fi_component\", 'f2_url' : \"fi_type_url\"}, inplace = True)\n",
    "                          \n",
    "df_f3_doc.shape\n",
    "\n",
    "df_f3_doc.head(1)\n",
    "\n",
    "df_f3_doc['component'] = 'featured_information'\n",
    "df_f3_doc['df'] = 'df_f3_doc'\n",
    "\n",
    "df_f3_doc.to_csv('test.csv', index = False)"
   ]
  },
  {
   "cell_type": "markdown",
   "id": "2c6e021c",
   "metadata": {},
   "source": [
    "### Featured 3 path"
   ]
  },
  {
   "cell_type": "code",
   "execution_count": 39,
   "id": "aac7f043",
   "metadata": {},
   "outputs": [
    {
     "name": "stdout",
     "output_type": "stream",
     "text": [
      "(1144, 3)\n"
     ]
    },
    {
     "data": {
      "text/html": [
       "<div><div id=cd515e3c-7fb1-4fcb-b875-1618e0245963 style=\"display:none; background-color:#9D6CFF; color:white; width:200px; height:30px; padding-left:5px; border-radius:4px; flex-direction:row; justify-content:space-around; align-items:center;\" onmouseover=\"this.style.backgroundColor='#BA9BF8'\" onmouseout=\"this.style.backgroundColor='#9D6CFF'\" onclick=\"window.commands?.execute('create-mitosheet-from-dataframe-output');\">See Full Dataframe in Mito</div> <script> if (window.commands?.hasCommand('create-mitosheet-from-dataframe-output')) document.getElementById('cd515e3c-7fb1-4fcb-b875-1618e0245963').style.display = 'flex' </script> <table border=\"1\" class=\"dataframe\">\n",
       "  <thead>\n",
       "    <tr style=\"text-align: right;\">\n",
       "      <th></th>\n",
       "      <th>f3_text</th>\n",
       "      <th>f3_url</th>\n",
       "      <th>f2_url</th>\n",
       "    </tr>\n",
       "  </thead>\n",
       "  <tbody>\n",
       "    <tr>\n",
       "      <th>0</th>\n",
       "      <td>05-06-17 Kate Stables - Terasen Pipelines (Trans Mountain) Inc. Tariff No. 57 &amp; RP25 (A09981)</td>\n",
       "      <td>https://apps.cer-rec.gc.ca/REGDOCS/Item/LoadResult/369246</td>\n",
       "      <td>https://apps.cer-rec.gc.ca/REGDOCS/Item/LoadResult/370395</td>\n",
       "    </tr>\n",
       "  </tbody>\n",
       "</table></div>"
      ],
      "text/plain": [
       "                                             f3_text  \\\n",
       "0  05-06-17 Kate Stables - Terasen Pipelines (Tra...   \n",
       "\n",
       "                                              f3_url  \\\n",
       "0  https://apps.cer-rec.gc.ca/REGDOCS/Item/LoadRe...   \n",
       "\n",
       "                                              f2_url  \n",
       "0  https://apps.cer-rec.gc.ca/REGDOCS/Item/LoadRe...  "
      ]
     },
     "metadata": {},
     "output_type": "display_data"
    }
   ],
   "source": [
    "df_f3_path = path(df_f3, 'f3_text')"
   ]
  },
  {
   "cell_type": "markdown",
   "id": "e1f3f7f4",
   "metadata": {},
   "source": [
    "## Featured 4"
   ]
  },
  {
   "cell_type": "code",
   "execution_count": 40,
   "id": "960cadbe",
   "metadata": {},
   "outputs": [
    {
     "name": "stdout",
     "output_type": "stream",
     "text": [
      "(3076, 7)\n",
      "f4_text                   2775\n",
      "f4_url                    2775\n",
      "f3_url                       0\n",
      "document_name              301\n",
      "document_download_link     301\n",
      "document_date              301\n",
      "doc_submitter              301\n",
      "dtype: int64\n"
     ]
    },
    {
     "data": {
      "text/html": [
       "<div><div id=d2f6f4b1-1b1f-4898-b28e-d17a36643be4 style=\"display:none; background-color:#9D6CFF; color:white; width:200px; height:30px; padding-left:5px; border-radius:4px; flex-direction:row; justify-content:space-around; align-items:center;\" onmouseover=\"this.style.backgroundColor='#BA9BF8'\" onmouseout=\"this.style.backgroundColor='#9D6CFF'\" onclick=\"window.commands?.execute('create-mitosheet-from-dataframe-output');\">See Full Dataframe in Mito</div> <script> if (window.commands?.hasCommand('create-mitosheet-from-dataframe-output')) document.getElementById('d2f6f4b1-1b1f-4898-b28e-d17a36643be4').style.display = 'flex' </script> <table border=\"1\" class=\"dataframe\">\n",
       "  <thead>\n",
       "    <tr style=\"text-align: right;\">\n",
       "      <th></th>\n",
       "      <th>f4_text</th>\n",
       "      <th>f4_url</th>\n",
       "      <th>f3_url</th>\n",
       "      <th>document_name</th>\n",
       "      <th>document_download_link</th>\n",
       "      <th>document_date</th>\n",
       "      <th>doc_submitter</th>\n",
       "    </tr>\n",
       "  </thead>\n",
       "  <tbody>\n",
       "    <tr>\n",
       "      <th>0</th>\n",
       "      <td>NaN</td>\n",
       "      <td>NaN</td>\n",
       "      <td>https://apps.cer-rec.gc.ca/REGDOCS/Item/LoadResult/369246</td>\n",
       "      <td>A0R1Z4 - Terasen Pipelines (Trans Mountain) Inc. Revised Tariff Filing</td>\n",
       "      <td>/REGDOCS/File/Download/369247</td>\n",
       "      <td>2005-06-17</td>\n",
       "      <td>Kate Stables</td>\n",
       "    </tr>\n",
       "  </tbody>\n",
       "</table></div>"
      ],
      "text/plain": [
       "  f4_text f4_url                                             f3_url  \\\n",
       "0     NaN    NaN  https://apps.cer-rec.gc.ca/REGDOCS/Item/LoadRe...   \n",
       "\n",
       "                                       document_name  \\\n",
       "0  A0R1Z4 - Terasen Pipelines (Trans Mountain) In...   \n",
       "\n",
       "          document_download_link document_date doc_submitter  \n",
       "0  /REGDOCS/File/Download/369247    2005-06-17  Kate Stables  "
      ]
     },
     "metadata": {},
     "output_type": "display_data"
    },
    {
     "name": "stdout",
     "output_type": "stream",
     "text": [
      "CPU times: user 11.5 s, sys: 967 ms, total: 12.5 s\n",
      "Wall time: 43.4 s\n"
     ]
    },
    {
     "data": {
      "image/png": "[encoded data removed]",
      "text/plain": [
       "<Figure size 432x576 with 1 Axes>"
      ]
     },
     "metadata": {
      "needs_background": "light"
     },
     "output_type": "display_data"
    }
   ],
   "source": [
    "%%time\n",
    "\n",
    "dfs_collector = []\n",
    "get_documents(source = df_f3_path['f3_url'], string1 = 'f4_', string2 = 'f3_')\n",
    "df_f4 = concat_dfs_collector('df_f4.csv', 'f4_text', 'f4')"
   ]
  },
  {
   "cell_type": "markdown",
   "id": "be7c7fa6",
   "metadata": {},
   "source": [
    "### Featured 4 documents"
   ]
  },
  {
   "cell_type": "code",
   "execution_count": 41,
   "id": "8d17b9f5",
   "metadata": {},
   "outputs": [
    {
     "name": "stdout",
     "output_type": "stream",
     "text": [
      "(2754, 5)\n"
     ]
    },
    {
     "data": {
      "text/html": [
       "<div><div id=3cbe0315-5c90-43fe-90d8-658c1fc85f10 style=\"display:none; background-color:#9D6CFF; color:white; width:200px; height:30px; padding-left:5px; border-radius:4px; flex-direction:row; justify-content:space-around; align-items:center;\" onmouseover=\"this.style.backgroundColor='#BA9BF8'\" onmouseout=\"this.style.backgroundColor='#9D6CFF'\" onclick=\"window.commands?.execute('create-mitosheet-from-dataframe-output');\">See Full Dataframe in Mito</div> <script> if (window.commands?.hasCommand('create-mitosheet-from-dataframe-output')) document.getElementById('3cbe0315-5c90-43fe-90d8-658c1fc85f10').style.display = 'flex' </script> <table border=\"1\" class=\"dataframe\">\n",
       "  <thead>\n",
       "    <tr style=\"text-align: right;\">\n",
       "      <th></th>\n",
       "      <th>f3_url</th>\n",
       "      <th>document_name</th>\n",
       "      <th>document_download_link</th>\n",
       "      <th>document_date</th>\n",
       "      <th>doc_submitter</th>\n",
       "    </tr>\n",
       "  </thead>\n",
       "  <tbody>\n",
       "    <tr>\n",
       "      <th>0</th>\n",
       "      <td>https://apps.cer-rec.gc.ca/REGDOCS/Item/LoadResult/369246</td>\n",
       "      <td>A0R1Z4 - Terasen Pipelines (Trans Mountain) Inc. Revised Tariff Filing</td>\n",
       "      <td>/REGDOCS/File/Download/369247</td>\n",
       "      <td>2005-06-17</td>\n",
       "      <td>Kate Stables</td>\n",
       "    </tr>\n",
       "  </tbody>\n",
       "</table></div>"
      ],
      "text/plain": [
       "                                              f3_url  \\\n",
       "0  https://apps.cer-rec.gc.ca/REGDOCS/Item/LoadRe...   \n",
       "\n",
       "                                       document_name  \\\n",
       "0  A0R1Z4 - Terasen Pipelines (Trans Mountain) In...   \n",
       "\n",
       "          document_download_link document_date doc_submitter  \n",
       "0  /REGDOCS/File/Download/369247    2005-06-17  Kate Stables  "
      ]
     },
     "metadata": {},
     "output_type": "display_data"
    },
    {
     "data": {
      "text/plain": [
       "(2775, 15)"
      ]
     },
     "execution_count": 41,
     "metadata": {},
     "output_type": "execute_result"
    },
    {
     "data": {
      "text/html": [
       "<div><div id=70ea9b77-5f44-4be9-b97b-eb9813e4fa03 style=\"display:none; background-color:#9D6CFF; color:white; width:200px; height:30px; padding-left:5px; border-radius:4px; flex-direction:row; justify-content:space-around; align-items:center;\" onmouseover=\"this.style.backgroundColor='#BA9BF8'\" onmouseout=\"this.style.backgroundColor='#9D6CFF'\" onclick=\"window.commands?.execute('create-mitosheet-from-dataframe-output');\">See Full Dataframe in Mito</div> <script> if (window.commands?.hasCommand('create-mitosheet-from-dataframe-output')) document.getElementById('70ea9b77-5f44-4be9-b97b-eb9813e4fa03').style.display = 'flex' </script> <table border=\"1\" class=\"dataframe\">\n",
       "  <thead>\n",
       "    <tr style=\"text-align: right;\">\n",
       "      <th></th>\n",
       "      <th>folder_name_url</th>\n",
       "      <th>document_name</th>\n",
       "      <th>document_download_link</th>\n",
       "      <th>document_date</th>\n",
       "      <th>doc_submitter</th>\n",
       "      <th>folder_name</th>\n",
       "      <th>fi_type_url</th>\n",
       "      <th>fi_component</th>\n",
       "      <th>application_name_featured_information_url</th>\n",
       "      <th>application_name</th>\n",
       "      <th>application_name_url</th>\n",
       "      <th>company_name</th>\n",
       "      <th>company_name_url</th>\n",
       "      <th>year_folder</th>\n",
       "      <th>year_folder_url</th>\n",
       "    </tr>\n",
       "  </thead>\n",
       "  <tbody>\n",
       "    <tr>\n",
       "      <th>0</th>\n",
       "      <td>https://apps.cer-rec.gc.ca/REGDOCS/Item/LoadResult/369246</td>\n",
       "      <td>A0R1Z4 - Terasen Pipelines (Trans Mountain) Inc. Revised Tariff Filing</td>\n",
       "      <td>/REGDOCS/File/Download/369247</td>\n",
       "      <td>2005-06-17</td>\n",
       "      <td>Kate Stables</td>\n",
       "      <td>05-06-17 Kate Stables - Terasen Pipelines (Trans Mountain) Inc. Tariff No. 57 &amp; RP25 (A09981)</td>\n",
       "      <td>https://apps.cer-rec.gc.ca/REGDOCS/Item/LoadResult/370395</td>\n",
       "      <td>2005-06-17 Application for Revised Tariff Filling - Petroleum Tariff No. 57 and Refined Tariff No. RP 25</td>\n",
       "      <td>https://apps.cer-rec.gc.ca/REGDOCS/Item/LoadFeatured/358605</td>\n",
       "      <td>2005-04-08 - Application for Final 2005 Tolls</td>\n",
       "      <td>https://apps.cer-rec.gc.ca/REGDOCS/Item/LoadResult/358605</td>\n",
       "      <td>Terasen Pipelines (Trans Mountain) Inc. (Name changed to Trans Mountain Pipeline Inc.)</td>\n",
       "      <td>https://apps.cer-rec.gc.ca/REGDOCS/Item/LoadResult/267614</td>\n",
       "      <td>NaN</td>\n",
       "      <td>NaN</td>\n",
       "    </tr>\n",
       "  </tbody>\n",
       "</table></div>"
      ],
      "text/plain": [
       "                                     folder_name_url  \\\n",
       "0  https://apps.cer-rec.gc.ca/REGDOCS/Item/LoadRe...   \n",
       "\n",
       "                                       document_name  \\\n",
       "0  A0R1Z4 - Terasen Pipelines (Trans Mountain) In...   \n",
       "\n",
       "          document_download_link document_date doc_submitter  \\\n",
       "0  /REGDOCS/File/Download/369247    2005-06-17  Kate Stables   \n",
       "\n",
       "                                         folder_name  \\\n",
       "0  05-06-17 Kate Stables - Terasen Pipelines (Tra...   \n",
       "\n",
       "                                         fi_type_url  \\\n",
       "0  https://apps.cer-rec.gc.ca/REGDOCS/Item/LoadRe...   \n",
       "\n",
       "                                        fi_component  \\\n",
       "0  2005-06-17 Application for Revised Tariff Fill...   \n",
       "\n",
       "           application_name_featured_information_url  \\\n",
       "0  https://apps.cer-rec.gc.ca/REGDOCS/Item/LoadFe...   \n",
       "\n",
       "                                application_name  \\\n",
       "0  2005-04-08 - Application for Final 2005 Tolls   \n",
       "\n",
       "                                application_name_url  \\\n",
       "0  https://apps.cer-rec.gc.ca/REGDOCS/Item/LoadRe...   \n",
       "\n",
       "                                        company_name  \\\n",
       "0  Terasen Pipelines (Trans Mountain) Inc. (Name ...   \n",
       "\n",
       "                                    company_name_url year_folder  \\\n",
       "0  https://apps.cer-rec.gc.ca/REGDOCS/Item/LoadRe...         NaN   \n",
       "\n",
       "  year_folder_url  \n",
       "0             NaN  "
      ]
     },
     "execution_count": 41,
     "metadata": {},
     "output_type": "execute_result"
    }
   ],
   "source": [
    "df_f4_doc = documents(df_f4) \n",
    "df_f4_doc = df_f4_doc.merge(df_f3_path).merge(df_f2).merge(df_f1)\n",
    "\n",
    "df_f4_doc.rename(columns = {\"f2_text\" : \"fi_component\", 'f2_url' : \"fi_type_url\",\n",
    "                            \"f3_text\" : \"folder_name\", \"f3_url\" : \"folder_name_url\"}, inplace = True)\n",
    "                          \n",
    "df_f4_doc.shape\n",
    "\n",
    "df_f4_doc.head(1)\n",
    "df_f4_doc['component'] = 'featured_information'\n",
    "df_f4_doc['df'] = 'df_f4_doc'\n",
    "\n",
    "df_f4_doc.to_csv('test.csv', index = False)"
   ]
  },
  {
   "cell_type": "markdown",
   "id": "78e62cdf",
   "metadata": {},
   "source": [
    "### Featured 4 path"
   ]
  },
  {
   "cell_type": "code",
   "execution_count": 42,
   "id": "01d62d0f",
   "metadata": {},
   "outputs": [
    {
     "name": "stdout",
     "output_type": "stream",
     "text": [
      "(301, 3)\n"
     ]
    },
    {
     "data": {
      "text/html": [
       "<div><div id=dbfa6fdc-357d-44b1-9965-abccea0f7af0 style=\"display:none; background-color:#9D6CFF; color:white; width:200px; height:30px; padding-left:5px; border-radius:4px; flex-direction:row; justify-content:space-around; align-items:center;\" onmouseover=\"this.style.backgroundColor='#BA9BF8'\" onmouseout=\"this.style.backgroundColor='#9D6CFF'\" onclick=\"window.commands?.execute('create-mitosheet-from-dataframe-output');\">See Full Dataframe in Mito</div> <script> if (window.commands?.hasCommand('create-mitosheet-from-dataframe-output')) document.getElementById('dbfa6fdc-357d-44b1-9965-abccea0f7af0').style.display = 'flex' </script> <table border=\"1\" class=\"dataframe\">\n",
       "  <thead>\n",
       "    <tr style=\"text-align: right;\">\n",
       "      <th></th>\n",
       "      <th>f4_text</th>\n",
       "      <th>f4_url</th>\n",
       "      <th>f3_url</th>\n",
       "    </tr>\n",
       "  </thead>\n",
       "  <tbody>\n",
       "    <tr>\n",
       "      <th>0</th>\n",
       "      <td>A82131 National Energy Board - Letter to Alliance Pipeline Limited Partnership, by its General Partner, Alliance Pipeline Ltd. – Tariff Amendments</td>\n",
       "      <td>https://apps.cer-rec.gc.ca/REGDOCS/Item/LoadResult/3211069</td>\n",
       "      <td>https://apps.cer-rec.gc.ca/REGDOCS/Item/LoadResult/3084094</td>\n",
       "    </tr>\n",
       "  </tbody>\n",
       "</table></div>"
      ],
      "text/plain": [
       "                                             f4_text  \\\n",
       "0  A82131 National Energy Board - Letter to Allia...   \n",
       "\n",
       "                                              f4_url  \\\n",
       "0  https://apps.cer-rec.gc.ca/REGDOCS/Item/LoadRe...   \n",
       "\n",
       "                                              f3_url  \n",
       "0  https://apps.cer-rec.gc.ca/REGDOCS/Item/LoadRe...  "
      ]
     },
     "metadata": {},
     "output_type": "display_data"
    }
   ],
   "source": [
    "df_f4_path = path(df_f4, 'f4_text')"
   ]
  },
  {
   "cell_type": "markdown",
   "id": "a74656ff",
   "metadata": {},
   "source": [
    "## Featured 5"
   ]
  },
  {
   "cell_type": "code",
   "execution_count": 43,
   "id": "c1ea56d6",
   "metadata": {},
   "outputs": [
    {
     "name": "stdout",
     "output_type": "stream",
     "text": [
      "(820, 7)\n",
      "f5_text                   694\n",
      "f5_url                    694\n",
      "f4_url                      0\n",
      "document_name             126\n",
      "document_download_link    126\n",
      "document_date             126\n",
      "doc_submitter             126\n",
      "dtype: int64\n"
     ]
    },
    {
     "data": {
      "text/html": [
       "<div><div id=fc5e892c-394c-4bd4-a07d-3ac99f82c890 style=\"display:none; background-color:#9D6CFF; color:white; width:200px; height:30px; padding-left:5px; border-radius:4px; flex-direction:row; justify-content:space-around; align-items:center;\" onmouseover=\"this.style.backgroundColor='#BA9BF8'\" onmouseout=\"this.style.backgroundColor='#9D6CFF'\" onclick=\"window.commands?.execute('create-mitosheet-from-dataframe-output');\">See Full Dataframe in Mito</div> <script> if (window.commands?.hasCommand('create-mitosheet-from-dataframe-output')) document.getElementById('fc5e892c-394c-4bd4-a07d-3ac99f82c890').style.display = 'flex' </script> <table border=\"1\" class=\"dataframe\">\n",
       "  <thead>\n",
       "    <tr style=\"text-align: right;\">\n",
       "      <th></th>\n",
       "      <th>f5_text</th>\n",
       "      <th>f5_url</th>\n",
       "      <th>f4_url</th>\n",
       "      <th>document_name</th>\n",
       "      <th>document_download_link</th>\n",
       "      <th>document_date</th>\n",
       "      <th>doc_submitter</th>\n",
       "    </tr>\n",
       "  </thead>\n",
       "  <tbody>\n",
       "    <tr>\n",
       "      <th>0</th>\n",
       "      <td>NaN</td>\n",
       "      <td>NaN</td>\n",
       "      <td>https://apps.cer-rec.gc.ca/REGDOCS/Item/LoadResult/3074736</td>\n",
       "      <td>A80659-1 Letter to Alliance Pipeline Ltd. - A5H0T3</td>\n",
       "      <td>/REGDOCS/File/Download/3081024</td>\n",
       "      <td>2016-11-16</td>\n",
       "      <td>National Energy Board</td>\n",
       "    </tr>\n",
       "  </tbody>\n",
       "</table></div>"
      ],
      "text/plain": [
       "  f5_text f5_url                                             f4_url  \\\n",
       "0     NaN    NaN  https://apps.cer-rec.gc.ca/REGDOCS/Item/LoadRe...   \n",
       "\n",
       "                                       document_name  \\\n",
       "0  A80659-1 Letter to Alliance Pipeline Ltd. - A5...   \n",
       "\n",
       "           document_download_link document_date          doc_submitter  \n",
       "0  /REGDOCS/File/Download/3081024    2016-11-16  National Energy Board  "
      ]
     },
     "metadata": {},
     "output_type": "display_data"
    },
    {
     "name": "stdout",
     "output_type": "stream",
     "text": [
      "CPU times: user 3.34 s, sys: 287 ms, total: 3.63 s\n",
      "Wall time: 14.3 s\n"
     ]
    },
    {
     "data": {
      "image/png": "[encoded data removed]",
      "text/plain": [
       "<Figure size 432x576 with 1 Axes>"
      ]
     },
     "metadata": {
      "needs_background": "light"
     },
     "output_type": "display_data"
    }
   ],
   "source": [
    "%%time\n",
    "\n",
    "dfs_collector = []\n",
    "get_documents(source = df_f4_path['f4_url'], string1 = 'f5_', string2 = 'f4_')\n",
    "df_f5 = concat_dfs_collector('df_f5.csv', 'f5_text', 'f5')"
   ]
  },
  {
   "cell_type": "markdown",
   "id": "e3474589",
   "metadata": {},
   "source": [
    "### Featured 5 path"
   ]
  },
  {
   "cell_type": "code",
   "execution_count": 44,
   "id": "ed49d5f3",
   "metadata": {},
   "outputs": [
    {
     "name": "stdout",
     "output_type": "stream",
     "text": [
      "(126, 3)\n"
     ]
    },
    {
     "data": {
      "text/html": [
       "<div><div id=29bb421f-3844-4378-b8b7-40919eb22815 style=\"display:none; background-color:#9D6CFF; color:white; width:200px; height:30px; padding-left:5px; border-radius:4px; flex-direction:row; justify-content:space-around; align-items:center;\" onmouseover=\"this.style.backgroundColor='#BA9BF8'\" onmouseout=\"this.style.backgroundColor='#9D6CFF'\" onclick=\"window.commands?.execute('create-mitosheet-from-dataframe-output');\">See Full Dataframe in Mito</div> <script> if (window.commands?.hasCommand('create-mitosheet-from-dataframe-output')) document.getElementById('29bb421f-3844-4378-b8b7-40919eb22815').style.display = 'flex' </script> <table border=\"1\" class=\"dataframe\">\n",
       "  <thead>\n",
       "    <tr style=\"text-align: right;\">\n",
       "      <th></th>\n",
       "      <th>f5_text</th>\n",
       "      <th>f5_url</th>\n",
       "      <th>f4_url</th>\n",
       "    </tr>\n",
       "  </thead>\n",
       "  <tbody>\n",
       "    <tr>\n",
       "      <th>0</th>\n",
       "      <td>A80755 BP Canada Energy Group ULC - Alliance Pipeline PPA Fee Review and Variance - BP Canada Participation Letter</td>\n",
       "      <td>https://apps.cer-rec.gc.ca/REGDOCS/Item/LoadResult/3083642</td>\n",
       "      <td>https://apps.cer-rec.gc.ca/REGDOCS/Item/LoadResult/3084539</td>\n",
       "    </tr>\n",
       "  </tbody>\n",
       "</table></div>"
      ],
      "text/plain": [
       "                                             f5_text  \\\n",
       "0  A80755 BP Canada Energy Group ULC - Alliance P...   \n",
       "\n",
       "                                              f5_url  \\\n",
       "0  https://apps.cer-rec.gc.ca/REGDOCS/Item/LoadRe...   \n",
       "\n",
       "                                              f4_url  \n",
       "0  https://apps.cer-rec.gc.ca/REGDOCS/Item/LoadRe...  "
      ]
     },
     "metadata": {},
     "output_type": "display_data"
    }
   ],
   "source": [
    "df_f5_path = path(df_f5, 'f5_text')"
   ]
  },
  {
   "cell_type": "markdown",
   "id": "a1c1fb21",
   "metadata": {},
   "source": [
    "### Featured 5 documents"
   ]
  },
  {
   "cell_type": "code",
   "execution_count": 45,
   "id": "9744acbe",
   "metadata": {},
   "outputs": [
    {
     "name": "stdout",
     "output_type": "stream",
     "text": [
      "(694, 5)\n"
     ]
    },
    {
     "data": {
      "text/html": [
       "<div><div id=dc4cb8ff-3c3f-48d4-8274-2d402a84be48 style=\"display:none; background-color:#9D6CFF; color:white; width:200px; height:30px; padding-left:5px; border-radius:4px; flex-direction:row; justify-content:space-around; align-items:center;\" onmouseover=\"this.style.backgroundColor='#BA9BF8'\" onmouseout=\"this.style.backgroundColor='#9D6CFF'\" onclick=\"window.commands?.execute('create-mitosheet-from-dataframe-output');\">See Full Dataframe in Mito</div> <script> if (window.commands?.hasCommand('create-mitosheet-from-dataframe-output')) document.getElementById('dc4cb8ff-3c3f-48d4-8274-2d402a84be48').style.display = 'flex' </script> <table border=\"1\" class=\"dataframe\">\n",
       "  <thead>\n",
       "    <tr style=\"text-align: right;\">\n",
       "      <th></th>\n",
       "      <th>f4_url</th>\n",
       "      <th>document_name</th>\n",
       "      <th>document_download_link</th>\n",
       "      <th>document_date</th>\n",
       "      <th>doc_submitter</th>\n",
       "    </tr>\n",
       "  </thead>\n",
       "  <tbody>\n",
       "    <tr>\n",
       "      <th>0</th>\n",
       "      <td>https://apps.cer-rec.gc.ca/REGDOCS/Item/LoadResult/3074736</td>\n",
       "      <td>A80659-1 Letter to Alliance Pipeline Ltd. - A5H0T3</td>\n",
       "      <td>/REGDOCS/File/Download/3081024</td>\n",
       "      <td>2016-11-16</td>\n",
       "      <td>National Energy Board</td>\n",
       "    </tr>\n",
       "  </tbody>\n",
       "</table></div>"
      ],
      "text/plain": [
       "                                              f4_url  \\\n",
       "0  https://apps.cer-rec.gc.ca/REGDOCS/Item/LoadRe...   \n",
       "\n",
       "                                       document_name  \\\n",
       "0  A80659-1 Letter to Alliance Pipeline Ltd. - A5...   \n",
       "\n",
       "           document_download_link document_date          doc_submitter  \n",
       "0  /REGDOCS/File/Download/3081024    2016-11-16  National Energy Board  "
      ]
     },
     "metadata": {},
     "output_type": "display_data"
    },
    {
     "data": {
      "text/plain": [
       "(694, 17)"
      ]
     },
     "execution_count": 45,
     "metadata": {},
     "output_type": "execute_result"
    },
    {
     "data": {
      "text/html": [
       "<div><div id=780f3c7c-64dc-4ad7-97d8-fcb99514485c style=\"display:none; background-color:#9D6CFF; color:white; width:200px; height:30px; padding-left:5px; border-radius:4px; flex-direction:row; justify-content:space-around; align-items:center;\" onmouseover=\"this.style.backgroundColor='#BA9BF8'\" onmouseout=\"this.style.backgroundColor='#9D6CFF'\" onclick=\"window.commands?.execute('create-mitosheet-from-dataframe-output');\">See Full Dataframe in Mito</div> <script> if (window.commands?.hasCommand('create-mitosheet-from-dataframe-output')) document.getElementById('780f3c7c-64dc-4ad7-97d8-fcb99514485c').style.display = 'flex' </script> <table border=\"1\" class=\"dataframe\">\n",
       "  <thead>\n",
       "    <tr style=\"text-align: right;\">\n",
       "      <th></th>\n",
       "      <th>folder_name_url</th>\n",
       "      <th>document_name</th>\n",
       "      <th>document_download_link</th>\n",
       "      <th>document_date</th>\n",
       "      <th>doc_submitter</th>\n",
       "      <th>folder_name</th>\n",
       "      <th>participant_name_url</th>\n",
       "      <th>participant_name</th>\n",
       "      <th>fi_type_url</th>\n",
       "      <th>fi_component</th>\n",
       "      <th>application_name_featured_information_url</th>\n",
       "      <th>application_name</th>\n",
       "      <th>application_name_url</th>\n",
       "      <th>company_name</th>\n",
       "      <th>company_name_url</th>\n",
       "      <th>year_folder</th>\n",
       "      <th>year_folder_url</th>\n",
       "    </tr>\n",
       "  </thead>\n",
       "  <tbody>\n",
       "    <tr>\n",
       "      <th>0</th>\n",
       "      <td>https://apps.cer-rec.gc.ca/REGDOCS/Item/LoadResult/3074736</td>\n",
       "      <td>A80659-1 Letter to Alliance Pipeline Ltd. - A5H0T3</td>\n",
       "      <td>/REGDOCS/File/Download/3081024</td>\n",
       "      <td>2016-11-16</td>\n",
       "      <td>National Energy Board</td>\n",
       "      <td>A80659 National Energy Board - Letter to Alliance Pipeline Ltd. – Review and Variance of NEB 21 July 2016 Letter Decision - PPA Fee</td>\n",
       "      <td>https://apps.cer-rec.gc.ca/REGDOCS/Item/LoadResult/3084094</td>\n",
       "      <td>A - National Energy Board</td>\n",
       "      <td>https://apps.cer-rec.gc.ca/REGDOCS/Item/LoadResult/3027281</td>\n",
       "      <td>2016-08-22 - Application for Review and Variance of the National Energy Board 21 July 2016 Letter Decision - PPA Fee (RHW-002-2016)</td>\n",
       "      <td>https://apps.cer-rec.gc.ca/REGDOCS/Item/LoadFeatured/2922482</td>\n",
       "      <td>2016-02-01 - Application for Approval of New Services and Related Tolls and Tariffs for Service on the Alliance Pipeline</td>\n",
       "      <td>https://apps.cer-rec.gc.ca/REGDOCS/Item/LoadResult/2922482</td>\n",
       "      <td>Alliance Pipeline Ltd.</td>\n",
       "      <td>https://apps.cer-rec.gc.ca/REGDOCS/Item/LoadResult/285030</td>\n",
       "      <td>NaN</td>\n",
       "      <td>NaN</td>\n",
       "    </tr>\n",
       "  </tbody>\n",
       "</table></div>"
      ],
      "text/plain": [
       "                                     folder_name_url  \\\n",
       "0  https://apps.cer-rec.gc.ca/REGDOCS/Item/LoadRe...   \n",
       "\n",
       "                                       document_name  \\\n",
       "0  A80659-1 Letter to Alliance Pipeline Ltd. - A5...   \n",
       "\n",
       "           document_download_link document_date          doc_submitter  \\\n",
       "0  /REGDOCS/File/Download/3081024    2016-11-16  National Energy Board   \n",
       "\n",
       "                                         folder_name  \\\n",
       "0  A80659 National Energy Board - Letter to Allia...   \n",
       "\n",
       "                                participant_name_url  \\\n",
       "0  https://apps.cer-rec.gc.ca/REGDOCS/Item/LoadRe...   \n",
       "\n",
       "            participant_name  \\\n",
       "0  A - National Energy Board   \n",
       "\n",
       "                                         fi_type_url  \\\n",
       "0  https://apps.cer-rec.gc.ca/REGDOCS/Item/LoadRe...   \n",
       "\n",
       "                                        fi_component  \\\n",
       "0  2016-08-22 - Application for Review and Varian...   \n",
       "\n",
       "           application_name_featured_information_url  \\\n",
       "0  https://apps.cer-rec.gc.ca/REGDOCS/Item/LoadFe...   \n",
       "\n",
       "                                    application_name  \\\n",
       "0  2016-02-01 - Application for Approval of New S...   \n",
       "\n",
       "                                application_name_url            company_name  \\\n",
       "0  https://apps.cer-rec.gc.ca/REGDOCS/Item/LoadRe...  Alliance Pipeline Ltd.   \n",
       "\n",
       "                                    company_name_url year_folder  \\\n",
       "0  https://apps.cer-rec.gc.ca/REGDOCS/Item/LoadRe...         NaN   \n",
       "\n",
       "  year_folder_url  \n",
       "0             NaN  "
      ]
     },
     "execution_count": 45,
     "metadata": {},
     "output_type": "execute_result"
    }
   ],
   "source": [
    "df_f5_doc = documents(df_f5) \n",
    "df_f5_doc = df_f5_doc.merge(df_f4_path).merge(df_f3_path).merge(df_f2).merge(df_f1)\n",
    "\n",
    "df_f5_doc.rename(columns = {\"f2_text\" : \"fi_component\", 'f2_url' : \"fi_type_url\",\n",
    "                            \"f3_text\" : \"participant_name\", \"f3_url\" : \"participant_name_url\",\n",
    "                            \"f4_text\" : \"folder_name\", \"f4_url\" : \"folder_name_url\"}, inplace = True)\n",
    "                          \n",
    "df_f5_doc.shape\n",
    "\n",
    "df_f5_doc.head(1)\n",
    "df_f5_doc['component'] = 'featured_information'\n",
    "df_f5_doc['df'] = 'df_f5_doc'\n",
    "\n",
    "df_f5_doc.to_csv('test.csv', index = False)"
   ]
  },
  {
   "cell_type": "markdown",
   "id": "191d080c",
   "metadata": {},
   "source": [
    "## Featured 6"
   ]
  },
  {
   "cell_type": "code",
   "execution_count": 46,
   "id": "9f207b2c",
   "metadata": {},
   "outputs": [
    {
     "name": "stdout",
     "output_type": "stream",
     "text": [
      "(362, 7)\n",
      "f6_text                   362\n",
      "f6_url                    362\n",
      "f5_url                      0\n",
      "document_name               0\n",
      "document_download_link      0\n",
      "document_date               0\n",
      "doc_submitter               0\n",
      "dtype: int64\n"
     ]
    },
    {
     "data": {
      "text/html": [
       "<div><div id=369d00d1-c53a-4ba7-b030-a7bbee144457 style=\"display:none; background-color:#9D6CFF; color:white; width:200px; height:30px; padding-left:5px; border-radius:4px; flex-direction:row; justify-content:space-around; align-items:center;\" onmouseover=\"this.style.backgroundColor='#BA9BF8'\" onmouseout=\"this.style.backgroundColor='#9D6CFF'\" onclick=\"window.commands?.execute('create-mitosheet-from-dataframe-output');\">See Full Dataframe in Mito</div> <script> if (window.commands?.hasCommand('create-mitosheet-from-dataframe-output')) document.getElementById('369d00d1-c53a-4ba7-b030-a7bbee144457').style.display = 'flex' </script> <table border=\"1\" class=\"dataframe\">\n",
       "  <thead>\n",
       "    <tr style=\"text-align: right;\">\n",
       "      <th></th>\n",
       "      <th>f6_text</th>\n",
       "      <th>f6_url</th>\n",
       "      <th>f5_url</th>\n",
       "      <th>document_name</th>\n",
       "      <th>document_download_link</th>\n",
       "      <th>document_date</th>\n",
       "      <th>doc_submitter</th>\n",
       "    </tr>\n",
       "  </thead>\n",
       "  <tbody>\n",
       "    <tr>\n",
       "      <th>0</th>\n",
       "      <td>NaN</td>\n",
       "      <td>NaN</td>\n",
       "      <td>https://apps.cer-rec.gc.ca/REGDOCS/Item/LoadResult/3117318</td>\n",
       "      <td>A81097-1 ConocoPhillips Letter of Comment - File OF-Tolls-Group1-A159-2016-01 02 - A5H7I5</td>\n",
       "      <td>/REGDOCS/File/Download/3117983</td>\n",
       "      <td>2016-12-20</td>\n",
       "      <td>ConocoPhillips Canada</td>\n",
       "    </tr>\n",
       "  </tbody>\n",
       "</table></div>"
      ],
      "text/plain": [
       "   f6_text  f6_url                                             f5_url  \\\n",
       "0      NaN     NaN  https://apps.cer-rec.gc.ca/REGDOCS/Item/LoadRe...   \n",
       "\n",
       "                                       document_name  \\\n",
       "0  A81097-1 ConocoPhillips Letter of Comment - Fi...   \n",
       "\n",
       "           document_download_link document_date          doc_submitter  \n",
       "0  /REGDOCS/File/Download/3117983    2016-12-20  ConocoPhillips Canada  "
      ]
     },
     "metadata": {},
     "output_type": "display_data"
    },
    {
     "name": "stdout",
     "output_type": "stream",
     "text": [
      "plot not available\n",
      "CPU times: user 1.51 s, sys: 151 ms, total: 1.66 s\n",
      "Wall time: 4.49 s\n"
     ]
    },
    {
     "data": {
      "image/png": "[encoded data removed]",
      "text/plain": [
       "<Figure size 432x576 with 1 Axes>"
      ]
     },
     "metadata": {
      "needs_background": "light"
     },
     "output_type": "display_data"
    }
   ],
   "source": [
    "%%time\n",
    "\n",
    "dfs_collector = []\n",
    "get_documents(source = df_f5_path['f5_url'], string1 = 'f6_', string2 = 'f5_') #THE END\n",
    "df_f6 = concat_dfs_collector('df_f6.csv', 'f6_text', 'f6')"
   ]
  },
  {
   "cell_type": "markdown",
   "id": "0c45785e",
   "metadata": {},
   "source": [
    "### Featured 6 documents"
   ]
  },
  {
   "cell_type": "code",
   "execution_count": 47,
   "id": "42bd1345",
   "metadata": {
    "scrolled": false
   },
   "outputs": [
    {
     "name": "stdout",
     "output_type": "stream",
     "text": [
      "(362, 5)\n"
     ]
    },
    {
     "data": {
      "text/html": [
       "<div><div id=47f28556-c22b-4ec5-aa3c-a06423b3565f style=\"display:none; background-color:#9D6CFF; color:white; width:200px; height:30px; padding-left:5px; border-radius:4px; flex-direction:row; justify-content:space-around; align-items:center;\" onmouseover=\"this.style.backgroundColor='#BA9BF8'\" onmouseout=\"this.style.backgroundColor='#9D6CFF'\" onclick=\"window.commands?.execute('create-mitosheet-from-dataframe-output');\">See Full Dataframe in Mito</div> <script> if (window.commands?.hasCommand('create-mitosheet-from-dataframe-output')) document.getElementById('47f28556-c22b-4ec5-aa3c-a06423b3565f').style.display = 'flex' </script> <table border=\"1\" class=\"dataframe\">\n",
       "  <thead>\n",
       "    <tr style=\"text-align: right;\">\n",
       "      <th></th>\n",
       "      <th>f5_url</th>\n",
       "      <th>document_name</th>\n",
       "      <th>document_download_link</th>\n",
       "      <th>document_date</th>\n",
       "      <th>doc_submitter</th>\n",
       "    </tr>\n",
       "  </thead>\n",
       "  <tbody>\n",
       "    <tr>\n",
       "      <th>0</th>\n",
       "      <td>https://apps.cer-rec.gc.ca/REGDOCS/Item/LoadResult/3117318</td>\n",
       "      <td>A81097-1 ConocoPhillips Letter of Comment - File OF-Tolls-Group1-A159-2016-01 02 - A5H7I5</td>\n",
       "      <td>/REGDOCS/File/Download/3117983</td>\n",
       "      <td>2016-12-20</td>\n",
       "      <td>ConocoPhillips Canada</td>\n",
       "    </tr>\n",
       "  </tbody>\n",
       "</table></div>"
      ],
      "text/plain": [
       "                                              f5_url  \\\n",
       "0  https://apps.cer-rec.gc.ca/REGDOCS/Item/LoadRe...   \n",
       "\n",
       "                                       document_name  \\\n",
       "0  A81097-1 ConocoPhillips Letter of Comment - Fi...   \n",
       "\n",
       "           document_download_link document_date          doc_submitter  \n",
       "0  /REGDOCS/File/Download/3117983    2016-12-20  ConocoPhillips Canada  "
      ]
     },
     "metadata": {},
     "output_type": "display_data"
    },
    {
     "data": {
      "text/plain": [
       "(362, 19)"
      ]
     },
     "execution_count": 47,
     "metadata": {},
     "output_type": "execute_result"
    },
    {
     "data": {
      "text/html": [
       "<div><div id=6da83ec5-71a4-4cd7-bbc5-4a3117dbb4e8 style=\"display:none; background-color:#9D6CFF; color:white; width:200px; height:30px; padding-left:5px; border-radius:4px; flex-direction:row; justify-content:space-around; align-items:center;\" onmouseover=\"this.style.backgroundColor='#BA9BF8'\" onmouseout=\"this.style.backgroundColor='#9D6CFF'\" onclick=\"window.commands?.execute('create-mitosheet-from-dataframe-output');\">See Full Dataframe in Mito</div> <script> if (window.commands?.hasCommand('create-mitosheet-from-dataframe-output')) document.getElementById('6da83ec5-71a4-4cd7-bbc5-4a3117dbb4e8').style.display = 'flex' </script> <table border=\"1\" class=\"dataframe\">\n",
       "  <thead>\n",
       "    <tr style=\"text-align: right;\">\n",
       "      <th></th>\n",
       "      <th>folder_name_url</th>\n",
       "      <th>document_name</th>\n",
       "      <th>document_download_link</th>\n",
       "      <th>document_date</th>\n",
       "      <th>doc_submitter</th>\n",
       "      <th>folder_name</th>\n",
       "      <th>participant_name_url</th>\n",
       "      <th>participant_name</th>\n",
       "      <th>participant_category_url</th>\n",
       "      <th>participant_category</th>\n",
       "      <th>...</th>\n",
       "      <th>fi_component</th>\n",
       "      <th>application_name_featured_information_url</th>\n",
       "      <th>application_name</th>\n",
       "      <th>application_name_url</th>\n",
       "      <th>company_name</th>\n",
       "      <th>company_name_url</th>\n",
       "      <th>year_folder</th>\n",
       "      <th>year_folder_url</th>\n",
       "      <th>component</th>\n",
       "      <th>df</th>\n",
       "    </tr>\n",
       "  </thead>\n",
       "  <tbody>\n",
       "    <tr>\n",
       "      <th>0</th>\n",
       "      <td>https://apps.cer-rec.gc.ca/REGDOCS/Item/LoadResult/3117318</td>\n",
       "      <td>A81097-1 ConocoPhillips Letter of Comment - File OF-Tolls-Group1-A159-2016-01 02 - A5H7I5</td>\n",
       "      <td>/REGDOCS/File/Download/3117983</td>\n",
       "      <td>2016-12-20</td>\n",
       "      <td>ConocoPhillips Canada</td>\n",
       "      <td>A81097 ConocoPhillips Canada - ConocoPhillips Canada Letter of Comment on Alliance Pipeline Request to Suspend Proceeding</td>\n",
       "      <td>https://apps.cer-rec.gc.ca/REGDOCS/Item/LoadResult/3084104</td>\n",
       "      <td>ConocoPhillips Canada</td>\n",
       "      <td>https://apps.cer-rec.gc.ca/REGDOCS/Item/LoadResult/3084972</td>\n",
       "      <td>C - Intervenors</td>\n",
       "      <td>...</td>\n",
       "      <td>2016-08-22 - Application for Review and Variance of the National Energy Board 21 July 2016 Letter Decision - PPA Fee (RHW-002-2016)</td>\n",
       "      <td>https://apps.cer-rec.gc.ca/REGDOCS/Item/LoadFeatured/2922482</td>\n",
       "      <td>2016-02-01 - Application for Approval of New Services and Related Tolls and Tariffs for Service on the Alliance Pipeline</td>\n",
       "      <td>https://apps.cer-rec.gc.ca/REGDOCS/Item/LoadResult/2922482</td>\n",
       "      <td>Alliance Pipeline Ltd.</td>\n",
       "      <td>https://apps.cer-rec.gc.ca/REGDOCS/Item/LoadResult/285030</td>\n",
       "      <td>NaN</td>\n",
       "      <td>NaN</td>\n",
       "      <td>featured_information</td>\n",
       "      <td>df_f6_doc</td>\n",
       "    </tr>\n",
       "  </tbody>\n",
       "</table></div>"
      ],
      "text/plain": [
       "                                     folder_name_url  \\\n",
       "0  https://apps.cer-rec.gc.ca/REGDOCS/Item/LoadRe...   \n",
       "\n",
       "                                       document_name  \\\n",
       "0  A81097-1 ConocoPhillips Letter of Comment - Fi...   \n",
       "\n",
       "           document_download_link document_date          doc_submitter  \\\n",
       "0  /REGDOCS/File/Download/3117983    2016-12-20  ConocoPhillips Canada   \n",
       "\n",
       "                                         folder_name  \\\n",
       "0  A81097 ConocoPhillips Canada - ConocoPhillips ...   \n",
       "\n",
       "                                participant_name_url       participant_name  \\\n",
       "0  https://apps.cer-rec.gc.ca/REGDOCS/Item/LoadRe...  ConocoPhillips Canada   \n",
       "\n",
       "                            participant_category_url participant_category  \\\n",
       "0  https://apps.cer-rec.gc.ca/REGDOCS/Item/LoadRe...      C - Intervenors   \n",
       "\n",
       "   ...                                       fi_component  \\\n",
       "0  ...  2016-08-22 - Application for Review and Varian...   \n",
       "\n",
       "           application_name_featured_information_url  \\\n",
       "0  https://apps.cer-rec.gc.ca/REGDOCS/Item/LoadFe...   \n",
       "\n",
       "                                    application_name  \\\n",
       "0  2016-02-01 - Application for Approval of New S...   \n",
       "\n",
       "                                application_name_url            company_name  \\\n",
       "0  https://apps.cer-rec.gc.ca/REGDOCS/Item/LoadRe...  Alliance Pipeline Ltd.   \n",
       "\n",
       "                                    company_name_url year_folder  \\\n",
       "0  https://apps.cer-rec.gc.ca/REGDOCS/Item/LoadRe...         NaN   \n",
       "\n",
       "  year_folder_url             component         df  \n",
       "0             NaN  featured_information  df_f6_doc  \n",
       "\n",
       "[1 rows x 21 columns]"
      ]
     },
     "execution_count": 47,
     "metadata": {},
     "output_type": "execute_result"
    }
   ],
   "source": [
    "df_f6_doc = documents(df_f6) \n",
    "df_f6_doc = df_f6_doc.merge(df_f5_path).merge(df_f4_path).merge(df_f3_path).merge(df_f2).merge(df_f1)\n",
    "\n",
    "df_f6_doc.rename(columns={\"f2_text\" : \"fi_component\", 'f2_url' : \"fi_type_url\",\n",
    "                          \"f3_text\" : \"participant_category\", \"f3_url\" : \"participant_category_url\",\n",
    "                          \"f4_text\" : \"participant_name\", \"f4_url\" : \"participant_name_url\",\n",
    "                          \"f5_text\" : \"folder_name\", \"f5_url\" : \"folder_name_url\"}, inplace = True)\n",
    "df_f6_doc.shape\n",
    "\n",
    "df_f6_doc['component'] = 'featured_information'\n",
    "df_f6_doc['df'] = 'df_f6_doc'\n",
    "df_f6_doc.head(1)\n",
    "\n",
    "df_f6_doc.to_csv('test.csv', index = False)"
   ]
  },
  {
   "cell_type": "markdown",
   "id": "4decaddf",
   "metadata": {},
   "source": [
    "# documents_all 2"
   ]
  },
  {
   "cell_type": "code",
   "execution_count": 48,
   "id": "dafe91c4",
   "metadata": {},
   "outputs": [
    {
     "data": {
      "text/plain": [
       "Index(['folder_name_url', 'document_name_x', 'document_download_link_x',\n",
       "       'document_date_x', 'doc_submitter_x', 'folder_name',\n",
       "       'application_name_url', 'application_name', 'company_name_url',\n",
       "       'document_name_y', 'document_download_link_y', 'document_date_y',\n",
       "       'doc_submitter_y', 'company_name', 'r0_url', 'df', 'component',\n",
       "       'year_folder_url', 'year_folder', 'participant_name_url',\n",
       "       'participant_name', 'Notes_url', 'Notes', 'participant_category_url',\n",
       "       'participant_category', 'document_name', 'document_download_link',\n",
       "       'document_date', 'doc_submitter', 'fi_type_url', 'fi_component',\n",
       "       'application_name_featured_information_url'],\n",
       "      dtype='object')"
      ]
     },
     "execution_count": 48,
     "metadata": {},
     "output_type": "execute_result"
    },
    {
     "data": {
      "text/plain": [
       "(2299, 32)"
      ]
     },
     "execution_count": 48,
     "metadata": {},
     "output_type": "execute_result"
    },
    {
     "data": {
      "text/html": [
       "<div><div id=64a20941-bfe8-4083-b08b-f257365a33a8 style=\"display:none; background-color:#9D6CFF; color:white; width:200px; height:30px; padding-left:5px; border-radius:4px; flex-direction:row; justify-content:space-around; align-items:center;\" onmouseover=\"this.style.backgroundColor='#BA9BF8'\" onmouseout=\"this.style.backgroundColor='#9D6CFF'\" onclick=\"window.commands?.execute('create-mitosheet-from-dataframe-output');\">See Full Dataframe in Mito</div> <script> if (window.commands?.hasCommand('create-mitosheet-from-dataframe-output')) document.getElementById('64a20941-bfe8-4083-b08b-f257365a33a8').style.display = 'flex' </script> <table border=\"1\" class=\"dataframe\">\n",
       "  <thead>\n",
       "    <tr style=\"text-align: right;\">\n",
       "      <th></th>\n",
       "      <th>folder_name_url</th>\n",
       "      <th>document_name_x</th>\n",
       "      <th>document_download_link_x</th>\n",
       "      <th>document_date_x</th>\n",
       "      <th>doc_submitter_x</th>\n",
       "      <th>folder_name</th>\n",
       "      <th>application_name_url</th>\n",
       "      <th>application_name</th>\n",
       "      <th>company_name_url</th>\n",
       "      <th>document_name_y</th>\n",
       "      <th>...</th>\n",
       "      <th>Notes</th>\n",
       "      <th>participant_category_url</th>\n",
       "      <th>participant_category</th>\n",
       "      <th>document_name</th>\n",
       "      <th>document_download_link</th>\n",
       "      <th>document_date</th>\n",
       "      <th>doc_submitter</th>\n",
       "      <th>fi_type_url</th>\n",
       "      <th>fi_component</th>\n",
       "      <th>application_name_featured_information_url</th>\n",
       "    </tr>\n",
       "  </thead>\n",
       "  <tbody>\n",
       "    <tr>\n",
       "      <th>0</th>\n",
       "      <td>https://apps.cer-rec.gc.ca/REGDOCS/Item/LoadResult/3117318</td>\n",
       "      <td>NaN</td>\n",
       "      <td>NaN</td>\n",
       "      <td>NaN</td>\n",
       "      <td>NaN</td>\n",
       "      <td>A81097 ConocoPhillips Canada - ConocoPhillips Canada Letter of Comment on Alliance Pipeline Request to Suspend Proceeding</td>\n",
       "      <td>https://apps.cer-rec.gc.ca/REGDOCS/Item/LoadResult/2922482</td>\n",
       "      <td>2016-02-01 - Application for Approval of New Services and Related Tolls and Tariffs for Service on the Alliance Pipeline</td>\n",
       "      <td>https://apps.cer-rec.gc.ca/REGDOCS/Item/LoadResult/285030</td>\n",
       "      <td>NaN</td>\n",
       "      <td>...</td>\n",
       "      <td>NaN</td>\n",
       "      <td>https://apps.cer-rec.gc.ca/REGDOCS/Item/LoadResult/3084972</td>\n",
       "      <td>C - Intervenors</td>\n",
       "      <td>A81097-1 ConocoPhillips Letter of Comment - File OF-Tolls-Group1-A159-2016-01 02 - A5H7I5</td>\n",
       "      <td>https://apps.cer-rec.gc.ca/REGDOCS/File/Download/3117983</td>\n",
       "      <td>2016-12-20</td>\n",
       "      <td>ConocoPhillips Canada</td>\n",
       "      <td>https://apps.cer-rec.gc.ca/REGDOCS/Item/LoadResult/3027281</td>\n",
       "      <td>2016-08-22 - Application for Review and Variance of the National Energy Board 21 July 2016 Letter Decision - PPA Fee (RHW-002-2016)</td>\n",
       "      <td>https://apps.cer-rec.gc.ca/REGDOCS/Item/LoadFeatured/2922482</td>\n",
       "    </tr>\n",
       "  </tbody>\n",
       "</table></div>"
      ],
      "text/plain": [
       "                                     folder_name_url document_name_x  \\\n",
       "0  https://apps.cer-rec.gc.ca/REGDOCS/Item/LoadRe...             NaN   \n",
       "\n",
       "  document_download_link_x document_date_x doc_submitter_x  \\\n",
       "0                      NaN             NaN             NaN   \n",
       "\n",
       "                                         folder_name  \\\n",
       "0  A81097 ConocoPhillips Canada - ConocoPhillips ...   \n",
       "\n",
       "                                application_name_url  \\\n",
       "0  https://apps.cer-rec.gc.ca/REGDOCS/Item/LoadRe...   \n",
       "\n",
       "                                    application_name  \\\n",
       "0  2016-02-01 - Application for Approval of New S...   \n",
       "\n",
       "                                    company_name_url  document_name_y  ...  \\\n",
       "0  https://apps.cer-rec.gc.ca/REGDOCS/Item/LoadRe...              NaN  ...   \n",
       "\n",
       "   Notes                           participant_category_url  \\\n",
       "0    NaN  https://apps.cer-rec.gc.ca/REGDOCS/Item/LoadRe...   \n",
       "\n",
       "   participant_category                                      document_name  \\\n",
       "0       C - Intervenors  A81097-1 ConocoPhillips Letter of Comment - Fi...   \n",
       "\n",
       "                              document_download_link document_date  \\\n",
       "0  https://apps.cer-rec.gc.ca/REGDOCS/File/Downlo...    2016-12-20   \n",
       "\n",
       "           doc_submitter                                        fi_type_url  \\\n",
       "0  ConocoPhillips Canada  https://apps.cer-rec.gc.ca/REGDOCS/Item/LoadRe...   \n",
       "\n",
       "                                        fi_component  \\\n",
       "0  2016-08-22 - Application for Review and Varian...   \n",
       "\n",
       "           application_name_featured_information_url  \n",
       "0  https://apps.cer-rec.gc.ca/REGDOCS/Item/LoadFe...  \n",
       "\n",
       "[1 rows x 32 columns]"
      ]
     },
     "execution_count": 48,
     "metadata": {},
     "output_type": "execute_result"
    }
   ],
   "source": [
    "documents_all_2 = pd.concat([documents_all,\n",
    "                           df_f6_doc,\n",
    "                           df_f5_doc,\n",
    "                           df_f4_doc])\n",
    "\n",
    "documents_all_2 = documents_all_2[documents_all_2['document_name'].str.contains('Receipt') == False]\n",
    "documents_all_2['document_download_link'] = ['https://apps.cer-rec.gc.ca' + x for x in documents_all_2['document_download_link']]\n",
    "\n",
    "documents_all_2.columns\n",
    "documents_all_2.shape #(20176, 24)\n",
    "documents_all_2.head(1)\n",
    "documents_all_2.to_csv('Group1TollsApplications.csv', index = False)"
   ]
  },
  {
   "cell_type": "code",
   "execution_count": 49,
   "id": "5bb1c2fc",
   "metadata": {},
   "outputs": [
    {
     "data": {
      "text/plain": [
       "<AxesSubplot:title={'center':'count of documents by application, Group1 Traffic, Tolls & Tariffs'}>"
      ]
     },
     "execution_count": 49,
     "metadata": {},
     "output_type": "execute_result"
    },
    {
     "data": {
      "image/png": "[encoded data removed]",
      "text/plain": [
       "<Figure size 432x576 with 1 Axes>"
      ]
     },
     "metadata": {
      "needs_background": "light"
     },
     "output_type": "display_data"
    }
   ],
   "source": [
    "documents_all_2['application_name'].value_counts()[:20].sort_values(ascending = True).plot(kind = 'barh', \n",
    "                                                                                    figsize=(6, 8),\n",
    "                                                                                    title = 'count of documents by application, Group1 Traffic, Tolls & Tariffs')"
   ]
  },
  {
   "cell_type": "code",
   "execution_count": 50,
   "id": "9a4a6d92",
   "metadata": {},
   "outputs": [
    {
     "data": {
      "text/plain": [
       "<AxesSubplot:title={'center':'count of documents by company, Group 1 Traffic, Tolls & Tariffs'}>"
      ]
     },
     "execution_count": 50,
     "metadata": {},
     "output_type": "execute_result"
    },
    {
     "data": {
      "image/png": "[encoded data removed]",
      "text/plain": [
       "<Figure size 432x576 with 1 Axes>"
      ]
     },
     "metadata": {
      "needs_background": "light"
     },
     "output_type": "display_data"
    }
   ],
   "source": [
    "documents_all_2['company_name'].value_counts()[:30].sort_values(ascending = True).plot(kind = 'barh', \n",
    "                                                                                       figsize=(6, 8),\n",
    "                                                                                      title = 'count of documents by company, Group 1 Traffic, Tolls & Tariffs')"
   ]
  },
  {
   "cell_type": "code",
   "execution_count": 51,
   "id": "bcea8bdd",
   "metadata": {},
   "outputs": [
    {
     "data": {
      "text/plain": [
       "33285"
      ]
     },
     "execution_count": 51,
     "metadata": {},
     "output_type": "execute_result"
    }
   ],
   "source": [
    "documents_all_2.isnull().sum().sum()"
   ]
  },
  {
   "cell_type": "code",
   "execution_count": null,
   "id": "0335914c",
   "metadata": {},
   "outputs": [],
   "source": []
  }
 ],
 "metadata": {
  "kernelspec": {
   "display_name": "Python 3",
   "language": "python",
   "name": "python3"
  },
  "language_info": {
   "codemirror_mode": {
    "name": "ipython",
    "version": 3
   },
   "file_extension": ".py",
   "mimetype": "text/x-python",
   "name": "python",
   "nbconvert_exporter": "python",
   "pygments_lexer": "ipython3",
   "version": "3.8.5"
  },
  "toc": {
   "base_numbering": 1,
   "nav_menu": {},
   "number_sections": true,
   "sideBar": true,
   "skip_h1_title": false,
   "title_cell": "Table of Contents",
   "title_sidebar": "Contents",
   "toc_cell": true,
   "toc_position": {
    "height": "calc(100% - 180px)",
    "left": "10px",
    "top": "150px",
    "width": "290.885px"
   },
   "toc_section_display": true,
   "toc_window_display": true
  }
 },
 "nbformat": 4,
 "nbformat_minor": 5
}
