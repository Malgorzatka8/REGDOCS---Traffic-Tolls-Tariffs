{
 "cells": [
  {
   "cell_type": "markdown",
   "id": "5f440cad",
   "metadata": {
    "toc": true
   },
   "source": [
    "<h1>Table of Contents<span class=\"tocSkip\"></span></h1>\n",
    "<div class=\"toc\"><ul class=\"toc-item\"><li><span><a href=\"#Functions\" data-toc-modified-id=\"Functions-1\"><span class=\"toc-item-num\">1&nbsp;&nbsp;</span>Functions</a></span><ul class=\"toc-item\"><li><span><a href=\"#documents-function\" data-toc-modified-id=\"documents-function-1.1\"><span class=\"toc-item-num\">1.1&nbsp;&nbsp;</span>documents function</a></span></li><li><span><a href=\"#path-function\" data-toc-modified-id=\"path-function-1.2\"><span class=\"toc-item-num\">1.2&nbsp;&nbsp;</span>path function</a></span></li><li><span><a href=\"#get_documents-function\" data-toc-modified-id=\"get_documents-function-1.3\"><span class=\"toc-item-num\">1.3&nbsp;&nbsp;</span>get_documents function</a></span></li><li><span><a href=\"#concat_dfs_collector-function\" data-toc-modified-id=\"concat_dfs_collector-function-1.4\"><span class=\"toc-item-num\">1.4&nbsp;&nbsp;</span>concat_dfs_collector function</a></span></li><li><span><a href=\"#get_featured_information-function\" data-toc-modified-id=\"get_featured_information-function-1.5\"><span class=\"toc-item-num\">1.5&nbsp;&nbsp;</span>get_featured_information function</a></span></li></ul></li><li><span><a href=\"#Documents\" data-toc-modified-id=\"Documents-2\"><span class=\"toc-item-num\">2&nbsp;&nbsp;</span>Documents</a></span><ul class=\"toc-item\"><li><span><a href=\"#Result-1\" data-toc-modified-id=\"Result-1-2.1\"><span class=\"toc-item-num\">2.1&nbsp;&nbsp;</span>Result 1</a></span></li><li><span><a href=\"#Result-2\" data-toc-modified-id=\"Result-2-2.2\"><span class=\"toc-item-num\">2.2&nbsp;&nbsp;</span>Result 2</a></span></li><li><span><a href=\"#Result-3\" data-toc-modified-id=\"Result-3-2.3\"><span class=\"toc-item-num\">2.3&nbsp;&nbsp;</span>Result 3</a></span><ul class=\"toc-item\"><li><span><a href=\"#Result-3-documents\" data-toc-modified-id=\"Result-3-documents-2.3.1\"><span class=\"toc-item-num\">2.3.1&nbsp;&nbsp;</span>Result 3 documents</a></span></li><li><span><a href=\"#Result-3-path\" data-toc-modified-id=\"Result-3-path-2.3.2\"><span class=\"toc-item-num\">2.3.2&nbsp;&nbsp;</span>Result 3 path</a></span></li></ul></li><li><span><a href=\"#Result-4\" data-toc-modified-id=\"Result-4-2.4\"><span class=\"toc-item-num\">2.4&nbsp;&nbsp;</span>Result 4</a></span><ul class=\"toc-item\"><li><span><a href=\"#Results-4-documents\" data-toc-modified-id=\"Results-4-documents-2.4.1\"><span class=\"toc-item-num\">2.4.1&nbsp;&nbsp;</span>Results 4 documents</a></span></li><li><span><a href=\"#Results-4-path\" data-toc-modified-id=\"Results-4-path-2.4.2\"><span class=\"toc-item-num\">2.4.2&nbsp;&nbsp;</span>Results 4 path</a></span></li></ul></li><li><span><a href=\"#Results-5\" data-toc-modified-id=\"Results-5-2.5\"><span class=\"toc-item-num\">2.5&nbsp;&nbsp;</span>Results 5</a></span><ul class=\"toc-item\"><li><span><a href=\"#Results-5-documents\" data-toc-modified-id=\"Results-5-documents-2.5.1\"><span class=\"toc-item-num\">2.5.1&nbsp;&nbsp;</span>Results 5 documents</a></span></li><li><span><a href=\"#Results-5-path\" data-toc-modified-id=\"Results-5-path-2.5.2\"><span class=\"toc-item-num\">2.5.2&nbsp;&nbsp;</span>Results 5 path</a></span></li></ul></li><li><span><a href=\"#Results-6\" data-toc-modified-id=\"Results-6-2.6\"><span class=\"toc-item-num\">2.6&nbsp;&nbsp;</span>Results 6</a></span><ul class=\"toc-item\"><li><span><a href=\"#Results-6-documents\" data-toc-modified-id=\"Results-6-documents-2.6.1\"><span class=\"toc-item-num\">2.6.1&nbsp;&nbsp;</span>Results 6 documents</a></span></li><li><span><a href=\"#Result-6-path\" data-toc-modified-id=\"Result-6-path-2.6.2\"><span class=\"toc-item-num\">2.6.2&nbsp;&nbsp;</span>Result 6 path</a></span></li></ul></li><li><span><a href=\"#Results-7\" data-toc-modified-id=\"Results-7-2.7\"><span class=\"toc-item-num\">2.7&nbsp;&nbsp;</span>Results 7</a></span><ul class=\"toc-item\"><li><span><a href=\"#Results-7-documents\" data-toc-modified-id=\"Results-7-documents-2.7.1\"><span class=\"toc-item-num\">2.7.1&nbsp;&nbsp;</span>Results 7 documents</a></span></li><li><span><a href=\"#Results-7-path\" data-toc-modified-id=\"Results-7-path-2.7.2\"><span class=\"toc-item-num\">2.7.2&nbsp;&nbsp;</span>Results 7 path</a></span></li></ul></li><li><span><a href=\"#Results-8\" data-toc-modified-id=\"Results-8-2.8\"><span class=\"toc-item-num\">2.8&nbsp;&nbsp;</span>Results 8</a></span><ul class=\"toc-item\"><li><span><a href=\"#Results-8-documents\" data-toc-modified-id=\"Results-8-documents-2.8.1\"><span class=\"toc-item-num\">2.8.1&nbsp;&nbsp;</span>Results 8 documents</a></span></li></ul></li></ul></li><li><span><a href=\"#documents_all-1\" data-toc-modified-id=\"documents_all-1-3\"><span class=\"toc-item-num\">3&nbsp;&nbsp;</span>documents_all 1</a></span></li><li><span><a href=\"#Featured-Information\" data-toc-modified-id=\"Featured-Information-4\"><span class=\"toc-item-num\">4&nbsp;&nbsp;</span>Featured Information</a></span><ul class=\"toc-item\"><li><span><a href=\"#Featured-1\" data-toc-modified-id=\"Featured-1-4.1\"><span class=\"toc-item-num\">4.1&nbsp;&nbsp;</span>Featured 1</a></span></li><li><span><a href=\"#Featured-2\" data-toc-modified-id=\"Featured-2-4.2\"><span class=\"toc-item-num\">4.2&nbsp;&nbsp;</span>Featured 2</a></span></li><li><span><a href=\"#Featured-3\" data-toc-modified-id=\"Featured-3-4.3\"><span class=\"toc-item-num\">4.3&nbsp;&nbsp;</span>Featured 3</a></span><ul class=\"toc-item\"><li><span><a href=\"#Featured-3-documents\" data-toc-modified-id=\"Featured-3-documents-4.3.1\"><span class=\"toc-item-num\">4.3.1&nbsp;&nbsp;</span>Featured 3 documents</a></span></li><li><span><a href=\"#Featured-3-path\" data-toc-modified-id=\"Featured-3-path-4.3.2\"><span class=\"toc-item-num\">4.3.2&nbsp;&nbsp;</span>Featured 3 path</a></span></li></ul></li><li><span><a href=\"#Featured-4\" data-toc-modified-id=\"Featured-4-4.4\"><span class=\"toc-item-num\">4.4&nbsp;&nbsp;</span>Featured 4</a></span><ul class=\"toc-item\"><li><span><a href=\"#Featured-4-documents\" data-toc-modified-id=\"Featured-4-documents-4.4.1\"><span class=\"toc-item-num\">4.4.1&nbsp;&nbsp;</span>Featured 4 documents</a></span></li><li><span><a href=\"#Featured-4-path\" data-toc-modified-id=\"Featured-4-path-4.4.2\"><span class=\"toc-item-num\">4.4.2&nbsp;&nbsp;</span>Featured 4 path</a></span></li></ul></li><li><span><a href=\"#Featured-5\" data-toc-modified-id=\"Featured-5-4.5\"><span class=\"toc-item-num\">4.5&nbsp;&nbsp;</span>Featured 5</a></span><ul class=\"toc-item\"><li><span><a href=\"#Featured-5-path\" data-toc-modified-id=\"Featured-5-path-4.5.1\"><span class=\"toc-item-num\">4.5.1&nbsp;&nbsp;</span>Featured 5 path</a></span></li><li><span><a href=\"#Featured-5-documents\" data-toc-modified-id=\"Featured-5-documents-4.5.2\"><span class=\"toc-item-num\">4.5.2&nbsp;&nbsp;</span>Featured 5 documents</a></span></li></ul></li><li><span><a href=\"#Featured-6\" data-toc-modified-id=\"Featured-6-4.6\"><span class=\"toc-item-num\">4.6&nbsp;&nbsp;</span>Featured 6</a></span><ul class=\"toc-item\"><li><span><a href=\"#Featured-6-documents\" data-toc-modified-id=\"Featured-6-documents-4.6.1\"><span class=\"toc-item-num\">4.6.1&nbsp;&nbsp;</span>Featured 6 documents</a></span></li></ul></li></ul></li><li><span><a href=\"#documents_all-2\" data-toc-modified-id=\"documents_all-2-5\"><span class=\"toc-item-num\">5&nbsp;&nbsp;</span>documents_all 2</a></span></li></ul></div>"
   ]
  },
  {
   "cell_type": "code",
   "execution_count": null,
   "id": "ecc479b8",
   "metadata": {},
   "outputs": [],
   "source": []
  },
  {
   "cell_type": "code",
   "execution_count": 1,
   "id": "46589c16",
   "metadata": {},
   "outputs": [],
   "source": [
    "#TABLEAU dashboard for this data file available: \n",
    "\n",
    "import pandas as pd\n",
    "import queue\n",
    "from requests_toolbelt.threaded import pool\n",
    "import requests\n",
    "from bs4 import BeautifulSoup as bs\n",
    "import io\n",
    "import pandas as pd\n",
    "from collections import Counter\n",
    "import requests\n",
    "from bs4 import BeautifulSoup as bs\n",
    "from IPython.core.interactiveshell import InteractiveShell\n",
    "InteractiveShell.ast_node_interactivity = 'all'\n",
    "from matplotlib import pyplot as plot\n",
    "import numpy as np"
   ]
  },
  {
   "cell_type": "markdown",
   "id": "05e9a46b",
   "metadata": {},
   "source": [
    "# Functions"
   ]
  },
  {
   "cell_type": "markdown",
   "id": "30658d2b",
   "metadata": {},
   "source": [
    "## documents function"
   ]
  },
  {
   "cell_type": "code",
   "execution_count": 2,
   "id": "db789007",
   "metadata": {},
   "outputs": [],
   "source": [
    "def documents(y):\n",
    "    x = y\n",
    "    x = x.dropna(subset = ['document_name']) \n",
    "    x = x.dropna(axis = 1, how = 'all')\n",
    "    x = x.drop_duplicates()\n",
    "    print(x.shape)\n",
    "    display(x.head(1))\n",
    "    return(x)"
   ]
  },
  {
   "cell_type": "markdown",
   "id": "035de667",
   "metadata": {},
   "source": [
    "## path function"
   ]
  },
  {
   "cell_type": "code",
   "execution_count": 3,
   "id": "edef1dbe",
   "metadata": {},
   "outputs": [],
   "source": [
    "def path(y, z):\n",
    "    x = y\n",
    "    x = x.dropna(subset = [z])\n",
    "    x = x.dropna(axis = 1, how = 'all')\n",
    "    x = x.drop_duplicates()\n",
    "    print(x.shape)\n",
    "    display(x.head(1))\n",
    "    return(x)"
   ]
  },
  {
   "cell_type": "markdown",
   "id": "43f4ce1c",
   "metadata": {},
   "source": [
    "## get_documents function"
   ]
  },
  {
   "cell_type": "code",
   "execution_count": 4,
   "id": "dbedf4fd",
   "metadata": {},
   "outputs": [],
   "source": [
    "def get_documents(source, string1, string2):\n",
    "    \n",
    "    jobs = queue.Queue()\n",
    "    \n",
    "    for x in source:\n",
    "        jobs.put({'method' : 'GET', 'url' : x, 'cookies' : {'RDI-NumberOfRecords' : '200'} })\n",
    "        \n",
    "    p = pool.Pool(job_queue = jobs) \n",
    "    p.join_all()\n",
    "    \n",
    "    for r in p.responses():\n",
    "\n",
    "        soup = bs(r.text, 'html.parser')\n",
    "        \n",
    "        try:\n",
    "            text = [x.text for x in soup.find_all('a', {'class' : 'link-wait no-expand'})]\n",
    "            \n",
    "            url = [x['href'] for x in soup.find_all('a', {'class' : 'link-wait no-expand'})]\n",
    "            url = ['https://apps.cer-rec.gc.ca' + x for x in url]\n",
    "            url = [x.replace('/View', '/LoadResult') for x in url]\n",
    "            \n",
    "            df = pd.DataFrame({string1 + 'text': text, string1 + 'url' : url, \\\n",
    "                              string2 + 'url' : r.request_kwargs['url']})\n",
    "            \n",
    "            dfs_collector.append(df)\n",
    "            \n",
    "            document_download_link = [x['href'] for x in soup.find_all('a', {'class' : 'row-icon'})]\n",
    "            document_name = [x.text for x in soup.find_all('a', {'class' : 'row-icon'})]\n",
    "            document_date = [x.text for x in soup.find_all('td', {'class' : 'nowrap'})]\n",
    "            doc_submitter = [x.text for x in soup.find_all('td', {'class' : 'col-md-2'})]\n",
    "\n",
    "            df = pd.DataFrame({'document_name' : document_name, 'document_download_link' : document_download_link, \\\n",
    "                                'document_date' : document_date, 'doc_submitter' : doc_submitter, \\\n",
    "                                string2 + 'url' : r.request_kwargs['url']})\n",
    "            dfs_collector.append(df)\n",
    "            \n",
    "        except:\n",
    "            pass\n",
    "#             print(r.request_kwargs['url']) prints that are in featured_information"
   ]
  },
  {
   "cell_type": "markdown",
   "id": "c1e38cde",
   "metadata": {},
   "source": [
    "## concat_dfs_collector function"
   ]
  },
  {
   "cell_type": "code",
   "execution_count": 5,
   "id": "1d9dbd93",
   "metadata": {},
   "outputs": [],
   "source": [
    "def concat_dfs_collector(x, y, z):\n",
    "    df = pd.concat(dfs_collector)\n",
    "    print(df.shape)\n",
    "#     print(df.nunique())\n",
    "    print(df.isnull().sum())\n",
    "    df.to_csv(x, index = False)\n",
    "    display(df.head(1))\n",
    "    try:\n",
    "        df[y].value_counts()[:8] \\\n",
    "            .sort_values(ascending = True) \\\n",
    "            .plot(kind = 'barh', title = z, figsize=(6, 8))\n",
    "    except:\n",
    "        print(\"plot not available\")\n",
    "    return(df)"
   ]
  },
  {
   "cell_type": "markdown",
   "id": "da013160",
   "metadata": {},
   "source": [
    "## get_featured_information function"
   ]
  },
  {
   "cell_type": "code",
   "execution_count": 6,
   "id": "a46c9a35",
   "metadata": {},
   "outputs": [],
   "source": [
    "#this function is different than get_documents due to unique html elements in 'Feature Information' in CER CMS.\n",
    "def get_featured_information(source, string1, string2):\n",
    "    \n",
    "    jobs = queue.Queue()\n",
    "    \n",
    "    for x in source:\n",
    "        jobs.put({'method' : 'GET', 'url' : x, 'cookies' : {'RDI-NumberOfRecords' : '200'} })\n",
    "        \n",
    "    p = pool.Pool(job_queue = jobs)\n",
    "    p.join_all()\n",
    "    \n",
    "    for r in p.responses():\n",
    "        soup = bs(r.text, 'html.parser')\n",
    "        \n",
    "        text = [x.text for x in soup.find_all('a', {'class' : 'link-wait'})]\n",
    "            \n",
    "        url = [x['href'] for x in soup.find_all('a', {'class' : 'link-wait'})]\n",
    "        url = ['https://apps.cer-rec.gc.ca' + x for x in url]\n",
    "        url = [x.replace('/View', '/LoadResult') for x in url]\n",
    "            \n",
    "        df = pd.DataFrame({string1 + 'text': text, \n",
    "                            string1 + 'url' : url,\n",
    "                            string2 + 'url' : r.request_kwargs['url']})\n",
    "            \n",
    "        dfs_collector.append(df)"
   ]
  },
  {
   "cell_type": "markdown",
   "id": "2f926a0b",
   "metadata": {},
   "source": [
    "# Documents"
   ]
  },
  {
   "cell_type": "markdown",
   "id": "9ee38691",
   "metadata": {},
   "source": [
    "## Result 1"
   ]
  },
  {
   "cell_type": "code",
   "execution_count": 7,
   "id": "2be5dafa",
   "metadata": {},
   "outputs": [],
   "source": [
    "Group1TollsApplications_urls = ['https://apps.cer-rec.gc.ca/REGDOCS/Item/LoadResult/92835', \n",
    "                                'https://apps.cer-rec.gc.ca/REGDOCS/Item/View/92833']\n",
    "\n",
    "Group1TollsApplications_urls = [x.replace('View', 'LoadResult') for x in Group1TollsApplications_urls]"
   ]
  },
  {
   "cell_type": "code",
   "execution_count": 8,
   "id": "0db428a5",
   "metadata": {},
   "outputs": [
    {
     "data": {
      "text/html": [
       "<div><div id=452cac15-6b55-4b3b-88fe-59d7c2d0c3be style=\"display:none; background-color:#9D6CFF; color:white; width:200px; height:30px; padding-left:5px; border-radius:4px; flex-direction:row; justify-content:space-around; align-items:center;\" onmouseover=\"this.style.backgroundColor='#BA9BF8'\" onmouseout=\"this.style.backgroundColor='#9D6CFF'\" onclick=\"window.commands?.execute('create-mitosheet-from-dataframe-output');\">See Full Dataframe in Mito</div> <script> if (window.commands?.hasCommand('create-mitosheet-from-dataframe-output')) document.getElementById('452cac15-6b55-4b3b-88fe-59d7c2d0c3be').style.display = 'flex' </script> <table border=\"1\" class=\"dataframe\">\n",
       "  <thead>\n",
       "    <tr style=\"text-align: right;\">\n",
       "      <th></th>\n",
       "      <th>r1_text</th>\n",
       "      <th>r1_url</th>\n",
       "      <th>r0_url</th>\n",
       "    </tr>\n",
       "  </thead>\n",
       "  <tbody>\n",
       "    <tr>\n",
       "      <th>0</th>\n",
       "      <td>Cochin Pipe Lines Ltd.</td>\n",
       "      <td>https://apps.cer-rec.gc.ca/REGDOCS/Item/LoadResult/155665</td>\n",
       "      <td>https://apps.cer-rec.gc.ca/REGDOCS/Item/LoadResult/92835</td>\n",
       "    </tr>\n",
       "    <tr>\n",
       "      <th>1</th>\n",
       "      <td>Enbridge Pipelines (NW) Inc.</td>\n",
       "      <td>https://apps.cer-rec.gc.ca/REGDOCS/Item/LoadResult/305098</td>\n",
       "      <td>https://apps.cer-rec.gc.ca/REGDOCS/Item/LoadResult/92835</td>\n",
       "    </tr>\n",
       "    <tr>\n",
       "      <th>2</th>\n",
       "      <td>Enbridge Pipelines Inc.</td>\n",
       "      <td>https://apps.cer-rec.gc.ca/REGDOCS/Item/LoadResult/155829</td>\n",
       "      <td>https://apps.cer-rec.gc.ca/REGDOCS/Item/LoadResult/92835</td>\n",
       "    </tr>\n",
       "  </tbody>\n",
       "</table></div>"
      ],
      "text/plain": [
       "                        r1_text  \\\n",
       "0        Cochin Pipe Lines Ltd.   \n",
       "1  Enbridge Pipelines (NW) Inc.   \n",
       "2       Enbridge Pipelines Inc.   \n",
       "\n",
       "                                              r1_url  \\\n",
       "0  https://apps.cer-rec.gc.ca/REGDOCS/Item/LoadRe...   \n",
       "1  https://apps.cer-rec.gc.ca/REGDOCS/Item/LoadRe...   \n",
       "2  https://apps.cer-rec.gc.ca/REGDOCS/Item/LoadRe...   \n",
       "\n",
       "                                              r0_url  \n",
       "0  https://apps.cer-rec.gc.ca/REGDOCS/Item/LoadRe...  \n",
       "1  https://apps.cer-rec.gc.ca/REGDOCS/Item/LoadRe...  \n",
       "2  https://apps.cer-rec.gc.ca/REGDOCS/Item/LoadRe...  "
      ]
     },
     "execution_count": 8,
     "metadata": {},
     "output_type": "execute_result"
    },
    {
     "data": {
      "text/html": [
       "<div><div id=b9bdc7c6-b498-4535-a79b-d45afc68bdd3 style=\"display:none; background-color:#9D6CFF; color:white; width:200px; height:30px; padding-left:5px; border-radius:4px; flex-direction:row; justify-content:space-around; align-items:center;\" onmouseover=\"this.style.backgroundColor='#BA9BF8'\" onmouseout=\"this.style.backgroundColor='#9D6CFF'\" onclick=\"window.commands?.execute('create-mitosheet-from-dataframe-output');\">See Full Dataframe in Mito</div> <script> if (window.commands?.hasCommand('create-mitosheet-from-dataframe-output')) document.getElementById('b9bdc7c6-b498-4535-a79b-d45afc68bdd3').style.display = 'flex' </script> <table border=\"1\" class=\"dataframe\">\n",
       "  <thead>\n",
       "    <tr style=\"text-align: right;\">\n",
       "      <th></th>\n",
       "      <th>r1_text</th>\n",
       "      <th>r1_url</th>\n",
       "      <th>r0_url</th>\n",
       "    </tr>\n",
       "  </thead>\n",
       "  <tbody>\n",
       "    <tr>\n",
       "      <th>10</th>\n",
       "      <td>TransCanada PipeLines Limited</td>\n",
       "      <td>https://apps.cer-rec.gc.ca/REGDOCS/Item/LoadResult/92843</td>\n",
       "      <td>https://apps.cer-rec.gc.ca/REGDOCS/Item/LoadResult/92833</td>\n",
       "    </tr>\n",
       "    <tr>\n",
       "      <th>11</th>\n",
       "      <td>TransCanada PipeLines Limited B.C. System</td>\n",
       "      <td>https://apps.cer-rec.gc.ca/REGDOCS/Item/LoadResult/155421</td>\n",
       "      <td>https://apps.cer-rec.gc.ca/REGDOCS/Item/LoadResult/92833</td>\n",
       "    </tr>\n",
       "    <tr>\n",
       "      <th>12</th>\n",
       "      <td>Westcoast Energy Inc.</td>\n",
       "      <td>https://apps.cer-rec.gc.ca/REGDOCS/Item/LoadResult/92844</td>\n",
       "      <td>https://apps.cer-rec.gc.ca/REGDOCS/Item/LoadResult/92833</td>\n",
       "    </tr>\n",
       "  </tbody>\n",
       "</table></div>"
      ],
      "text/plain": [
       "                                      r1_text  \\\n",
       "10              TransCanada PipeLines Limited   \n",
       "11  TransCanada PipeLines Limited B.C. System   \n",
       "12                      Westcoast Energy Inc.   \n",
       "\n",
       "                                               r1_url  \\\n",
       "10  https://apps.cer-rec.gc.ca/REGDOCS/Item/LoadRe...   \n",
       "11  https://apps.cer-rec.gc.ca/REGDOCS/Item/LoadRe...   \n",
       "12  https://apps.cer-rec.gc.ca/REGDOCS/Item/LoadRe...   \n",
       "\n",
       "                                               r0_url  \n",
       "10  https://apps.cer-rec.gc.ca/REGDOCS/Item/LoadRe...  \n",
       "11  https://apps.cer-rec.gc.ca/REGDOCS/Item/LoadRe...  \n",
       "12  https://apps.cer-rec.gc.ca/REGDOCS/Item/LoadRe...  "
      ]
     },
     "execution_count": 8,
     "metadata": {},
     "output_type": "execute_result"
    },
    {
     "data": {
      "text/plain": [
       "(26, 3)"
      ]
     },
     "execution_count": 8,
     "metadata": {},
     "output_type": "execute_result"
    }
   ],
   "source": [
    "jobs = queue.Queue()\n",
    "\n",
    "r1_list = []\n",
    "\n",
    "for x in Group1TollsApplications_urls:\n",
    "    jobs.put({'method' : 'GET', 'url' : x, 'cookies' : {'RDI-NumberOfRecords' : '200'} })\n",
    "        \n",
    "    p = pool.Pool(job_queue = jobs)\n",
    "    p.join_all()\n",
    "    \n",
    "    for r in p.responses():\n",
    "        soup = bs(r.text, 'html.parser')\n",
    "        \n",
    "        r1_url = [x['href'] for x in soup.find_all('a', {'class' : 'link-wait no-expand'})]\n",
    "        r1_url = ['https://apps.cer-rec.gc.ca' + x for x in r1_url]\n",
    "        r1_url = [x.replace('View', 'LoadResult') for x in r1_url]\n",
    "\n",
    "        r1_text = [x.text for x in soup.find_all('a', {'class' : 'link-wait no-expand'})]\n",
    "        \n",
    "        r0_url = r.request_kwargs['url']\n",
    "        \n",
    "        df = pd.DataFrame({'r1_text' : r1_text, 'r1_url' : r1_url, 'r0_url' : r0_url})\n",
    "        r1_list.append(df)\n",
    "        \n",
    "df_r1 = pd.concat(r1_list)        \n",
    "df_r1.head(3)\n",
    "df_r1.tail(3)\n",
    "df_r1.shape\n",
    "df_r1.to_csv('df_r1.csv', index = False)"
   ]
  },
  {
   "cell_type": "markdown",
   "id": "b4e22da0",
   "metadata": {},
   "source": [
    "## Result 2"
   ]
  },
  {
   "cell_type": "code",
   "execution_count": 9,
   "id": "ad81a73d",
   "metadata": {},
   "outputs": [],
   "source": [
    "dfs_collector = []\n",
    "get_documents(source = df_r1['r1_url'], string1 = 'r2_', string2 = 'r1_')"
   ]
  },
  {
   "cell_type": "code",
   "execution_count": 10,
   "id": "8b8ce795",
   "metadata": {},
   "outputs": [
    {
     "data": {
      "text/plain": [
       "(329, 7)"
      ]
     },
     "execution_count": 10,
     "metadata": {},
     "output_type": "execute_result"
    },
    {
     "data": {
      "text/plain": [
       "r2_text                     0\n",
       "r2_url                      0\n",
       "r1_url                      0\n",
       "document_name             329\n",
       "document_download_link    329\n",
       "document_date             329\n",
       "doc_submitter             329\n",
       "dtype: int64"
      ]
     },
     "execution_count": 10,
     "metadata": {},
     "output_type": "execute_result"
    },
    {
     "data": {
      "text/html": [
       "<div><div id=bed22b1e-99ef-45c1-8dff-800d68e6d11b style=\"display:none; background-color:#9D6CFF; color:white; width:200px; height:30px; padding-left:5px; border-radius:4px; flex-direction:row; justify-content:space-around; align-items:center;\" onmouseover=\"this.style.backgroundColor='#BA9BF8'\" onmouseout=\"this.style.backgroundColor='#9D6CFF'\" onclick=\"window.commands?.execute('create-mitosheet-from-dataframe-output');\">See Full Dataframe in Mito</div> <script> if (window.commands?.hasCommand('create-mitosheet-from-dataframe-output')) document.getElementById('bed22b1e-99ef-45c1-8dff-800d68e6d11b').style.display = 'flex' </script> <table border=\"1\" class=\"dataframe\">\n",
       "  <thead>\n",
       "    <tr style=\"text-align: right;\">\n",
       "      <th></th>\n",
       "      <th>r2_text</th>\n",
       "      <th>r2_url</th>\n",
       "      <th>r1_url</th>\n",
       "      <th>document_name</th>\n",
       "      <th>document_download_link</th>\n",
       "      <th>document_date</th>\n",
       "      <th>doc_submitter</th>\n",
       "    </tr>\n",
       "  </thead>\n",
       "  <tbody>\n",
       "    <tr>\n",
       "      <th>0</th>\n",
       "      <td>2013-08-23 - Complaint by ISH Energy Ltd. regarding Enbridge Pipelines (NW) Inc. 2011 Willowlake Pipeline Spill Operating Costs (MHW-002-2015)</td>\n",
       "      <td>https://apps.cer-rec.gc.ca/REGDOCS/Item/LoadResult/1021722</td>\n",
       "      <td>https://apps.cer-rec.gc.ca/REGDOCS/Item/LoadResult/305098</td>\n",
       "      <td>NaN</td>\n",
       "      <td>NaN</td>\n",
       "      <td>NaN</td>\n",
       "      <td>NaN</td>\n",
       "    </tr>\n",
       "    <tr>\n",
       "      <th>0</th>\n",
       "      <td>2007-03-13 - Westridge Dock Premium and Allocation - Proposed Tariff No. 69</td>\n",
       "      <td>https://apps.cer-rec.gc.ca/REGDOCS/Item/LoadResult/461638</td>\n",
       "      <td>https://apps.cer-rec.gc.ca/REGDOCS/Item/LoadResult/267614</td>\n",
       "      <td>NaN</td>\n",
       "      <td>NaN</td>\n",
       "      <td>NaN</td>\n",
       "      <td>NaN</td>\n",
       "    </tr>\n",
       "    <tr>\n",
       "      <th>1</th>\n",
       "      <td>2007-03-08 - 2007 Tolls (2006-2010 Incentive Toll Settlement)</td>\n",
       "      <td>https://apps.cer-rec.gc.ca/REGDOCS/Item/LoadResult/456384</td>\n",
       "      <td>https://apps.cer-rec.gc.ca/REGDOCS/Item/LoadResult/267614</td>\n",
       "      <td>NaN</td>\n",
       "      <td>NaN</td>\n",
       "      <td>NaN</td>\n",
       "      <td>NaN</td>\n",
       "    </tr>\n",
       "    <tr>\n",
       "      <th>2</th>\n",
       "      <td>2006-12-06 - Application for 2006 Final Tolls and Rules and Regulations</td>\n",
       "      <td>https://apps.cer-rec.gc.ca/REGDOCS/Item/LoadResult/444357</td>\n",
       "      <td>https://apps.cer-rec.gc.ca/REGDOCS/Item/LoadResult/267614</td>\n",
       "      <td>NaN</td>\n",
       "      <td>NaN</td>\n",
       "      <td>NaN</td>\n",
       "      <td>NaN</td>\n",
       "    </tr>\n",
       "    <tr>\n",
       "      <th>3</th>\n",
       "      <td>2006-10-19 - Application for 2006 Incentive Tolls Settlement</td>\n",
       "      <td>https://apps.cer-rec.gc.ca/REGDOCS/Item/LoadResult/438200</td>\n",
       "      <td>https://apps.cer-rec.gc.ca/REGDOCS/Item/LoadResult/267614</td>\n",
       "      <td>NaN</td>\n",
       "      <td>NaN</td>\n",
       "      <td>NaN</td>\n",
       "      <td>NaN</td>\n",
       "    </tr>\n",
       "  </tbody>\n",
       "</table></div>"
      ],
      "text/plain": [
       "                                             r2_text  \\\n",
       "0  2013-08-23 - Complaint by ISH Energy Ltd. rega...   \n",
       "0  2007-03-13 - Westridge Dock Premium and Alloca...   \n",
       "1  2007-03-08 - 2007 Tolls (2006-2010 Incentive T...   \n",
       "2  2006-12-06 - Application for 2006 Final Tolls ...   \n",
       "3  2006-10-19 - Application for 2006 Incentive To...   \n",
       "\n",
       "                                              r2_url  \\\n",
       "0  https://apps.cer-rec.gc.ca/REGDOCS/Item/LoadRe...   \n",
       "0  https://apps.cer-rec.gc.ca/REGDOCS/Item/LoadRe...   \n",
       "1  https://apps.cer-rec.gc.ca/REGDOCS/Item/LoadRe...   \n",
       "2  https://apps.cer-rec.gc.ca/REGDOCS/Item/LoadRe...   \n",
       "3  https://apps.cer-rec.gc.ca/REGDOCS/Item/LoadRe...   \n",
       "\n",
       "                                              r1_url  document_name  \\\n",
       "0  https://apps.cer-rec.gc.ca/REGDOCS/Item/LoadRe...            NaN   \n",
       "0  https://apps.cer-rec.gc.ca/REGDOCS/Item/LoadRe...            NaN   \n",
       "1  https://apps.cer-rec.gc.ca/REGDOCS/Item/LoadRe...            NaN   \n",
       "2  https://apps.cer-rec.gc.ca/REGDOCS/Item/LoadRe...            NaN   \n",
       "3  https://apps.cer-rec.gc.ca/REGDOCS/Item/LoadRe...            NaN   \n",
       "\n",
       "   document_download_link  document_date  doc_submitter  \n",
       "0                     NaN            NaN            NaN  \n",
       "0                     NaN            NaN            NaN  \n",
       "1                     NaN            NaN            NaN  \n",
       "2                     NaN            NaN            NaN  \n",
       "3                     NaN            NaN            NaN  "
      ]
     },
     "execution_count": 10,
     "metadata": {},
     "output_type": "execute_result"
    },
    {
     "data": {
      "text/plain": [
       "r2_text                   268\n",
       "r2_url                    328\n",
       "r1_url                     25\n",
       "document_name               0\n",
       "document_download_link      0\n",
       "document_date               0\n",
       "doc_submitter               0\n",
       "dtype: int64"
      ]
     },
     "execution_count": 10,
     "metadata": {},
     "output_type": "execute_result"
    },
    {
     "data": {
      "text/plain": [
       "<AxesSubplot:title={'center':'Top in r2'}>"
      ]
     },
     "execution_count": 10,
     "metadata": {},
     "output_type": "execute_result"
    },
    {
     "data": {
      "image/png": "[encoded data removed]",
      "text/plain": [
       "<Figure size 504x648 with 1 Axes>"
      ]
     },
     "metadata": {
      "needs_background": "light"
     },
     "output_type": "display_data"
    }
   ],
   "source": [
    "df_r2 = pd.concat(dfs_collector)\n",
    "df_r2.shape\n",
    "df_r2.isnull().sum() #no docs\n",
    "df_r2.head()\n",
    "df_r2.nunique()\n",
    "\n",
    "df_r2 = df_r2.dropna(axis = 1, how = 'all')\n",
    "\n",
    "\n",
    "\n",
    "df_r2.to_csv('df_r2.csv', index = False)\n",
    "\n",
    "df_r2['r2_text'].value_counts()[:30].sort_values(ascending = True).plot(kind = 'barh', title = 'Top in r2', figsize=(7, 9))"
   ]
  },
  {
   "cell_type": "markdown",
   "id": "ad0b60e5",
   "metadata": {},
   "source": [
    "## Result 3"
   ]
  },
  {
   "cell_type": "code",
   "execution_count": 11,
   "id": "0c732cd0",
   "metadata": {
    "scrolled": false
   },
   "outputs": [
    {
     "name": "stdout",
     "output_type": "stream",
     "text": [
      "(1499, 7)\n",
      "r3_text                    111\n",
      "r3_url                     111\n",
      "r2_url                       0\n",
      "document_name             1388\n",
      "document_download_link    1388\n",
      "document_date             1388\n",
      "doc_submitter             1388\n",
      "dtype: int64\n"
     ]
    },
    {
     "data": {
      "text/html": [
       "<div><div id=a661d164-03c6-458f-9d12-c1cca6e1cd93 style=\"display:none; background-color:#9D6CFF; color:white; width:200px; height:30px; padding-left:5px; border-radius:4px; flex-direction:row; justify-content:space-around; align-items:center;\" onmouseover=\"this.style.backgroundColor='#BA9BF8'\" onmouseout=\"this.style.backgroundColor='#9D6CFF'\" onclick=\"window.commands?.execute('create-mitosheet-from-dataframe-output');\">See Full Dataframe in Mito</div> <script> if (window.commands?.hasCommand('create-mitosheet-from-dataframe-output')) document.getElementById('a661d164-03c6-458f-9d12-c1cca6e1cd93').style.display = 'flex' </script> <table border=\"1\" class=\"dataframe\">\n",
       "  <thead>\n",
       "    <tr style=\"text-align: right;\">\n",
       "      <th></th>\n",
       "      <th>r3_text</th>\n",
       "      <th>r3_url</th>\n",
       "      <th>r2_url</th>\n",
       "      <th>document_name</th>\n",
       "      <th>document_download_link</th>\n",
       "      <th>document_date</th>\n",
       "      <th>doc_submitter</th>\n",
       "    </tr>\n",
       "  </thead>\n",
       "  <tbody>\n",
       "    <tr>\n",
       "      <th>0</th>\n",
       "      <td>06-12-06 Brenda McClellan - Terasen Pipelines (Trans Mountain) Inc. Tariff No 65 and Tariff Rules - Regulations (A14260)</td>\n",
       "      <td>https://apps.cer-rec.gc.ca/REGDOCS/Item/LoadResult/443962</td>\n",
       "      <td>https://apps.cer-rec.gc.ca/REGDOCS/Item/LoadResult/444357</td>\n",
       "      <td>NaN</td>\n",
       "      <td>NaN</td>\n",
       "      <td>NaN</td>\n",
       "      <td>NaN</td>\n",
       "    </tr>\n",
       "  </tbody>\n",
       "</table></div>"
      ],
      "text/plain": [
       "                                             r3_text  \\\n",
       "0  06-12-06 Brenda McClellan - Terasen Pipelines ...   \n",
       "\n",
       "                                              r3_url  \\\n",
       "0  https://apps.cer-rec.gc.ca/REGDOCS/Item/LoadRe...   \n",
       "\n",
       "                                              r2_url document_name  \\\n",
       "0  https://apps.cer-rec.gc.ca/REGDOCS/Item/LoadRe...           NaN   \n",
       "\n",
       "  document_download_link document_date doc_submitter  \n",
       "0                    NaN           NaN           NaN  "
      ]
     },
     "metadata": {},
     "output_type": "display_data"
    },
    {
     "data": {
      "image/png": "[encoded data removed]",
      "text/plain": [
       "<Figure size 432x576 with 1 Axes>"
      ]
     },
     "metadata": {
      "needs_background": "light"
     },
     "output_type": "display_data"
    }
   ],
   "source": [
    "# %%time \n",
    "# Wall time: 1min 42s\n",
    "\n",
    "dfs_collector = []\n",
    "get_documents(source = df_r2['r2_url'], string1 = 'r3_', string2 = 'r2_')\n",
    "\n",
    "df_r3 = concat_dfs_collector('df_r3.csv', 'r3_text', 'r3')"
   ]
  },
  {
   "cell_type": "markdown",
   "id": "b302df19",
   "metadata": {},
   "source": [
    "### Result 3 documents"
   ]
  },
  {
   "cell_type": "code",
   "execution_count": 12,
   "id": "5352ed49",
   "metadata": {},
   "outputs": [
    {
     "name": "stdout",
     "output_type": "stream",
     "text": [
      "(111, 5)\n"
     ]
    },
    {
     "data": {
      "text/html": [
       "<div><div id=76ec7ed2-5ef6-4066-b254-781d430b9c98 style=\"display:none; background-color:#9D6CFF; color:white; width:200px; height:30px; padding-left:5px; border-radius:4px; flex-direction:row; justify-content:space-around; align-items:center;\" onmouseover=\"this.style.backgroundColor='#BA9BF8'\" onmouseout=\"this.style.backgroundColor='#9D6CFF'\" onclick=\"window.commands?.execute('create-mitosheet-from-dataframe-output');\">See Full Dataframe in Mito</div> <script> if (window.commands?.hasCommand('create-mitosheet-from-dataframe-output')) document.getElementById('76ec7ed2-5ef6-4066-b254-781d430b9c98').style.display = 'flex' </script> <table border=\"1\" class=\"dataframe\">\n",
       "  <thead>\n",
       "    <tr style=\"text-align: right;\">\n",
       "      <th></th>\n",
       "      <th>r2_url</th>\n",
       "      <th>document_name</th>\n",
       "      <th>document_download_link</th>\n",
       "      <th>document_date</th>\n",
       "      <th>doc_submitter</th>\n",
       "    </tr>\n",
       "  </thead>\n",
       "  <tbody>\n",
       "    <tr>\n",
       "      <th>0</th>\n",
       "      <td>https://apps.cer-rec.gc.ca/REGDOCS/Item/LoadResult/1021722</td>\n",
       "      <td>Appendix B - Enbridge Pipelines (NW) Inc Norman Wells Pipeline Agreement - A4J1F2</td>\n",
       "      <td>/REGDOCS/File/Download/2697260</td>\n",
       "      <td>2015-03-03</td>\n",
       "      <td>ISH Energy Ltd.</td>\n",
       "    </tr>\n",
       "  </tbody>\n",
       "</table></div>"
      ],
      "text/plain": [
       "                                              r2_url  \\\n",
       "0  https://apps.cer-rec.gc.ca/REGDOCS/Item/LoadRe...   \n",
       "\n",
       "                                       document_name  \\\n",
       "0  Appendix B - Enbridge Pipelines (NW) Inc Norma...   \n",
       "\n",
       "           document_download_link document_date    doc_submitter  \n",
       "0  /REGDOCS/File/Download/2697260    2015-03-03  ISH Energy Ltd.  "
      ]
     },
     "metadata": {},
     "output_type": "display_data"
    },
    {
     "data": {
      "text/plain": [
       "(111, 9)"
      ]
     },
     "execution_count": 12,
     "metadata": {},
     "output_type": "execute_result"
    }
   ],
   "source": [
    "df_r3_doc = documents(df_r3)\n",
    "df_r3_doc = df_r3_doc.merge(df_r2, on = 'r2_url')\n",
    "df_r3_doc = df_r3_doc.merge(df_r1) #these are 'frequenly accessed documents'\n",
    "\n",
    "df_r3_doc.shape"
   ]
  },
  {
   "cell_type": "markdown",
   "id": "2193dab6",
   "metadata": {},
   "source": [
    "### Result 3 path"
   ]
  },
  {
   "cell_type": "code",
   "execution_count": 13,
   "id": "c505864e",
   "metadata": {},
   "outputs": [
    {
     "name": "stdout",
     "output_type": "stream",
     "text": [
      "(1387, 3)\n"
     ]
    },
    {
     "data": {
      "text/html": [
       "<div><div id=9bf1936e-5a04-48a6-a38e-49668446e4df style=\"display:none; background-color:#9D6CFF; color:white; width:200px; height:30px; padding-left:5px; border-radius:4px; flex-direction:row; justify-content:space-around; align-items:center;\" onmouseover=\"this.style.backgroundColor='#BA9BF8'\" onmouseout=\"this.style.backgroundColor='#9D6CFF'\" onclick=\"window.commands?.execute('create-mitosheet-from-dataframe-output');\">See Full Dataframe in Mito</div> <script> if (window.commands?.hasCommand('create-mitosheet-from-dataframe-output')) document.getElementById('9bf1936e-5a04-48a6-a38e-49668446e4df').style.display = 'flex' </script> <table border=\"1\" class=\"dataframe\">\n",
       "  <thead>\n",
       "    <tr style=\"text-align: right;\">\n",
       "      <th></th>\n",
       "      <th>r3_text</th>\n",
       "      <th>r3_url</th>\n",
       "      <th>r2_url</th>\n",
       "    </tr>\n",
       "  </thead>\n",
       "  <tbody>\n",
       "    <tr>\n",
       "      <th>0</th>\n",
       "      <td>06-12-06 Brenda McClellan - Terasen Pipelines (Trans Mountain) Inc. Tariff No 65 and Tariff Rules - Regulations (A14260)</td>\n",
       "      <td>https://apps.cer-rec.gc.ca/REGDOCS/Item/LoadResult/443962</td>\n",
       "      <td>https://apps.cer-rec.gc.ca/REGDOCS/Item/LoadResult/444357</td>\n",
       "    </tr>\n",
       "  </tbody>\n",
       "</table></div>"
      ],
      "text/plain": [
       "                                             r3_text  \\\n",
       "0  06-12-06 Brenda McClellan - Terasen Pipelines ...   \n",
       "\n",
       "                                              r3_url  \\\n",
       "0  https://apps.cer-rec.gc.ca/REGDOCS/Item/LoadRe...   \n",
       "\n",
       "                                              r2_url  \n",
       "0  https://apps.cer-rec.gc.ca/REGDOCS/Item/LoadRe...  "
      ]
     },
     "metadata": {},
     "output_type": "display_data"
    }
   ],
   "source": [
    "df_r3_path = path(df_r3, 'r3_text')"
   ]
  },
  {
   "cell_type": "markdown",
   "id": "51e1557e",
   "metadata": {},
   "source": [
    "## Result 4"
   ]
  },
  {
   "cell_type": "code",
   "execution_count": 14,
   "id": "1b70d37e",
   "metadata": {},
   "outputs": [
    {
     "name": "stdout",
     "output_type": "stream",
     "text": [
      "(5739, 7)\n",
      "r4_text                   2774\n",
      "r4_url                    2774\n",
      "r3_url                       0\n",
      "document_name             2965\n",
      "document_download_link    2965\n",
      "document_date             2965\n",
      "doc_submitter             2965\n",
      "dtype: int64\n"
     ]
    },
    {
     "data": {
      "text/html": [
       "<div><div id=c028a045-4a3a-48fb-8504-3369ccf3ef94 style=\"display:none; background-color:#9D6CFF; color:white; width:200px; height:30px; padding-left:5px; border-radius:4px; flex-direction:row; justify-content:space-around; align-items:center;\" onmouseover=\"this.style.backgroundColor='#BA9BF8'\" onmouseout=\"this.style.backgroundColor='#9D6CFF'\" onclick=\"window.commands?.execute('create-mitosheet-from-dataframe-output');\">See Full Dataframe in Mito</div> <script> if (window.commands?.hasCommand('create-mitosheet-from-dataframe-output')) document.getElementById('c028a045-4a3a-48fb-8504-3369ccf3ef94').style.display = 'flex' </script> <table border=\"1\" class=\"dataframe\">\n",
       "  <thead>\n",
       "    <tr style=\"text-align: right;\">\n",
       "      <th></th>\n",
       "      <th>r4_text</th>\n",
       "      <th>r4_url</th>\n",
       "      <th>r3_url</th>\n",
       "      <th>document_name</th>\n",
       "      <th>document_download_link</th>\n",
       "      <th>document_date</th>\n",
       "      <th>doc_submitter</th>\n",
       "    </tr>\n",
       "  </thead>\n",
       "  <tbody>\n",
       "    <tr>\n",
       "      <th>0</th>\n",
       "      <td>NaN</td>\n",
       "      <td>NaN</td>\n",
       "      <td>https://apps.cer-rec.gc.ca/REGDOCS/Item/LoadResult/427733</td>\n",
       "      <td>A0V7Q5 - Board letter and Order TOI-02-2006 to Terasen Pipelines - Toll Settlement and Final Tolls for 2006</td>\n",
       "      <td>/REGDOCS/File/Download/427734</td>\n",
       "      <td>2006-08-30</td>\n",
       "      <td>NEB</td>\n",
       "    </tr>\n",
       "  </tbody>\n",
       "</table></div>"
      ],
      "text/plain": [
       "  r4_text r4_url                                             r3_url  \\\n",
       "0     NaN    NaN  https://apps.cer-rec.gc.ca/REGDOCS/Item/LoadRe...   \n",
       "\n",
       "                                       document_name  \\\n",
       "0  A0V7Q5 - Board letter and Order TOI-02-2006 to...   \n",
       "\n",
       "          document_download_link document_date doc_submitter  \n",
       "0  /REGDOCS/File/Download/427734    2006-08-30           NEB  "
      ]
     },
     "metadata": {},
     "output_type": "display_data"
    },
    {
     "name": "stdout",
     "output_type": "stream",
     "text": [
      "CPU times: user 16.2 s, sys: 1.43 s, total: 17.6 s\n",
      "Wall time: 1min 27s\n"
     ]
    },
    {
     "data": {
      "image/png": "[encoded data removed]",
      "text/plain": [
       "<Figure size 432x576 with 1 Axes>"
      ]
     },
     "metadata": {
      "needs_background": "light"
     },
     "output_type": "display_data"
    }
   ],
   "source": [
    "%%time\n",
    "# Wall time: 3min 27s\n",
    "\n",
    "dfs_collector = []\n",
    "get_documents(source = df_r3_path['r3_url'], string1 = 'r4_', string2 = 'r3_')\n",
    "\n",
    "df_r4 = concat_dfs_collector('df_r4.csv', 'r4_text', 'r4')"
   ]
  },
  {
   "cell_type": "markdown",
   "id": "c71dcbbc",
   "metadata": {},
   "source": [
    "### Results 4 documents"
   ]
  },
  {
   "cell_type": "code",
   "execution_count": 15,
   "id": "09f86c2a",
   "metadata": {
    "scrolled": false
   },
   "outputs": [
    {
     "name": "stdout",
     "output_type": "stream",
     "text": [
      "(2764, 5)\n"
     ]
    },
    {
     "data": {
      "text/html": [
       "<div><div id=c67e120b-d33c-4242-8d55-e2b6c41e7dba style=\"display:none; background-color:#9D6CFF; color:white; width:200px; height:30px; padding-left:5px; border-radius:4px; flex-direction:row; justify-content:space-around; align-items:center;\" onmouseover=\"this.style.backgroundColor='#BA9BF8'\" onmouseout=\"this.style.backgroundColor='#9D6CFF'\" onclick=\"window.commands?.execute('create-mitosheet-from-dataframe-output');\">See Full Dataframe in Mito</div> <script> if (window.commands?.hasCommand('create-mitosheet-from-dataframe-output')) document.getElementById('c67e120b-d33c-4242-8d55-e2b6c41e7dba').style.display = 'flex' </script> <table border=\"1\" class=\"dataframe\">\n",
       "  <thead>\n",
       "    <tr style=\"text-align: right;\">\n",
       "      <th></th>\n",
       "      <th>r3_url</th>\n",
       "      <th>document_name</th>\n",
       "      <th>document_download_link</th>\n",
       "      <th>document_date</th>\n",
       "      <th>doc_submitter</th>\n",
       "    </tr>\n",
       "  </thead>\n",
       "  <tbody>\n",
       "    <tr>\n",
       "      <th>0</th>\n",
       "      <td>https://apps.cer-rec.gc.ca/REGDOCS/Item/LoadResult/427733</td>\n",
       "      <td>A0V7Q5 - Board letter and Order TOI-02-2006 to Terasen Pipelines - Toll Settlement and Final Tolls for 2006</td>\n",
       "      <td>/REGDOCS/File/Download/427734</td>\n",
       "      <td>2006-08-30</td>\n",
       "      <td>NEB</td>\n",
       "    </tr>\n",
       "  </tbody>\n",
       "</table></div>"
      ],
      "text/plain": [
       "                                              r3_url  \\\n",
       "0  https://apps.cer-rec.gc.ca/REGDOCS/Item/LoadRe...   \n",
       "\n",
       "                                       document_name  \\\n",
       "0  A0V7Q5 - Board letter and Order TOI-02-2006 to...   \n",
       "\n",
       "          document_download_link document_date doc_submitter  \n",
       "0  /REGDOCS/File/Download/427734    2006-08-30           NEB  "
      ]
     },
     "metadata": {},
     "output_type": "display_data"
    },
    {
     "data": {
      "text/plain": [
       "(2774, 11)"
      ]
     },
     "execution_count": 15,
     "metadata": {},
     "output_type": "execute_result"
    },
    {
     "data": {
      "text/plain": [
       "Index(['r3_url', 'document_name', 'document_download_link', 'document_date',\n",
       "       'doc_submitter', 'r3_text', 'r2_url', 'r2_text', 'r1_url', 'r1_text',\n",
       "       'r0_url'],\n",
       "      dtype='object')"
      ]
     },
     "execution_count": 15,
     "metadata": {},
     "output_type": "execute_result"
    },
    {
     "data": {
      "text/plain": [
       "r3_url                    object\n",
       "document_name             object\n",
       "document_download_link    object\n",
       "document_date             object\n",
       "doc_submitter             object\n",
       "r3_text                   object\n",
       "r2_url                    object\n",
       "r2_text                   object\n",
       "r1_url                    object\n",
       "r1_text                   object\n",
       "r0_url                    object\n",
       "dtype: object"
      ]
     },
     "execution_count": 15,
     "metadata": {},
     "output_type": "execute_result"
    }
   ],
   "source": [
    "df_r4_doc = documents(df_r4)\n",
    "df_r4_doc = df_r4_doc.merge(df_r3_path).merge(df_r2, on = 'r2_url').merge(df_r1)\n",
    "df_r4_doc.shape\n",
    "df_r4_doc.columns\n",
    "df_r4_doc.dtypes"
   ]
  },
  {
   "cell_type": "code",
   "execution_count": 16,
   "id": "5baa91ad",
   "metadata": {},
   "outputs": [],
   "source": [
    "df_r4_doc['FAQ'] = np.where(df_r4_doc['r2_text'].str.contains('^......pplic|Application Prior'), 'Yes', 'No')\n",
    "df_r4_doc['PKM'] = np.where(df_r4_doc['r2_text'].str.contains('^Tolls and Tariffs'), 'Yes', 'No')\n",
    "\n",
    "# doc_1 FAQ removed; PKM removed (company level featured information)\n",
    "df_r4_doc_1 = df_r4_doc[(~df_r4_doc['FAQ'].str.contains('Yes') & (~df_r4_doc['PKM'].str.contains('Yes')))] \n",
    "\n",
    "df_r4_doc_1 = df_r4_doc_1.rename(columns = {\"r1_text\" : \"company_name\", \"r1_url\" : \"company_name_url\",\n",
    "                              \"r2_text\" : \"application_name\", \"r2_url\" : \"application_name_url\",\n",
    "                              \"r3_text\" : \"folder_name\", \"r3_url\" : \"folder_name_url\"})\n",
    "\n",
    "df_r4_doc_1 = df_r4_doc_1.assign(df = 'df_r4_doc_1')\n",
    "df_r4_doc_1 = df_r4_doc_1.assign(component = 'applications')\n",
    "df_r4_doc_1 = df_r4_doc_1.drop(['FAQ', 'PKM'], axis = 1)"
   ]
  },
  {
   "cell_type": "markdown",
   "id": "6ea66baf",
   "metadata": {},
   "source": [
    "### Results 4 path"
   ]
  },
  {
   "cell_type": "code",
   "execution_count": 17,
   "id": "e4002c10",
   "metadata": {},
   "outputs": [
    {
     "name": "stdout",
     "output_type": "stream",
     "text": [
      "(2965, 3)\n"
     ]
    },
    {
     "data": {
      "text/html": [
       "<div><div id=8876963b-d684-4262-b508-3a32a0fcb628 style=\"display:none; background-color:#9D6CFF; color:white; width:200px; height:30px; padding-left:5px; border-radius:4px; flex-direction:row; justify-content:space-around; align-items:center;\" onmouseover=\"this.style.backgroundColor='#BA9BF8'\" onmouseout=\"this.style.backgroundColor='#9D6CFF'\" onclick=\"window.commands?.execute('create-mitosheet-from-dataframe-output');\">See Full Dataframe in Mito</div> <script> if (window.commands?.hasCommand('create-mitosheet-from-dataframe-output')) document.getElementById('8876963b-d684-4262-b508-3a32a0fcb628').style.display = 'flex' </script> <table border=\"1\" class=\"dataframe\">\n",
       "  <thead>\n",
       "    <tr style=\"text-align: right;\">\n",
       "      <th></th>\n",
       "      <th>r4_text</th>\n",
       "      <th>r4_url</th>\n",
       "      <th>r3_url</th>\n",
       "    </tr>\n",
       "  </thead>\n",
       "  <tbody>\n",
       "    <tr>\n",
       "      <th>0</th>\n",
       "      <td>06-01-11 Carleen Leung - Terasen Pipelines (Trans Mountain) correction to Tariff No. 59 (A11120)</td>\n",
       "      <td>https://apps.cer-rec.gc.ca/REGDOCS/Item/LoadResult/391052</td>\n",
       "      <td>https://apps.cer-rec.gc.ca/REGDOCS/Item/LoadResult/400721</td>\n",
       "    </tr>\n",
       "  </tbody>\n",
       "</table></div>"
      ],
      "text/plain": [
       "                                             r4_text  \\\n",
       "0  06-01-11 Carleen Leung - Terasen Pipelines (Tr...   \n",
       "\n",
       "                                              r4_url  \\\n",
       "0  https://apps.cer-rec.gc.ca/REGDOCS/Item/LoadRe...   \n",
       "\n",
       "                                              r3_url  \n",
       "0  https://apps.cer-rec.gc.ca/REGDOCS/Item/LoadRe...  "
      ]
     },
     "metadata": {},
     "output_type": "display_data"
    }
   ],
   "source": [
    "df_r4_path = path(df_r4, 'r4_text')"
   ]
  },
  {
   "cell_type": "markdown",
   "id": "4655bd69",
   "metadata": {},
   "source": [
    "## Results 5"
   ]
  },
  {
   "cell_type": "code",
   "execution_count": 18,
   "id": "4465485b",
   "metadata": {},
   "outputs": [
    {
     "name": "stdout",
     "output_type": "stream",
     "text": [
      "(10875, 7)\n",
      "r5_text                   7551\n",
      "r5_url                    7551\n",
      "r4_url                       0\n",
      "document_name             3324\n",
      "document_download_link    3324\n",
      "document_date             3324\n",
      "doc_submitter             3324\n",
      "dtype: int64\n"
     ]
    },
    {
     "data": {
      "text/html": [
       "<div><div id=f6a4a753-34e7-40ef-b1f4-fc1073ca7ba3 style=\"display:none; background-color:#9D6CFF; color:white; width:200px; height:30px; padding-left:5px; border-radius:4px; flex-direction:row; justify-content:space-around; align-items:center;\" onmouseover=\"this.style.backgroundColor='#BA9BF8'\" onmouseout=\"this.style.backgroundColor='#9D6CFF'\" onclick=\"window.commands?.execute('create-mitosheet-from-dataframe-output');\">See Full Dataframe in Mito</div> <script> if (window.commands?.hasCommand('create-mitosheet-from-dataframe-output')) document.getElementById('f6a4a753-34e7-40ef-b1f4-fc1073ca7ba3').style.display = 'flex' </script> <table border=\"1\" class=\"dataframe\">\n",
       "  <thead>\n",
       "    <tr style=\"text-align: right;\">\n",
       "      <th></th>\n",
       "      <th>r5_text</th>\n",
       "      <th>r5_url</th>\n",
       "      <th>r4_url</th>\n",
       "      <th>document_name</th>\n",
       "      <th>document_download_link</th>\n",
       "      <th>document_date</th>\n",
       "      <th>doc_submitter</th>\n",
       "    </tr>\n",
       "  </thead>\n",
       "  <tbody>\n",
       "    <tr>\n",
       "      <th>0</th>\n",
       "      <td>NaN</td>\n",
       "      <td>NaN</td>\n",
       "      <td>https://apps.cer-rec.gc.ca/REGDOCS/Item/LoadResult/395584</td>\n",
       "      <td>A0S9Q8 - Letter</td>\n",
       "      <td>/REGDOCS/File/Download/395585</td>\n",
       "      <td>2006-01-27</td>\n",
       "      <td>NEB</td>\n",
       "    </tr>\n",
       "  </tbody>\n",
       "</table></div>"
      ],
      "text/plain": [
       "  r5_text r5_url                                             r4_url  \\\n",
       "0     NaN    NaN  https://apps.cer-rec.gc.ca/REGDOCS/Item/LoadRe...   \n",
       "\n",
       "     document_name         document_download_link document_date doc_submitter  \n",
       "0  A0S9Q8 - Letter  /REGDOCS/File/Download/395585    2006-01-27           NEB  "
      ]
     },
     "metadata": {},
     "output_type": "display_data"
    },
    {
     "name": "stdout",
     "output_type": "stream",
     "text": [
      "CPU times: user 34.3 s, sys: 3.05 s, total: 37.3 s\n",
      "Wall time: 1min 59s\n"
     ]
    },
    {
     "data": {
      "image/png": "[encoded data removed]",
      "text/plain": [
       "<Figure size 432x576 with 1 Axes>"
      ]
     },
     "metadata": {
      "needs_background": "light"
     },
     "output_type": "display_data"
    }
   ],
   "source": [
    "%%time\n",
    "# Wall time: 6min 36s\n",
    "\n",
    "dfs_collector = []\n",
    "get_documents(source = df_r4_path['r4_url'], string1 = 'r5_', string2 = 'r4_')\n",
    "\n",
    "df_r5 = concat_dfs_collector('df_r5.csv', 'r5_text', 'r5')"
   ]
  },
  {
   "cell_type": "markdown",
   "id": "525f1e98",
   "metadata": {},
   "source": [
    "### Results 5 documents"
   ]
  },
  {
   "cell_type": "code",
   "execution_count": 19,
   "id": "c4f965a2",
   "metadata": {
    "code_folding": [],
    "scrolled": true
   },
   "outputs": [
    {
     "name": "stdout",
     "output_type": "stream",
     "text": [
      "(7417, 5)\n"
     ]
    },
    {
     "data": {
      "text/html": [
       "<div><div id=7c90535e-3d70-4108-8b56-a0f3e7576610 style=\"display:none; background-color:#9D6CFF; color:white; width:200px; height:30px; padding-left:5px; border-radius:4px; flex-direction:row; justify-content:space-around; align-items:center;\" onmouseover=\"this.style.backgroundColor='#BA9BF8'\" onmouseout=\"this.style.backgroundColor='#9D6CFF'\" onclick=\"window.commands?.execute('create-mitosheet-from-dataframe-output');\">See Full Dataframe in Mito</div> <script> if (window.commands?.hasCommand('create-mitosheet-from-dataframe-output')) document.getElementById('7c90535e-3d70-4108-8b56-a0f3e7576610').style.display = 'flex' </script> <table border=\"1\" class=\"dataframe\">\n",
       "  <thead>\n",
       "    <tr style=\"text-align: right;\">\n",
       "      <th></th>\n",
       "      <th>r4_url</th>\n",
       "      <th>document_name</th>\n",
       "      <th>document_download_link</th>\n",
       "      <th>document_date</th>\n",
       "      <th>doc_submitter</th>\n",
       "    </tr>\n",
       "  </thead>\n",
       "  <tbody>\n",
       "    <tr>\n",
       "      <th>0</th>\n",
       "      <td>https://apps.cer-rec.gc.ca/REGDOCS/Item/LoadResult/395584</td>\n",
       "      <td>A0S9Q8 - Letter</td>\n",
       "      <td>/REGDOCS/File/Download/395585</td>\n",
       "      <td>2006-01-27</td>\n",
       "      <td>NEB</td>\n",
       "    </tr>\n",
       "  </tbody>\n",
       "</table></div>"
      ],
      "text/plain": [
       "                                              r4_url    document_name  \\\n",
       "0  https://apps.cer-rec.gc.ca/REGDOCS/Item/LoadRe...  A0S9Q8 - Letter   \n",
       "\n",
       "          document_download_link document_date doc_submitter  \n",
       "0  /REGDOCS/File/Download/395585    2006-01-27           NEB  "
      ]
     },
     "metadata": {},
     "output_type": "display_data"
    },
    {
     "data": {
      "text/plain": [
       "(7666, 13)"
      ]
     },
     "execution_count": 19,
     "metadata": {},
     "output_type": "execute_result"
    },
    {
     "data": {
      "text/plain": [
       "Index(['r4_url', 'document_name', 'document_download_link', 'document_date',\n",
       "       'doc_submitter', 'r4_text', 'r3_url', 'r3_text', 'r2_url', 'r2_text',\n",
       "       'r1_url', 'r1_text', 'r0_url'],\n",
       "      dtype='object')"
      ]
     },
     "execution_count": 19,
     "metadata": {},
     "output_type": "execute_result"
    }
   ],
   "source": [
    "df_r5_doc = documents(df_r5)\n",
    "df_r5_doc = df_r5_doc.merge(df_r4_path).merge(df_r3_path).merge(df_r2, on = 'r2_url').merge(df_r1)\n",
    "df_r5_doc.shape\n",
    "df_r5_doc.columns"
   ]
  },
  {
   "cell_type": "code",
   "execution_count": 20,
   "id": "dd679ee3",
   "metadata": {},
   "outputs": [
    {
     "data": {
      "text/html": [
       "<div><div id=0f0c9efe-c354-478e-96d2-87456d9f883c style=\"display:none; background-color:#9D6CFF; color:white; width:200px; height:30px; padding-left:5px; border-radius:4px; flex-direction:row; justify-content:space-around; align-items:center;\" onmouseover=\"this.style.backgroundColor='#BA9BF8'\" onmouseout=\"this.style.backgroundColor='#9D6CFF'\" onclick=\"window.commands?.execute('create-mitosheet-from-dataframe-output');\">See Full Dataframe in Mito</div> <script> if (window.commands?.hasCommand('create-mitosheet-from-dataframe-output')) document.getElementById('0f0c9efe-c354-478e-96d2-87456d9f883c').style.display = 'flex' </script> <table border=\"1\" class=\"dataframe\">\n",
       "  <thead>\n",
       "    <tr style=\"text-align: right;\">\n",
       "      <th></th>\n",
       "      <th>folder_name_url</th>\n",
       "      <th>document_name</th>\n",
       "      <th>document_download_link</th>\n",
       "      <th>document_date</th>\n",
       "      <th>doc_submitter</th>\n",
       "      <th>folder_name</th>\n",
       "      <th>application_name_url</th>\n",
       "      <th>application_name</th>\n",
       "      <th>year_folder_url</th>\n",
       "      <th>year_folder</th>\n",
       "      <th>company_name_url</th>\n",
       "      <th>company_name</th>\n",
       "      <th>r0_url</th>\n",
       "      <th>df</th>\n",
       "      <th>component</th>\n",
       "    </tr>\n",
       "  </thead>\n",
       "  <tbody>\n",
       "    <tr>\n",
       "      <th>636</th>\n",
       "      <td>https://apps.cer-rec.gc.ca/REGDOCS/Item/LoadResult/3783630</td>\n",
       "      <td>A99599-1 Suncor letter to NEB re ENB actg 190523 - Executed Copy - A6U7G6</td>\n",
       "      <td>/REGDOCS/File/Download/3783744</td>\n",
       "      <td>2019-05-28</td>\n",
       "      <td>Kelly Holtby</td>\n",
       "      <td>A99599 Kelly Holtby - Response to Enbridge Pipeline Inc.'s request under Subsection 28(2) of the OPUAR</td>\n",
       "      <td>https://apps.cer-rec.gc.ca/REGDOCS/Item/LoadResult/3773832</td>\n",
       "      <td>2019-05-03 Application for Exemptions for Line 3 Replacement Project</td>\n",
       "      <td>https://apps.cer-rec.gc.ca/REGDOCS/Item/LoadResult/3773831</td>\n",
       "      <td>2019 Applications</td>\n",
       "      <td>https://apps.cer-rec.gc.ca/REGDOCS/Item/LoadResult/155829</td>\n",
       "      <td>Enbridge Pipelines Inc.</td>\n",
       "      <td>https://apps.cer-rec.gc.ca/REGDOCS/Item/LoadResult/92835</td>\n",
       "      <td>df_r5_doc_1</td>\n",
       "      <td>applications</td>\n",
       "    </tr>\n",
       "  </tbody>\n",
       "</table></div>"
      ],
      "text/plain": [
       "                                       folder_name_url  \\\n",
       "636  https://apps.cer-rec.gc.ca/REGDOCS/Item/LoadRe...   \n",
       "\n",
       "                                         document_name  \\\n",
       "636  A99599-1 Suncor letter to NEB re ENB actg 1905...   \n",
       "\n",
       "             document_download_link document_date doc_submitter  \\\n",
       "636  /REGDOCS/File/Download/3783744    2019-05-28  Kelly Holtby   \n",
       "\n",
       "                                           folder_name  \\\n",
       "636  A99599 Kelly Holtby - Response to Enbridge Pip...   \n",
       "\n",
       "                                  application_name_url  \\\n",
       "636  https://apps.cer-rec.gc.ca/REGDOCS/Item/LoadRe...   \n",
       "\n",
       "                                      application_name  \\\n",
       "636  2019-05-03 Application for Exemptions for Line...   \n",
       "\n",
       "                                       year_folder_url        year_folder  \\\n",
       "636  https://apps.cer-rec.gc.ca/REGDOCS/Item/LoadRe...  2019 Applications   \n",
       "\n",
       "                                      company_name_url  \\\n",
       "636  https://apps.cer-rec.gc.ca/REGDOCS/Item/LoadRe...   \n",
       "\n",
       "                company_name  \\\n",
       "636  Enbridge Pipelines Inc.   \n",
       "\n",
       "                                                r0_url           df  \\\n",
       "636  https://apps.cer-rec.gc.ca/REGDOCS/Item/LoadRe...  df_r5_doc_1   \n",
       "\n",
       "        component  \n",
       "636  applications  "
      ]
     },
     "execution_count": 20,
     "metadata": {},
     "output_type": "execute_result"
    }
   ],
   "source": [
    "# doc_1\n",
    "df_r5_doc['application_year'] = np.where(df_r5_doc['r2_text'].str.contains('^\\d\\d\\d\\d..pplic|Application Prior'), 'Yes', 'No')\n",
    "\n",
    "df_r5_doc_1 = df_r5_doc[df_r5_doc['application_year'].str.contains('Yes')] \n",
    "df_r5_doc_1 = df_r5_doc_1.drop(['application_year'], axis = 1)\n",
    "\n",
    "df_r5_doc_1 = df_r5_doc_1.assign(df = 'df_r5_doc_1') #...\n",
    "\n",
    "df_r5_doc_1 = df_r5_doc_1.rename(columns = {\n",
    "                          \"r1_text\" : \"company_name\", \"r1_url\" : \"company_name_url\",\n",
    "                          \"r2_text\" : \"year_folder\", 'r2_url' : \"year_folder_url\",\n",
    "                          \"r3_text\" : \"application_name\", \"r3_url\" : \"application_name_url\",\n",
    "                          \"r4_text\" : \"folder_name\", \"r4_url\" : \"folder_name_url\"})\n",
    "\n",
    "df_r5_doc_1['component'] = 'applications'\n",
    "\n",
    "df_r5_doc_1['year_folder'] = df_r5_doc_1['year_folder'].str.replace('Application$', 'Applications')\n",
    "df_r5_doc_1.head(1)\n"
   ]
  },
  {
   "cell_type": "code",
   "execution_count": 21,
   "id": "10e890cb",
   "metadata": {},
   "outputs": [],
   "source": [
    "# doc_2\n",
    "df_r5_doc['participant_name'] = np.where(df_r5_doc['r2_text'].str.contains('^\\d\\d\\d\\d-\\d\\d-\\d\\d'), 'Yes', 'No')\n",
    "\n",
    "df_r5_doc_2 = df_r5_doc[df_r5_doc['participant_name'].str.contains('Yes')] \n",
    "df_r5_doc_2 = df_r5_doc_2.drop(['participant_name', 'application_year'], axis = 1)\n",
    "\n",
    "df_r5_doc_2 = df_r5_doc_2.assign(df = 'df_r5_doc_2')\n",
    "\n",
    "df_r5_doc_2 = df_r5_doc_2.rename(columns = {\n",
    "                          \"r1_text\" : \"company_name\", \"r1_url\" : \"company_name_url\",\n",
    "                          \"r2_text\" : \"application_name\", 'r2_url' : \"application_name_url\",\n",
    "                          \"r3_text\" : \"participant_name\", \"r3_url\" : \"participant_name_url\",\n",
    "                          \"r4_text\" : \"folder_name\", \"r4_url\" : \"folder_name_url\"})\n",
    "\n",
    "df_r5_doc_2['component'] = 'applications'\n",
    "\n",
    "df_r5_doc_2 = df_r5_doc_2[~df_r5_doc_2['company_name'].str.contains('Multi')]"
   ]
  },
  {
   "cell_type": "code",
   "execution_count": 22,
   "id": "510d8650",
   "metadata": {},
   "outputs": [
    {
     "data": {
      "text/plain": [
       "(230, 15)"
      ]
     },
     "execution_count": 22,
     "metadata": {},
     "output_type": "execute_result"
    }
   ],
   "source": [
    "# doc_3\n",
    "df_r5_doc['multi_client'] = np.where(df_r5_doc['r1_text'].str.contains('Multi-Client'), 'Yes', 'No')\n",
    "df_r5_doc_3 = df_r5_doc[df_r5_doc['multi_client'].str.contains('Yes')] \n",
    "df_r5_doc_3 = df_r5_doc_3.drop(['multi_client', 'participant_name', 'application_year'], axis = 1)\n",
    "\n",
    "df_r5_doc_3 = df_r5_doc_3.assign(df = 'df_r5_doc_3')\n",
    "\n",
    "df_r5_doc_3 = df_r5_doc_3.rename(columns = {\n",
    "                          \"r1_text\" : \"company_name\", \"r1_url\" : \"company_name_url\",\n",
    "                          \"r2_text\" : \"application_name\", 'r2_url' : \"application_name_url\",\n",
    "                          \"r3_text\" : \"Notes\", \"r3_url\" : \"Notes_url\", #come back to this\n",
    "                          \"r4_text\" : \"folder_name\", \"r4_url\" : \"folder_name_url\"})\n",
    "\n",
    "df_r5_doc_3['component'] = 'applications'\n",
    "\n",
    "df_r5_doc_3.shape"
   ]
  },
  {
   "cell_type": "markdown",
   "id": "14e4d30c",
   "metadata": {},
   "source": [
    "### Results 5 path"
   ]
  },
  {
   "cell_type": "code",
   "execution_count": 23,
   "id": "0cf6bb6e",
   "metadata": {},
   "outputs": [
    {
     "name": "stdout",
     "output_type": "stream",
     "text": [
      "(3324, 3)\n"
     ]
    },
    {
     "data": {
      "text/html": [
       "<div><div id=059dabd6-b613-4c17-8b07-e797f03c340b style=\"display:none; background-color:#9D6CFF; color:white; width:200px; height:30px; padding-left:5px; border-radius:4px; flex-direction:row; justify-content:space-around; align-items:center;\" onmouseover=\"this.style.backgroundColor='#BA9BF8'\" onmouseout=\"this.style.backgroundColor='#9D6CFF'\" onclick=\"window.commands?.execute('create-mitosheet-from-dataframe-output');\">See Full Dataframe in Mito</div> <script> if (window.commands?.hasCommand('create-mitosheet-from-dataframe-output')) document.getElementById('059dabd6-b613-4c17-8b07-e797f03c340b').style.display = 'flex' </script> <table border=\"1\" class=\"dataframe\">\n",
       "  <thead>\n",
       "    <tr style=\"text-align: right;\">\n",
       "      <th></th>\n",
       "      <th>r5_text</th>\n",
       "      <th>r5_url</th>\n",
       "      <th>r4_url</th>\n",
       "    </tr>\n",
       "  </thead>\n",
       "  <tbody>\n",
       "    <tr>\n",
       "      <th>0</th>\n",
       "      <td>07-03-21 ConocoPhillips Canada Limited - Comments on the 4 issues outlined in the NEB letter dated 15 March 2007 - ref Terasen Pipeline Capacity Allocation Procedure and Westridge Dock Bid Premium (A15079)</td>\n",
       "      <td>https://apps.cer-rec.gc.ca/REGDOCS/Item/LoadResult/457042</td>\n",
       "      <td>https://apps.cer-rec.gc.ca/REGDOCS/Item/LoadResult/462210</td>\n",
       "    </tr>\n",
       "  </tbody>\n",
       "</table></div>"
      ],
      "text/plain": [
       "                                             r5_text  \\\n",
       "0  07-03-21 ConocoPhillips Canada Limited - Comme...   \n",
       "\n",
       "                                              r5_url  \\\n",
       "0  https://apps.cer-rec.gc.ca/REGDOCS/Item/LoadRe...   \n",
       "\n",
       "                                              r4_url  \n",
       "0  https://apps.cer-rec.gc.ca/REGDOCS/Item/LoadRe...  "
      ]
     },
     "metadata": {},
     "output_type": "display_data"
    }
   ],
   "source": [
    "df_r5_path = path(df_r5, 'r5_text')"
   ]
  },
  {
   "cell_type": "markdown",
   "id": "982d61e2",
   "metadata": {},
   "source": [
    "## Results 6"
   ]
  },
  {
   "cell_type": "code",
   "execution_count": 24,
   "id": "34f834a6",
   "metadata": {},
   "outputs": [
    {
     "name": "stdout",
     "output_type": "stream",
     "text": [
      "(11298, 7)\n",
      "r6_text                   7973\n",
      "r6_url                    7973\n",
      "r5_url                       0\n",
      "document_name             3325\n",
      "document_download_link    3325\n",
      "document_date             3325\n",
      "doc_submitter             3325\n",
      "dtype: int64\n"
     ]
    },
    {
     "data": {
      "text/html": [
       "<div><div id=495a2d5b-a382-4d53-b10b-d820fb9cdeb3 style=\"display:none; background-color:#9D6CFF; color:white; width:200px; height:30px; padding-left:5px; border-radius:4px; flex-direction:row; justify-content:space-around; align-items:center;\" onmouseover=\"this.style.backgroundColor='#BA9BF8'\" onmouseout=\"this.style.backgroundColor='#9D6CFF'\" onclick=\"window.commands?.execute('create-mitosheet-from-dataframe-output');\">See Full Dataframe in Mito</div> <script> if (window.commands?.hasCommand('create-mitosheet-from-dataframe-output')) document.getElementById('495a2d5b-a382-4d53-b10b-d820fb9cdeb3').style.display = 'flex' </script> <table border=\"1\" class=\"dataframe\">\n",
       "  <thead>\n",
       "    <tr style=\"text-align: right;\">\n",
       "      <th></th>\n",
       "      <th>r6_text</th>\n",
       "      <th>r6_url</th>\n",
       "      <th>r5_url</th>\n",
       "      <th>document_name</th>\n",
       "      <th>document_download_link</th>\n",
       "      <th>document_date</th>\n",
       "      <th>doc_submitter</th>\n",
       "    </tr>\n",
       "  </thead>\n",
       "  <tbody>\n",
       "    <tr>\n",
       "      <th>0</th>\n",
       "      <td>NaN</td>\n",
       "      <td>NaN</td>\n",
       "      <td>https://apps.cer-rec.gc.ca/REGDOCS/Item/LoadResult/470511</td>\n",
       "      <td>A0Z6H5 - Correspondence dated July 11, 2007.pdf</td>\n",
       "      <td>/REGDOCS/File/Download/470622</td>\n",
       "      <td>2007-07-11</td>\n",
       "      <td>ConocoPhillips Canada and Suncor Energy Marketing Inc.</td>\n",
       "    </tr>\n",
       "  </tbody>\n",
       "</table></div>"
      ],
      "text/plain": [
       "  r6_text r6_url                                             r5_url  \\\n",
       "0     NaN    NaN  https://apps.cer-rec.gc.ca/REGDOCS/Item/LoadRe...   \n",
       "\n",
       "                                     document_name  \\\n",
       "0  A0Z6H5 - Correspondence dated July 11, 2007.pdf   \n",
       "\n",
       "          document_download_link document_date  \\\n",
       "0  /REGDOCS/File/Download/470622    2007-07-11   \n",
       "\n",
       "                                       doc_submitter  \n",
       "0  ConocoPhillips Canada and Suncor Energy Market...  "
      ]
     },
     "metadata": {},
     "output_type": "display_data"
    },
    {
     "name": "stdout",
     "output_type": "stream",
     "text": [
      "CPU times: user 35.7 s, sys: 2.59 s, total: 38.3 s\n",
      "Wall time: 2min 57s\n"
     ]
    },
    {
     "data": {
      "image/png": "[encoded data removed]",
      "text/plain": [
       "<Figure size 432x576 with 1 Axes>"
      ]
     },
     "metadata": {
      "needs_background": "light"
     },
     "output_type": "display_data"
    }
   ],
   "source": [
    "%%time\n",
    "# Wall time: 3min 12s\n",
    "\n",
    "dfs_collector = []\n",
    "get_documents(source = df_r5_path['r5_url'], string1 = 'r6_', string2 = 'r5_')\n",
    "\n",
    "df_r6 = concat_dfs_collector('df_r6.csv', 'r6_text', 'r6')"
   ]
  },
  {
   "cell_type": "markdown",
   "id": "ce26d6f7",
   "metadata": {},
   "source": [
    "### Results 6 documents"
   ]
  },
  {
   "cell_type": "code",
   "execution_count": 25,
   "id": "16044bbe",
   "metadata": {
    "scrolled": true
   },
   "outputs": [
    {
     "name": "stdout",
     "output_type": "stream",
     "text": [
      "(7938, 5)\n"
     ]
    },
    {
     "data": {
      "text/html": [
       "<div><div id=3746950c-5219-4a84-908e-a4ecc70e3779 style=\"display:none; background-color:#9D6CFF; color:white; width:200px; height:30px; padding-left:5px; border-radius:4px; flex-direction:row; justify-content:space-around; align-items:center;\" onmouseover=\"this.style.backgroundColor='#BA9BF8'\" onmouseout=\"this.style.backgroundColor='#9D6CFF'\" onclick=\"window.commands?.execute('create-mitosheet-from-dataframe-output');\">See Full Dataframe in Mito</div> <script> if (window.commands?.hasCommand('create-mitosheet-from-dataframe-output')) document.getElementById('3746950c-5219-4a84-908e-a4ecc70e3779').style.display = 'flex' </script> <table border=\"1\" class=\"dataframe\">\n",
       "  <thead>\n",
       "    <tr style=\"text-align: right;\">\n",
       "      <th></th>\n",
       "      <th>r5_url</th>\n",
       "      <th>document_name</th>\n",
       "      <th>document_download_link</th>\n",
       "      <th>document_date</th>\n",
       "      <th>doc_submitter</th>\n",
       "    </tr>\n",
       "  </thead>\n",
       "  <tbody>\n",
       "    <tr>\n",
       "      <th>0</th>\n",
       "      <td>https://apps.cer-rec.gc.ca/REGDOCS/Item/LoadResult/470511</td>\n",
       "      <td>A0Z6H5 - Correspondence dated July 11, 2007.pdf</td>\n",
       "      <td>/REGDOCS/File/Download/470622</td>\n",
       "      <td>2007-07-11</td>\n",
       "      <td>ConocoPhillips Canada and Suncor Energy Marketing Inc.</td>\n",
       "    </tr>\n",
       "  </tbody>\n",
       "</table></div>"
      ],
      "text/plain": [
       "                                              r5_url  \\\n",
       "0  https://apps.cer-rec.gc.ca/REGDOCS/Item/LoadRe...   \n",
       "\n",
       "                                     document_name  \\\n",
       "0  A0Z6H5 - Correspondence dated July 11, 2007.pdf   \n",
       "\n",
       "          document_download_link document_date  \\\n",
       "0  /REGDOCS/File/Download/470622    2007-07-11   \n",
       "\n",
       "                                       doc_submitter  \n",
       "0  ConocoPhillips Canada and Suncor Energy Market...  "
      ]
     },
     "metadata": {},
     "output_type": "display_data"
    },
    {
     "data": {
      "text/plain": [
       "(7973, 15)"
      ]
     },
     "execution_count": 25,
     "metadata": {},
     "output_type": "execute_result"
    }
   ],
   "source": [
    "df_r6_doc = documents(df_r6)\n",
    "df_r6_doc = df_r6_doc.merge(df_r5_path, on = 'r5_url').merge(df_r4_path, on = 'r4_url').merge(df_r3_path, on = 'r3_url').merge(df_r2, on = 'r2_url').merge(df_r1)\n",
    "df_r6_doc.shape"
   ]
  },
  {
   "cell_type": "code",
   "execution_count": 26,
   "id": "502acf75",
   "metadata": {},
   "outputs": [
    {
     "data": {
      "text/plain": [
       "(6620, 17)"
      ]
     },
     "execution_count": 26,
     "metadata": {},
     "output_type": "execute_result"
    }
   ],
   "source": [
    "# doc_1\n",
    "df_r6_doc['application_year'] = np.where(df_r6_doc['r2_text'].str.contains('^\\d\\d\\d\\d..pplic|Application Prior'), 'Yes', 'No')\n",
    "df_r6_doc_1 = df_r6_doc[df_r6_doc['application_year'].str.contains('Yes')] \n",
    "df_r6_doc_1 = df_r6_doc_1.drop(['application_year'], axis = 1)\n",
    "\n",
    "df_r6_doc_1 = df_r6_doc_1.assign(df = 'df_r6_doc_1')\n",
    "\n",
    "df_r6_doc_1 = df_r6_doc_1.rename(columns = {\n",
    "                          \"r1_text\" : \"company_name\", \"r1_url\" : \"company_name_url\",\n",
    "                          \"r2_text\" : \"year_folder\", 'r2_url' : \"year_folder_url\",\n",
    "                          \"r3_text\" : \"application_name\", \"r3_url\" : \"application_name_url\",\n",
    "                          \"r4_text\" : \"participant_category\", \"r4_url\" : \"participant_category_url\",\n",
    "                          \"r5_text\" : \"folder_name\", \"r5_url\" : \"folder_name_url\"})\n",
    "\n",
    "df_r6_doc_1['component'] = 'applications'\n",
    "\n",
    "df_r6_doc_1['year_folder'] = df_r6_doc_1['year_folder'].str.replace('Application$', 'Applications')\n",
    "df_r6_doc_1.shape\n"
   ]
  },
  {
   "cell_type": "code",
   "execution_count": 27,
   "id": "08f7e5c0",
   "metadata": {},
   "outputs": [
    {
     "data": {
      "text/plain": [
       "(1353, 17)"
      ]
     },
     "execution_count": 27,
     "metadata": {},
     "output_type": "execute_result"
    }
   ],
   "source": [
    "# doc_2\n",
    "df_r6_doc['participant_name'] = np.where(df_r6_doc['r2_text'].str.contains('^\\d\\d\\d\\d-\\d\\d-\\d\\d'), 'Yes', 'No')\n",
    "\n",
    "df_r6_doc_2 = df_r6_doc[df_r6_doc['participant_name'].str.contains('Yes')] \n",
    "df_r6_doc_2 = df_r6_doc_2.drop(['participant_name', 'application_year'], axis = 1)\n",
    "\n",
    "df_r6_doc_2 = df_r6_doc_2.assign(df = 'df_r6_doc_2')\n",
    "\n",
    "df_r6_doc_2 = df_r6_doc_2.rename(columns = {\n",
    "                          \"r1_text\" : \"company_name\", \"r1_url\" : \"company_name_url\",\n",
    "                          \"r2_text\" : \"application_name\", 'r2_url' : \"application_name_url\",\n",
    "                          \"r3_text\" : \"participant_category\", \"r3_url\" : \"participant_category_url\",\n",
    "                          \"r4_text\" : \"participant_name\", \"r4_url\" : \"participant_name_url\",\n",
    "                          \"r5_text\" : \"folder_name\", \"r5_url\" : \"folder_name_url\"})\n",
    "\n",
    "df_r6_doc_2['component'] = 'applications'\n",
    "\n",
    "df_r6_doc_2.shape"
   ]
  },
  {
   "cell_type": "markdown",
   "id": "320fa986",
   "metadata": {},
   "source": [
    "### Result 6 path"
   ]
  },
  {
   "cell_type": "code",
   "execution_count": 28,
   "id": "96bb9104",
   "metadata": {},
   "outputs": [
    {
     "name": "stdout",
     "output_type": "stream",
     "text": [
      "(3325, 3)\n"
     ]
    },
    {
     "data": {
      "text/html": [
       "<div><div id=9fa3c0ed-0ff6-4f0d-865f-f5fc305ed8c4 style=\"display:none; background-color:#9D6CFF; color:white; width:200px; height:30px; padding-left:5px; border-radius:4px; flex-direction:row; justify-content:space-around; align-items:center;\" onmouseover=\"this.style.backgroundColor='#BA9BF8'\" onmouseout=\"this.style.backgroundColor='#9D6CFF'\" onclick=\"window.commands?.execute('create-mitosheet-from-dataframe-output');\">See Full Dataframe in Mito</div> <script> if (window.commands?.hasCommand('create-mitosheet-from-dataframe-output')) document.getElementById('9fa3c0ed-0ff6-4f0d-865f-f5fc305ed8c4').style.display = 'flex' </script> <table border=\"1\" class=\"dataframe\">\n",
       "  <thead>\n",
       "    <tr style=\"text-align: right;\">\n",
       "      <th></th>\n",
       "      <th>r6_text</th>\n",
       "      <th>r6_url</th>\n",
       "      <th>r5_url</th>\n",
       "    </tr>\n",
       "  </thead>\n",
       "  <tbody>\n",
       "    <tr>\n",
       "      <th>0</th>\n",
       "      <td>C05228 ABDULKAREEM, NAWAF - Application To Participate</td>\n",
       "      <td>https://apps.cer-rec.gc.ca/REGDOCS/Item/LoadResult/3912342</td>\n",
       "      <td>https://apps.cer-rec.gc.ca/REGDOCS/Item/LoadResult/3930703</td>\n",
       "    </tr>\n",
       "  </tbody>\n",
       "</table></div>"
      ],
      "text/plain": [
       "                                             r6_text  \\\n",
       "0  C05228 ABDULKAREEM, NAWAF - Application To Par...   \n",
       "\n",
       "                                              r6_url  \\\n",
       "0  https://apps.cer-rec.gc.ca/REGDOCS/Item/LoadRe...   \n",
       "\n",
       "                                              r5_url  \n",
       "0  https://apps.cer-rec.gc.ca/REGDOCS/Item/LoadRe...  "
      ]
     },
     "metadata": {},
     "output_type": "display_data"
    }
   ],
   "source": [
    "df_r6_path = path(df_r6, 'r6_text')"
   ]
  },
  {
   "cell_type": "markdown",
   "id": "7c46a912",
   "metadata": {},
   "source": [
    "## Results 7"
   ]
  },
  {
   "cell_type": "code",
   "execution_count": 29,
   "id": "ee39dacb",
   "metadata": {},
   "outputs": [
    {
     "name": "stdout",
     "output_type": "stream",
     "text": [
      "(8752, 7)\n",
      "r7_text                   8751\n",
      "r7_url                    8751\n",
      "r6_url                       0\n",
      "document_name                1\n",
      "document_download_link       1\n",
      "document_date                1\n",
      "doc_submitter                1\n",
      "dtype: int64\n"
     ]
    },
    {
     "data": {
      "text/html": [
       "<div><div id=efcc6a0f-2168-4954-8e8a-a8d7bc7cf93f style=\"display:none; background-color:#9D6CFF; color:white; width:200px; height:30px; padding-left:5px; border-radius:4px; flex-direction:row; justify-content:space-around; align-items:center;\" onmouseover=\"this.style.backgroundColor='#BA9BF8'\" onmouseout=\"this.style.backgroundColor='#9D6CFF'\" onclick=\"window.commands?.execute('create-mitosheet-from-dataframe-output');\">See Full Dataframe in Mito</div> <script> if (window.commands?.hasCommand('create-mitosheet-from-dataframe-output')) document.getElementById('efcc6a0f-2168-4954-8e8a-a8d7bc7cf93f').style.display = 'flex' </script> <table border=\"1\" class=\"dataframe\">\n",
       "  <thead>\n",
       "    <tr style=\"text-align: right;\">\n",
       "      <th></th>\n",
       "      <th>r7_text</th>\n",
       "      <th>r7_url</th>\n",
       "      <th>r6_url</th>\n",
       "      <th>document_name</th>\n",
       "      <th>document_download_link</th>\n",
       "      <th>document_date</th>\n",
       "      <th>doc_submitter</th>\n",
       "    </tr>\n",
       "  </thead>\n",
       "  <tbody>\n",
       "    <tr>\n",
       "      <th>0</th>\n",
       "      <td>NaN</td>\n",
       "      <td>NaN</td>\n",
       "      <td>https://apps.cer-rec.gc.ca/REGDOCS/Item/LoadResult/3911997</td>\n",
       "      <td>C05281-1 Artis Exploration Ltd. - Registration Canadian Mainline Contracting Application - A7E2U0</td>\n",
       "      <td>/REGDOCS/File/Download/3911998</td>\n",
       "      <td>2020-03-17</td>\n",
       "      <td>Artis Exploration Ltd.</td>\n",
       "    </tr>\n",
       "  </tbody>\n",
       "</table></div>"
      ],
      "text/plain": [
       "  r7_text r7_url                                             r6_url  \\\n",
       "0     NaN    NaN  https://apps.cer-rec.gc.ca/REGDOCS/Item/LoadRe...   \n",
       "\n",
       "                                       document_name  \\\n",
       "0  C05281-1 Artis Exploration Ltd. - Registration...   \n",
       "\n",
       "           document_download_link document_date           doc_submitter  \n",
       "0  /REGDOCS/File/Download/3911998    2020-03-17  Artis Exploration Ltd.  "
      ]
     },
     "metadata": {},
     "output_type": "display_data"
    },
    {
     "name": "stdout",
     "output_type": "stream",
     "text": [
      "CPU times: user 33.8 s, sys: 2.57 s, total: 36.4 s\n",
      "Wall time: 1min 37s\n"
     ]
    },
    {
     "data": {
      "image/png": "[encoded data removed]",
      "text/plain": [
       "<Figure size 432x576 with 1 Axes>"
      ]
     },
     "metadata": {
      "needs_background": "light"
     },
     "output_type": "display_data"
    }
   ],
   "source": [
    "%%time\n",
    "\n",
    "dfs_collector = []\n",
    "get_documents(source = df_r6_path['r6_url'], string1 = 'r7_', string2 = 'r6_')\n",
    "df_r7 = concat_dfs_collector('df_r7.csv', 'r7_text', 'r7')"
   ]
  },
  {
   "cell_type": "markdown",
   "id": "c6574f8c",
   "metadata": {},
   "source": [
    "### Results 7 documents"
   ]
  },
  {
   "cell_type": "code",
   "execution_count": 30,
   "id": "287d12c9",
   "metadata": {},
   "outputs": [
    {
     "name": "stdout",
     "output_type": "stream",
     "text": [
      "(8214, 5)\n"
     ]
    },
    {
     "data": {
      "text/html": [
       "<div><div id=1494d154-9ea7-41e5-a17a-785b6e8bacf3 style=\"display:none; background-color:#9D6CFF; color:white; width:200px; height:30px; padding-left:5px; border-radius:4px; flex-direction:row; justify-content:space-around; align-items:center;\" onmouseover=\"this.style.backgroundColor='#BA9BF8'\" onmouseout=\"this.style.backgroundColor='#9D6CFF'\" onclick=\"window.commands?.execute('create-mitosheet-from-dataframe-output');\">See Full Dataframe in Mito</div> <script> if (window.commands?.hasCommand('create-mitosheet-from-dataframe-output')) document.getElementById('1494d154-9ea7-41e5-a17a-785b6e8bacf3').style.display = 'flex' </script> <table border=\"1\" class=\"dataframe\">\n",
       "  <thead>\n",
       "    <tr style=\"text-align: right;\">\n",
       "      <th></th>\n",
       "      <th>r6_url</th>\n",
       "      <th>document_name</th>\n",
       "      <th>document_download_link</th>\n",
       "      <th>document_date</th>\n",
       "      <th>doc_submitter</th>\n",
       "    </tr>\n",
       "  </thead>\n",
       "  <tbody>\n",
       "    <tr>\n",
       "      <th>0</th>\n",
       "      <td>https://apps.cer-rec.gc.ca/REGDOCS/Item/LoadResult/3911997</td>\n",
       "      <td>C05281-1 Artis Exploration Ltd. - Registration Canadian Mainline Contracting Application - A7E2U0</td>\n",
       "      <td>/REGDOCS/File/Download/3911998</td>\n",
       "      <td>2020-03-17</td>\n",
       "      <td>Artis Exploration Ltd.</td>\n",
       "    </tr>\n",
       "  </tbody>\n",
       "</table></div>"
      ],
      "text/plain": [
       "                                              r6_url  \\\n",
       "0  https://apps.cer-rec.gc.ca/REGDOCS/Item/LoadRe...   \n",
       "\n",
       "                                       document_name  \\\n",
       "0  C05281-1 Artis Exploration Ltd. - Registration...   \n",
       "\n",
       "           document_download_link document_date           doc_submitter  \n",
       "0  /REGDOCS/File/Download/3911998    2020-03-17  Artis Exploration Ltd.  "
      ]
     },
     "metadata": {},
     "output_type": "display_data"
    },
    {
     "data": {
      "text/plain": [
       "(8751, 19)"
      ]
     },
     "execution_count": 30,
     "metadata": {},
     "output_type": "execute_result"
    },
    {
     "data": {
      "text/html": [
       "<div><div id=b3415c73-5b57-4fde-b90d-5fdd62cf2cc5 style=\"display:none; background-color:#9D6CFF; color:white; width:200px; height:30px; padding-left:5px; border-radius:4px; flex-direction:row; justify-content:space-around; align-items:center;\" onmouseover=\"this.style.backgroundColor='#BA9BF8'\" onmouseout=\"this.style.backgroundColor='#9D6CFF'\" onclick=\"window.commands?.execute('create-mitosheet-from-dataframe-output');\">See Full Dataframe in Mito</div> <script> if (window.commands?.hasCommand('create-mitosheet-from-dataframe-output')) document.getElementById('b3415c73-5b57-4fde-b90d-5fdd62cf2cc5').style.display = 'flex' </script> <table border=\"1\" class=\"dataframe\">\n",
       "  <thead>\n",
       "    <tr style=\"text-align: right;\">\n",
       "      <th></th>\n",
       "      <th>folder_name_url</th>\n",
       "      <th>document_name</th>\n",
       "      <th>document_download_link</th>\n",
       "      <th>document_date</th>\n",
       "      <th>doc_submitter</th>\n",
       "      <th>folder_name</th>\n",
       "      <th>participant_name_url</th>\n",
       "      <th>participant_name</th>\n",
       "      <th>participant_category_url</th>\n",
       "      <th>participant_category</th>\n",
       "      <th>application_name_url</th>\n",
       "      <th>application_name</th>\n",
       "      <th>year_folder_url</th>\n",
       "      <th>year_folder</th>\n",
       "      <th>company_name_url</th>\n",
       "      <th>company_name</th>\n",
       "      <th>r0_url</th>\n",
       "      <th>df</th>\n",
       "      <th>component</th>\n",
       "    </tr>\n",
       "  </thead>\n",
       "  <tbody>\n",
       "    <tr>\n",
       "      <th>0</th>\n",
       "      <td>https://apps.cer-rec.gc.ca/REGDOCS/Item/LoadResult/3911997</td>\n",
       "      <td>C05281-1 Artis Exploration Ltd. - Registration Canadian Mainline Contracting Application - A7E2U0</td>\n",
       "      <td>/REGDOCS/File/Download/3911998</td>\n",
       "      <td>2020-03-17</td>\n",
       "      <td>Artis Exploration Ltd.</td>\n",
       "      <td>C05281 Artis Exploration Ltd. - Artis Exploration Ltd. - Registration Canadian Mainline Contracting Application</td>\n",
       "      <td>https://apps.cer-rec.gc.ca/REGDOCS/Item/LoadResult/3930704</td>\n",
       "      <td>Artis Exploration Ltd.</td>\n",
       "      <td>https://apps.cer-rec.gc.ca/REGDOCS/Item/LoadResult/3908470</td>\n",
       "      <td>D - Commenters</td>\n",
       "      <td>https://apps.cer-rec.gc.ca/REGDOCS/Item/LoadResult/3890507</td>\n",
       "      <td>2019-12-19 - Application for Canadian Mainline Contracting (RH-001-2020)</td>\n",
       "      <td>https://apps.cer-rec.gc.ca/REGDOCS/Item/LoadResult/3773831</td>\n",
       "      <td>2019 Applications</td>\n",
       "      <td>https://apps.cer-rec.gc.ca/REGDOCS/Item/LoadResult/155829</td>\n",
       "      <td>Enbridge Pipelines Inc.</td>\n",
       "      <td>https://apps.cer-rec.gc.ca/REGDOCS/Item/LoadResult/92835</td>\n",
       "      <td>df_r7_doc</td>\n",
       "      <td>applications</td>\n",
       "    </tr>\n",
       "  </tbody>\n",
       "</table></div>"
      ],
      "text/plain": [
       "                                     folder_name_url  \\\n",
       "0  https://apps.cer-rec.gc.ca/REGDOCS/Item/LoadRe...   \n",
       "\n",
       "                                       document_name  \\\n",
       "0  C05281-1 Artis Exploration Ltd. - Registration...   \n",
       "\n",
       "           document_download_link document_date           doc_submitter  \\\n",
       "0  /REGDOCS/File/Download/3911998    2020-03-17  Artis Exploration Ltd.   \n",
       "\n",
       "                                         folder_name  \\\n",
       "0  C05281 Artis Exploration Ltd. - Artis Explorat...   \n",
       "\n",
       "                                participant_name_url        participant_name  \\\n",
       "0  https://apps.cer-rec.gc.ca/REGDOCS/Item/LoadRe...  Artis Exploration Ltd.   \n",
       "\n",
       "                            participant_category_url participant_category  \\\n",
       "0  https://apps.cer-rec.gc.ca/REGDOCS/Item/LoadRe...       D - Commenters   \n",
       "\n",
       "                                application_name_url  \\\n",
       "0  https://apps.cer-rec.gc.ca/REGDOCS/Item/LoadRe...   \n",
       "\n",
       "                                    application_name  \\\n",
       "0  2019-12-19 - Application for Canadian Mainline...   \n",
       "\n",
       "                                     year_folder_url        year_folder  \\\n",
       "0  https://apps.cer-rec.gc.ca/REGDOCS/Item/LoadRe...  2019 Applications   \n",
       "\n",
       "                                    company_name_url             company_name  \\\n",
       "0  https://apps.cer-rec.gc.ca/REGDOCS/Item/LoadRe...  Enbridge Pipelines Inc.   \n",
       "\n",
       "                                              r0_url         df     component  \n",
       "0  https://apps.cer-rec.gc.ca/REGDOCS/Item/LoadRe...  df_r7_doc  applications  "
      ]
     },
     "execution_count": 30,
     "metadata": {},
     "output_type": "execute_result"
    }
   ],
   "source": [
    "df_r7_doc = documents(df_r7)\n",
    "\n",
    "df_r7_doc = df_r7_doc.merge(df_r6_path, on = 'r6_url').merge(df_r5_path, on = 'r5_url').merge(df_r4_path, on = 'r4_url').\\\n",
    "                            merge(df_r3_path, on = 'r3_url').merge(df_r2, on = 'r2_url').merge(df_r1)\n",
    "\n",
    "\n",
    "df_r7_doc.rename(columns={\"r1_text\" : \"company_name\", \"r1_url\" : \"company_name_url\",\n",
    "                          \"r2_text\" : \"year_folder\", 'r2_url' : \"year_folder_url\",\n",
    "                          \"r3_text\" : \"application_name\", \"r3_url\" : \"application_name_url\",\n",
    "                          \"r4_text\" : \"participant_category\", \"r4_url\" : \"participant_category_url\",\n",
    "                          \"r5_text\" : \"participant_name\", \"r5_url\" : \"participant_name_url\",\n",
    "                          \"r6_text\" : \"folder_name\", \"r6_url\" : \"folder_name_url\"}, inplace = True)\n",
    "\n",
    "df_r7_doc['df'] = 'df_r7_doc'\n",
    "\n",
    "df_r7_doc['year_folder'] = df_r7_doc['year_folder'].str.replace('Application$', 'Applications')\n",
    "\n",
    "df_r7_doc['component'] = 'applications'\n",
    "\n",
    "df_r7_doc.shape\n",
    "df_r7_doc.head(1)"
   ]
  },
  {
   "cell_type": "markdown",
   "id": "449e6a59",
   "metadata": {},
   "source": [
    "### Results 7 path"
   ]
  },
  {
   "cell_type": "code",
   "execution_count": 31,
   "id": "985109ed",
   "metadata": {},
   "outputs": [
    {
     "name": "stdout",
     "output_type": "stream",
     "text": [
      "(1, 3)\n"
     ]
    },
    {
     "data": {
      "text/html": [
       "<div><div id=2227a9f5-f015-4963-8ab1-15350ad51667 style=\"display:none; background-color:#9D6CFF; color:white; width:200px; height:30px; padding-left:5px; border-radius:4px; flex-direction:row; justify-content:space-around; align-items:center;\" onmouseover=\"this.style.backgroundColor='#BA9BF8'\" onmouseout=\"this.style.backgroundColor='#9D6CFF'\" onclick=\"window.commands?.execute('create-mitosheet-from-dataframe-output');\">See Full Dataframe in Mito</div> <script> if (window.commands?.hasCommand('create-mitosheet-from-dataframe-output')) document.getElementById('2227a9f5-f015-4963-8ab1-15350ad51667').style.display = 'flex' </script> <table border=\"1\" class=\"dataframe\">\n",
       "  <thead>\n",
       "    <tr style=\"text-align: right;\">\n",
       "      <th></th>\n",
       "      <th>r7_text</th>\n",
       "      <th>r7_url</th>\n",
       "      <th>r6_url</th>\n",
       "    </tr>\n",
       "  </thead>\n",
       "  <tbody>\n",
       "    <tr>\n",
       "      <th>0</th>\n",
       "      <td>C4-1b BP Canada Letter re Contact Information (A47731)</td>\n",
       "      <td>https://apps.cer-rec.gc.ca/REGDOCS/Item/LoadResult/865683</td>\n",
       "      <td>https://apps.cer-rec.gc.ca/REGDOCS/Item/LoadResult/853183</td>\n",
       "    </tr>\n",
       "  </tbody>\n",
       "</table></div>"
      ],
      "text/plain": [
       "                                             r7_text  \\\n",
       "0  C4-1b BP Canada Letter re Contact Information ...   \n",
       "\n",
       "                                              r7_url  \\\n",
       "0  https://apps.cer-rec.gc.ca/REGDOCS/Item/LoadRe...   \n",
       "\n",
       "                                              r6_url  \n",
       "0  https://apps.cer-rec.gc.ca/REGDOCS/Item/LoadRe...  "
      ]
     },
     "metadata": {},
     "output_type": "display_data"
    }
   ],
   "source": [
    "df_r7_path = path(df_r7, 'r7_text')"
   ]
  },
  {
   "cell_type": "markdown",
   "id": "0f902f03",
   "metadata": {},
   "source": [
    "## Results 8 "
   ]
  },
  {
   "cell_type": "code",
   "execution_count": 32,
   "id": "8f724601",
   "metadata": {},
   "outputs": [],
   "source": [
    "# %%time\n",
    "# Wall time: 565 ms\n",
    "dfs_collector = []\n",
    "get_documents(source = df_r7_path['r7_url'], string1 = 'r8_', string2 = 'r7_')\n",
    "df_r8 = pd.concat(dfs_collector)#('df_r8.csv', 'r8_text', 'r8')"
   ]
  },
  {
   "cell_type": "markdown",
   "id": "0e194f92",
   "metadata": {},
   "source": [
    "### Results 8 documents"
   ]
  },
  {
   "cell_type": "code",
   "execution_count": 33,
   "id": "87f135ce",
   "metadata": {
    "scrolled": false
   },
   "outputs": [
    {
     "name": "stdout",
     "output_type": "stream",
     "text": [
      "(2, 5)\n"
     ]
    },
    {
     "data": {
      "text/html": [
       "<div><div id=5902965b-56dd-45dc-b00c-49cd56bb63a6 style=\"display:none; background-color:#9D6CFF; color:white; width:200px; height:30px; padding-left:5px; border-radius:4px; flex-direction:row; justify-content:space-around; align-items:center;\" onmouseover=\"this.style.backgroundColor='#BA9BF8'\" onmouseout=\"this.style.backgroundColor='#9D6CFF'\" onclick=\"window.commands?.execute('create-mitosheet-from-dataframe-output');\">See Full Dataframe in Mito</div> <script> if (window.commands?.hasCommand('create-mitosheet-from-dataframe-output')) document.getElementById('5902965b-56dd-45dc-b00c-49cd56bb63a6').style.display = 'flex' </script> <table border=\"1\" class=\"dataframe\">\n",
       "  <thead>\n",
       "    <tr style=\"text-align: right;\">\n",
       "      <th></th>\n",
       "      <th>r7_url</th>\n",
       "      <th>document_name</th>\n",
       "      <th>document_download_link</th>\n",
       "      <th>document_date</th>\n",
       "      <th>doc_submitter</th>\n",
       "    </tr>\n",
       "  </thead>\n",
       "  <tbody>\n",
       "    <tr>\n",
       "      <th>0</th>\n",
       "      <td>https://apps.cer-rec.gc.ca/REGDOCS/Item/LoadResult/865683</td>\n",
       "      <td>C4-1b Letter re BP Canada Contact information A3A4C3</td>\n",
       "      <td>/REGDOCS/File/Download/865576</td>\n",
       "      <td>2012-09-25</td>\n",
       "      <td>BP Canada Energy Group ULC</td>\n",
       "    </tr>\n",
       "  </tbody>\n",
       "</table></div>"
      ],
      "text/plain": [
       "                                              r7_url  \\\n",
       "0  https://apps.cer-rec.gc.ca/REGDOCS/Item/LoadRe...   \n",
       "\n",
       "                                       document_name  \\\n",
       "0  C4-1b Letter re BP Canada Contact information ...   \n",
       "\n",
       "          document_download_link document_date               doc_submitter  \n",
       "0  /REGDOCS/File/Download/865576    2012-09-25  BP Canada Energy Group ULC  "
      ]
     },
     "metadata": {},
     "output_type": "display_data"
    },
    {
     "data": {
      "text/plain": [
       "(2, 21)"
      ]
     },
     "execution_count": 33,
     "metadata": {},
     "output_type": "execute_result"
    },
    {
     "data": {
      "text/html": [
       "<div><div id=18d6dcc3-13b1-4033-a6ed-661d3c787c7f style=\"display:none; background-color:#9D6CFF; color:white; width:200px; height:30px; padding-left:5px; border-radius:4px; flex-direction:row; justify-content:space-around; align-items:center;\" onmouseover=\"this.style.backgroundColor='#BA9BF8'\" onmouseout=\"this.style.backgroundColor='#9D6CFF'\" onclick=\"window.commands?.execute('create-mitosheet-from-dataframe-output');\">See Full Dataframe in Mito</div> <script> if (window.commands?.hasCommand('create-mitosheet-from-dataframe-output')) document.getElementById('18d6dcc3-13b1-4033-a6ed-661d3c787c7f').style.display = 'flex' </script> <table border=\"1\" class=\"dataframe\">\n",
       "  <thead>\n",
       "    <tr style=\"text-align: right;\">\n",
       "      <th></th>\n",
       "      <th>Notes_url</th>\n",
       "      <th>document_name</th>\n",
       "      <th>document_download_link</th>\n",
       "      <th>document_date</th>\n",
       "      <th>doc_submitter</th>\n",
       "      <th>Notes</th>\n",
       "      <th>folder_name_url</th>\n",
       "      <th>folder_name</th>\n",
       "      <th>participant_name_url</th>\n",
       "      <th>participant_name</th>\n",
       "      <th>...</th>\n",
       "      <th>participant_category</th>\n",
       "      <th>application_name_url</th>\n",
       "      <th>application_name</th>\n",
       "      <th>year_folder_url</th>\n",
       "      <th>year_folder</th>\n",
       "      <th>company_name_url</th>\n",
       "      <th>company_name</th>\n",
       "      <th>r0_url</th>\n",
       "      <th>df</th>\n",
       "      <th>component</th>\n",
       "    </tr>\n",
       "  </thead>\n",
       "  <tbody>\n",
       "    <tr>\n",
       "      <th>0</th>\n",
       "      <td>https://apps.cer-rec.gc.ca/REGDOCS/Item/LoadResult/865683</td>\n",
       "      <td>C4-1b Letter re BP Canada Contact information A3A4C3</td>\n",
       "      <td>/REGDOCS/File/Download/865576</td>\n",
       "      <td>2012-09-25</td>\n",
       "      <td>BP Canada Energy Group ULC</td>\n",
       "      <td>C4-1b BP Canada Letter re Contact Information (A47731)</td>\n",
       "      <td>https://apps.cer-rec.gc.ca/REGDOCS/Item/LoadResult/853183</td>\n",
       "      <td>C4-01 BP Canada - Application for Intervenor Status (A46122)</td>\n",
       "      <td>https://apps.cer-rec.gc.ca/REGDOCS/Item/LoadResult/856018</td>\n",
       "      <td>C04 BP Canada Energy Group ULC</td>\n",
       "      <td>...</td>\n",
       "      <td>C -  Intervenors</td>\n",
       "      <td>https://apps.cer-rec.gc.ca/REGDOCS/Item/LoadResult/825769</td>\n",
       "      <td>2012-06-19 - Application by Chevron Canada Limited for a Priority Destination Designation (MH-002-2012)</td>\n",
       "      <td>https://apps.cer-rec.gc.ca/REGDOCS/Item/LoadResult/954292</td>\n",
       "      <td>2012 Applications</td>\n",
       "      <td>https://apps.cer-rec.gc.ca/REGDOCS/Item/LoadResult/552980</td>\n",
       "      <td>Trans Mountain Pipeline ULC</td>\n",
       "      <td>https://apps.cer-rec.gc.ca/REGDOCS/Item/LoadResult/92835</td>\n",
       "      <td>df_r8_doc</td>\n",
       "      <td>applications</td>\n",
       "    </tr>\n",
       "  </tbody>\n",
       "</table></div>"
      ],
      "text/plain": [
       "                                           Notes_url  \\\n",
       "0  https://apps.cer-rec.gc.ca/REGDOCS/Item/LoadRe...   \n",
       "\n",
       "                                       document_name  \\\n",
       "0  C4-1b Letter re BP Canada Contact information ...   \n",
       "\n",
       "          document_download_link document_date               doc_submitter  \\\n",
       "0  /REGDOCS/File/Download/865576    2012-09-25  BP Canada Energy Group ULC   \n",
       "\n",
       "                                               Notes  \\\n",
       "0  C4-1b BP Canada Letter re Contact Information ...   \n",
       "\n",
       "                                     folder_name_url  \\\n",
       "0  https://apps.cer-rec.gc.ca/REGDOCS/Item/LoadRe...   \n",
       "\n",
       "                                         folder_name  \\\n",
       "0  C4-01 BP Canada - Application for Intervenor S...   \n",
       "\n",
       "                                participant_name_url  \\\n",
       "0  https://apps.cer-rec.gc.ca/REGDOCS/Item/LoadRe...   \n",
       "\n",
       "                 participant_name  ... participant_category  \\\n",
       "0  C04 BP Canada Energy Group ULC  ...     C -  Intervenors   \n",
       "\n",
       "                                application_name_url  \\\n",
       "0  https://apps.cer-rec.gc.ca/REGDOCS/Item/LoadRe...   \n",
       "\n",
       "                                    application_name  \\\n",
       "0  2012-06-19 - Application by Chevron Canada Lim...   \n",
       "\n",
       "                                     year_folder_url        year_folder  \\\n",
       "0  https://apps.cer-rec.gc.ca/REGDOCS/Item/LoadRe...  2012 Applications   \n",
       "\n",
       "                                    company_name_url  \\\n",
       "0  https://apps.cer-rec.gc.ca/REGDOCS/Item/LoadRe...   \n",
       "\n",
       "                  company_name  \\\n",
       "0  Trans Mountain Pipeline ULC   \n",
       "\n",
       "                                              r0_url         df     component  \n",
       "0  https://apps.cer-rec.gc.ca/REGDOCS/Item/LoadRe...  df_r8_doc  applications  \n",
       "\n",
       "[1 rows x 21 columns]"
      ]
     },
     "execution_count": 33,
     "metadata": {},
     "output_type": "execute_result"
    }
   ],
   "source": [
    "df_r8_doc = documents(df_r8)\n",
    "df_r8_doc = df_r8_doc.merge(df_r7_path, on = 'r7_url').merge(df_r6_path, on = 'r6_url').merge(df_r5_path, on = 'r5_url').merge(df_r4_path, on = 'r4_url').\\\n",
    "                            merge(df_r3_path, on = 'r3_url').merge(df_r2, on = 'r2_url').merge(df_r1)\n",
    "\n",
    "df_r8_doc.rename(columns={\"r1_text\" : \"company_name\", \"r1_url\" : \"company_name_url\",\n",
    "                          \"r2_text\" : \"year_folder\", 'r2_url' : \"year_folder_url\",\n",
    "                          \"r3_text\" : \"application_name\", \"r3_url\" : \"application_name_url\",\n",
    "                          \"r4_text\" : \"participant_category\", \"r4_url\" : \"participant_category_url\",\n",
    "                          \"r5_text\" : \"participant_name\", \"r5_url\" : \"participant_name_url\",\n",
    "                          \"r6_text\" : \"folder_name\", \"r6_url\" : \"folder_name_url\",\n",
    "                          \"r7_text\" : \"Notes\", \"r7_url\" : \"Notes_url\"}, inplace = True)\n",
    "\n",
    "df_r8_doc['df'] = 'df_r8_doc'\n",
    "df_r8_doc['component'] = 'applications'\n",
    "\n",
    "df_r8_doc.shape\n",
    "df_r8_doc.head(1)"
   ]
  },
  {
   "cell_type": "markdown",
   "id": "5a46a1ed",
   "metadata": {},
   "source": [
    "# documents_all 1"
   ]
  },
  {
   "cell_type": "code",
   "execution_count": 34,
   "id": "ca1c8d5d",
   "metadata": {},
   "outputs": [
    {
     "data": {
      "text/plain": [
       "(26818, 21)"
      ]
     },
     "execution_count": 34,
     "metadata": {},
     "output_type": "execute_result"
    },
    {
     "data": {
      "text/plain": [
       "folder_name_url             object\n",
       "document_name               object\n",
       "document_download_link      object\n",
       "document_date               object\n",
       "doc_submitter               object\n",
       "folder_name                 object\n",
       "application_name_url        object\n",
       "application_name            object\n",
       "company_name_url            object\n",
       "company_name                object\n",
       "r0_url                      object\n",
       "df                          object\n",
       "component                   object\n",
       "year_folder_url             object\n",
       "year_folder                 object\n",
       "participant_name_url        object\n",
       "participant_name            object\n",
       "Notes_url                   object\n",
       "Notes                       object\n",
       "participant_category_url    object\n",
       "participant_category        object\n",
       "dtype: object"
      ]
     },
     "execution_count": 34,
     "metadata": {},
     "output_type": "execute_result"
    }
   ],
   "source": [
    "documents_all = pd.concat([df_r4_doc_1, \n",
    "                           df_r5_doc_1, df_r5_doc_2, df_r5_doc_3, \n",
    "                           df_r6_doc_1, df_r6_doc_2, \n",
    "                           df_r7_doc, \n",
    "                           df_r8_doc])\n",
    "documents_all.shape\n",
    "documents_all.dtypes"
   ]
  },
  {
   "cell_type": "markdown",
   "id": "7d0a33c0",
   "metadata": {},
   "source": [
    "# Featured Information"
   ]
  },
  {
   "cell_type": "markdown",
   "id": "dc2fd9dd",
   "metadata": {},
   "source": [
    "## Featured 1"
   ]
  },
  {
   "cell_type": "code",
   "execution_count": 35,
   "id": "f8c55afd",
   "metadata": {},
   "outputs": [
    {
     "data": {
      "text/plain": [
       "application_name           0\n",
       "application_name_url       0\n",
       "company_name               0\n",
       "company_name_url           0\n",
       "year_folder             5827\n",
       "year_folder_url         5827\n",
       "dtype: int64"
      ]
     },
     "execution_count": 35,
     "metadata": {},
     "output_type": "execute_result"
    },
    {
     "data": {
      "text/html": [
       "<div><div id=c9be6cb2-28fb-4bc4-a2c9-5a968b78e37a style=\"display:none; background-color:#9D6CFF; color:white; width:200px; height:30px; padding-left:5px; border-radius:4px; flex-direction:row; justify-content:space-around; align-items:center;\" onmouseover=\"this.style.backgroundColor='#BA9BF8'\" onmouseout=\"this.style.backgroundColor='#9D6CFF'\" onclick=\"window.commands?.execute('create-mitosheet-from-dataframe-output');\">See Full Dataframe in Mito</div> <script> if (window.commands?.hasCommand('create-mitosheet-from-dataframe-output')) document.getElementById('c9be6cb2-28fb-4bc4-a2c9-5a968b78e37a').style.display = 'flex' </script> <table border=\"1\" class=\"dataframe\">\n",
       "  <thead>\n",
       "    <tr style=\"text-align: right;\">\n",
       "      <th></th>\n",
       "      <th>application_name</th>\n",
       "      <th>application_name_url</th>\n",
       "      <th>company_name</th>\n",
       "      <th>company_name_url</th>\n",
       "      <th>year_folder</th>\n",
       "      <th>year_folder_url</th>\n",
       "      <th>application_name_featured_information_url</th>\n",
       "    </tr>\n",
       "  </thead>\n",
       "  <tbody>\n",
       "    <tr>\n",
       "      <th>0</th>\n",
       "      <td>2006-08-17 - Application for 2006 Final Tolls</td>\n",
       "      <td>https://apps.cer-rec.gc.ca/REGDOCS/Item/LoadResult/424302</td>\n",
       "      <td>Terasen Pipelines (Trans Mountain) Inc. (Name changed to Trans Mountain Pipeline Inc.)</td>\n",
       "      <td>https://apps.cer-rec.gc.ca/REGDOCS/Item/LoadResult/267614</td>\n",
       "      <td>NaN</td>\n",
       "      <td>NaN</td>\n",
       "      <td>https://apps.cer-rec.gc.ca/REGDOCS/Item/LoadFeatured/424302</td>\n",
       "    </tr>\n",
       "  </tbody>\n",
       "</table></div>"
      ],
      "text/plain": [
       "                                application_name  \\\n",
       "0  2006-08-17 - Application for 2006 Final Tolls   \n",
       "\n",
       "                                application_name_url  \\\n",
       "0  https://apps.cer-rec.gc.ca/REGDOCS/Item/LoadRe...   \n",
       "\n",
       "                                        company_name  \\\n",
       "0  Terasen Pipelines (Trans Mountain) Inc. (Name ...   \n",
       "\n",
       "                                    company_name_url year_folder  \\\n",
       "0  https://apps.cer-rec.gc.ca/REGDOCS/Item/LoadRe...         NaN   \n",
       "\n",
       "  year_folder_url          application_name_featured_information_url  \n",
       "0             NaN  https://apps.cer-rec.gc.ca/REGDOCS/Item/LoadFe...  "
      ]
     },
     "execution_count": 35,
     "metadata": {},
     "output_type": "execute_result"
    }
   ],
   "source": [
    "df_f1 = pd.DataFrame(documents_all[['application_name', 'application_name_url', 'company_name', 'company_name_url',\n",
    "                                   'year_folder', 'year_folder_url']])\n",
    "df_f1.isnull().sum()\n",
    "df_f1 = df_f1.drop_duplicates().reset_index(drop = True)\n",
    "df_f1['application_name_featured_information_url'] = df_f1['application_name_url'].str.replace('Result', 'Featured')\n",
    "df_f1.head(1)"
   ]
  },
  {
   "cell_type": "markdown",
   "id": "375260ad",
   "metadata": {},
   "source": [
    "## Featured 2"
   ]
  },
  {
   "cell_type": "code",
   "execution_count": 36,
   "id": "40cef194",
   "metadata": {},
   "outputs": [
    {
     "name": "stdout",
     "output_type": "stream",
     "text": [
      "(191, 3)\n",
      "f2_text                                      0\n",
      "f2_url                                       0\n",
      "application_name_featured_information_url    0\n",
      "dtype: int64\n"
     ]
    },
    {
     "data": {
      "text/html": [
       "<div><div id=133df09f-4c2b-46cd-9804-06f73fa6c37b style=\"display:none; background-color:#9D6CFF; color:white; width:200px; height:30px; padding-left:5px; border-radius:4px; flex-direction:row; justify-content:space-around; align-items:center;\" onmouseover=\"this.style.backgroundColor='#BA9BF8'\" onmouseout=\"this.style.backgroundColor='#9D6CFF'\" onclick=\"window.commands?.execute('create-mitosheet-from-dataframe-output');\">See Full Dataframe in Mito</div> <script> if (window.commands?.hasCommand('create-mitosheet-from-dataframe-output')) document.getElementById('133df09f-4c2b-46cd-9804-06f73fa6c37b').style.display = 'flex' </script> <table border=\"1\" class=\"dataframe\">\n",
       "  <thead>\n",
       "    <tr style=\"text-align: right;\">\n",
       "      <th></th>\n",
       "      <th>f2_text</th>\n",
       "      <th>f2_url</th>\n",
       "      <th>application_name_featured_information_url</th>\n",
       "    </tr>\n",
       "  </thead>\n",
       "  <tbody>\n",
       "    <tr>\n",
       "      <th>0</th>\n",
       "      <td>2005-06-17 Application for Revised Tariff Filling - Petroleum Tariff No. 57 and Refined Tariff No. RP 25</td>\n",
       "      <td>https://apps.cer-rec.gc.ca/REGDOCS/Item/LoadResult/370395</td>\n",
       "      <td>https://apps.cer-rec.gc.ca/REGDOCS/Item/LoadFeatured/358605</td>\n",
       "    </tr>\n",
       "  </tbody>\n",
       "</table></div>"
      ],
      "text/plain": [
       "                                             f2_text  \\\n",
       "0  2005-06-17 Application for Revised Tariff Fill...   \n",
       "\n",
       "                                              f2_url  \\\n",
       "0  https://apps.cer-rec.gc.ca/REGDOCS/Item/LoadRe...   \n",
       "\n",
       "           application_name_featured_information_url  \n",
       "0  https://apps.cer-rec.gc.ca/REGDOCS/Item/LoadFe...  "
      ]
     },
     "metadata": {},
     "output_type": "display_data"
    },
    {
     "data": {
      "image/png": "[encoded data removed]",
      "text/plain": [
       "<Figure size 432x576 with 1 Axes>"
      ]
     },
     "metadata": {
      "needs_background": "light"
     },
     "output_type": "display_data"
    }
   ],
   "source": [
    "# %%time\n",
    "# Wall time: 1min 13s\n",
    "dfs_collector = []\n",
    "get_featured_information(source = df_f1['application_name_featured_information_url'], string1 = 'f2_', string2 = 'application_name_featured_information_')\n",
    "df_f2 = concat_dfs_collector('df_f2.csv', 'f2_text', 'f2')\n"
   ]
  },
  {
   "cell_type": "markdown",
   "id": "b90d12d4",
   "metadata": {},
   "source": [
    "## Featured 3"
   ]
  },
  {
   "cell_type": "code",
   "execution_count": 37,
   "id": "ab30be01",
   "metadata": {
    "scrolled": false
   },
   "outputs": [
    {
     "name": "stdout",
     "output_type": "stream",
     "text": [
      "(1227, 7)\n",
      "f3_text                     83\n",
      "f3_url                      83\n",
      "f2_url                       0\n",
      "document_name             1144\n",
      "document_download_link    1144\n",
      "document_date             1144\n",
      "doc_submitter             1144\n",
      "dtype: int64\n"
     ]
    },
    {
     "data": {
      "text/html": [
       "<div><div id=a88ab558-5a27-4f99-bc9d-0fa80d60ebd2 style=\"display:none; background-color:#9D6CFF; color:white; width:200px; height:30px; padding-left:5px; border-radius:4px; flex-direction:row; justify-content:space-around; align-items:center;\" onmouseover=\"this.style.backgroundColor='#BA9BF8'\" onmouseout=\"this.style.backgroundColor='#9D6CFF'\" onclick=\"window.commands?.execute('create-mitosheet-from-dataframe-output');\">See Full Dataframe in Mito</div> <script> if (window.commands?.hasCommand('create-mitosheet-from-dataframe-output')) document.getElementById('a88ab558-5a27-4f99-bc9d-0fa80d60ebd2').style.display = 'flex' </script> <table border=\"1\" class=\"dataframe\">\n",
       "  <thead>\n",
       "    <tr style=\"text-align: right;\">\n",
       "      <th></th>\n",
       "      <th>f3_text</th>\n",
       "      <th>f3_url</th>\n",
       "      <th>f2_url</th>\n",
       "      <th>document_name</th>\n",
       "      <th>document_download_link</th>\n",
       "      <th>document_date</th>\n",
       "      <th>doc_submitter</th>\n",
       "    </tr>\n",
       "  </thead>\n",
       "  <tbody>\n",
       "    <tr>\n",
       "      <th>0</th>\n",
       "      <td>C21074 International Reporting Inc. - AO-001-RH-005-2020 Hearing Transcript REDACTED Vol. 1</td>\n",
       "      <td>https://apps.cer-rec.gc.ca/REGDOCS/Item/LoadResult/4268217</td>\n",
       "      <td>https://apps.cer-rec.gc.ca/REGDOCS/Item/LoadResult/4265879</td>\n",
       "      <td>NaN</td>\n",
       "      <td>NaN</td>\n",
       "      <td>NaN</td>\n",
       "      <td>NaN</td>\n",
       "    </tr>\n",
       "  </tbody>\n",
       "</table></div>"
      ],
      "text/plain": [
       "                                             f3_text  \\\n",
       "0  C21074 International Reporting Inc. - AO-001-R...   \n",
       "\n",
       "                                              f3_url  \\\n",
       "0  https://apps.cer-rec.gc.ca/REGDOCS/Item/LoadRe...   \n",
       "\n",
       "                                              f2_url document_name  \\\n",
       "0  https://apps.cer-rec.gc.ca/REGDOCS/Item/LoadRe...           NaN   \n",
       "\n",
       "  document_download_link document_date doc_submitter  \n",
       "0                    NaN           NaN           NaN  "
      ]
     },
     "metadata": {},
     "output_type": "display_data"
    },
    {
     "data": {
      "image/png": "[encoded data removed]",
      "text/plain": [
       "<Figure size 432x576 with 1 Axes>"
      ]
     },
     "metadata": {
      "needs_background": "light"
     },
     "output_type": "display_data"
    }
   ],
   "source": [
    "# %%time\n",
    "# Wall time: 37.1 s\n",
    "dfs_collector = []\n",
    "get_documents(source = df_f2['f2_url'], string1 = 'f3_', string2 = 'f2_')\n",
    "df_f3 = concat_dfs_collector('df_f3.csv', 'f3_text', 'f3')"
   ]
  },
  {
   "cell_type": "markdown",
   "id": "53d83791",
   "metadata": {},
   "source": [
    "### Featured 3 documents"
   ]
  },
  {
   "cell_type": "code",
   "execution_count": 38,
   "id": "1415c681",
   "metadata": {},
   "outputs": [
    {
     "name": "stdout",
     "output_type": "stream",
     "text": [
      "(51, 5)\n"
     ]
    },
    {
     "data": {
      "text/html": [
       "<div><div id=5baef75a-ed7f-4bea-86fe-fd7a254a06e1 style=\"display:none; background-color:#9D6CFF; color:white; width:200px; height:30px; padding-left:5px; border-radius:4px; flex-direction:row; justify-content:space-around; align-items:center;\" onmouseover=\"this.style.backgroundColor='#BA9BF8'\" onmouseout=\"this.style.backgroundColor='#9D6CFF'\" onclick=\"window.commands?.execute('create-mitosheet-from-dataframe-output');\">See Full Dataframe in Mito</div> <script> if (window.commands?.hasCommand('create-mitosheet-from-dataframe-output')) document.getElementById('5baef75a-ed7f-4bea-86fe-fd7a254a06e1').style.display = 'flex' </script> <table border=\"1\" class=\"dataframe\">\n",
       "  <thead>\n",
       "    <tr style=\"text-align: right;\">\n",
       "      <th></th>\n",
       "      <th>f2_url</th>\n",
       "      <th>document_name</th>\n",
       "      <th>document_download_link</th>\n",
       "      <th>document_date</th>\n",
       "      <th>doc_submitter</th>\n",
       "    </tr>\n",
       "  </thead>\n",
       "  <tbody>\n",
       "    <tr>\n",
       "      <th>0</th>\n",
       "      <td>https://apps.cer-rec.gc.ca/REGDOCS/Item/LoadResult/94125</td>\n",
       "      <td>MH-3-2000 Volume 01</td>\n",
       "      <td>/REGDOCS/File/Download/94127</td>\n",
       "      <td>2002-02-05</td>\n",
       "      <td>National Energy Board</td>\n",
       "    </tr>\n",
       "  </tbody>\n",
       "</table></div>"
      ],
      "text/plain": [
       "                                              f2_url        document_name  \\\n",
       "0  https://apps.cer-rec.gc.ca/REGDOCS/Item/LoadRe...  MH-3-2000 Volume 01   \n",
       "\n",
       "         document_download_link document_date          doc_submitter  \n",
       "0  /REGDOCS/File/Download/94127    2002-02-05  National Energy Board  "
      ]
     },
     "metadata": {},
     "output_type": "display_data"
    },
    {
     "data": {
      "text/plain": [
       "(147, 13)"
      ]
     },
     "execution_count": 38,
     "metadata": {},
     "output_type": "execute_result"
    },
    {
     "data": {
      "text/html": [
       "<div><div id=a5743ef4-ec67-4c2e-baaf-96d1d01bafe6 style=\"display:none; background-color:#9D6CFF; color:white; width:200px; height:30px; padding-left:5px; border-radius:4px; flex-direction:row; justify-content:space-around; align-items:center;\" onmouseover=\"this.style.backgroundColor='#BA9BF8'\" onmouseout=\"this.style.backgroundColor='#9D6CFF'\" onclick=\"window.commands?.execute('create-mitosheet-from-dataframe-output');\">See Full Dataframe in Mito</div> <script> if (window.commands?.hasCommand('create-mitosheet-from-dataframe-output')) document.getElementById('a5743ef4-ec67-4c2e-baaf-96d1d01bafe6').style.display = 'flex' </script> <table border=\"1\" class=\"dataframe\">\n",
       "  <thead>\n",
       "    <tr style=\"text-align: right;\">\n",
       "      <th></th>\n",
       "      <th>fi_type_url</th>\n",
       "      <th>document_name</th>\n",
       "      <th>document_download_link</th>\n",
       "      <th>document_date</th>\n",
       "      <th>doc_submitter</th>\n",
       "      <th>fi_component</th>\n",
       "      <th>application_name_featured_information_url</th>\n",
       "      <th>application_name</th>\n",
       "      <th>application_name_url</th>\n",
       "      <th>company_name</th>\n",
       "      <th>company_name_url</th>\n",
       "      <th>year_folder</th>\n",
       "      <th>year_folder_url</th>\n",
       "    </tr>\n",
       "  </thead>\n",
       "  <tbody>\n",
       "    <tr>\n",
       "      <th>0</th>\n",
       "      <td>https://apps.cer-rec.gc.ca/REGDOCS/Item/LoadResult/94125</td>\n",
       "      <td>MH-3-2000 Volume 01</td>\n",
       "      <td>/REGDOCS/File/Download/94127</td>\n",
       "      <td>2002-02-05</td>\n",
       "      <td>National Energy Board</td>\n",
       "      <td>Hearing Transcripts</td>\n",
       "      <td>https://apps.cer-rec.gc.ca/REGDOCS/Item/LoadFeatured/94103</td>\n",
       "      <td>2000-02-15 Suspension of Service Don Valley Lateral (MH-3-2000)</td>\n",
       "      <td>https://apps.cer-rec.gc.ca/REGDOCS/Item/LoadResult/94103</td>\n",
       "      <td>Trans-Northern Pipelines Inc</td>\n",
       "      <td>https://apps.cer-rec.gc.ca/REGDOCS/Item/LoadResult/93855</td>\n",
       "      <td>NaN</td>\n",
       "      <td>NaN</td>\n",
       "    </tr>\n",
       "  </tbody>\n",
       "</table></div>"
      ],
      "text/plain": [
       "                                         fi_type_url        document_name  \\\n",
       "0  https://apps.cer-rec.gc.ca/REGDOCS/Item/LoadRe...  MH-3-2000 Volume 01   \n",
       "\n",
       "         document_download_link document_date          doc_submitter  \\\n",
       "0  /REGDOCS/File/Download/94127    2002-02-05  National Energy Board   \n",
       "\n",
       "          fi_component          application_name_featured_information_url  \\\n",
       "0  Hearing Transcripts  https://apps.cer-rec.gc.ca/REGDOCS/Item/LoadFe...   \n",
       "\n",
       "                                    application_name  \\\n",
       "0  2000-02-15 Suspension of Service Don Valley La...   \n",
       "\n",
       "                                application_name_url  \\\n",
       "0  https://apps.cer-rec.gc.ca/REGDOCS/Item/LoadRe...   \n",
       "\n",
       "                   company_name  \\\n",
       "0  Trans-Northern Pipelines Inc   \n",
       "\n",
       "                                    company_name_url year_folder  \\\n",
       "0  https://apps.cer-rec.gc.ca/REGDOCS/Item/LoadRe...         NaN   \n",
       "\n",
       "  year_folder_url  \n",
       "0             NaN  "
      ]
     },
     "execution_count": 38,
     "metadata": {},
     "output_type": "execute_result"
    }
   ],
   "source": [
    "df_f3_doc = documents(df_f3) \n",
    "df_f3_doc = df_f3_doc.merge(df_f2).merge(df_f1)\n",
    "\n",
    "\n",
    "df_f3_doc.rename(columns = {\"f2_text\" : \"fi_component\", 'f2_url' : \"fi_type_url\"}, inplace = True)\n",
    "                          \n",
    "df_f3_doc.shape\n",
    "\n",
    "df_f3_doc.head(1)\n",
    "\n",
    "df_f3_doc['component'] = 'featured_information'\n",
    "df_f3_doc['df'] = 'df_f3_doc'\n",
    "\n",
    "# df_f3_doc.to_csv('test.csv', index = False)"
   ]
  },
  {
   "cell_type": "markdown",
   "id": "46b310f3",
   "metadata": {},
   "source": [
    "### Featured 3 path"
   ]
  },
  {
   "cell_type": "code",
   "execution_count": 39,
   "id": "a62f601b",
   "metadata": {},
   "outputs": [
    {
     "name": "stdout",
     "output_type": "stream",
     "text": [
      "(1144, 3)\n"
     ]
    },
    {
     "data": {
      "text/html": [
       "<div><div id=f7fdef7e-ac84-4714-bcca-3e2aec28c119 style=\"display:none; background-color:#9D6CFF; color:white; width:200px; height:30px; padding-left:5px; border-radius:4px; flex-direction:row; justify-content:space-around; align-items:center;\" onmouseover=\"this.style.backgroundColor='#BA9BF8'\" onmouseout=\"this.style.backgroundColor='#9D6CFF'\" onclick=\"window.commands?.execute('create-mitosheet-from-dataframe-output');\">See Full Dataframe in Mito</div> <script> if (window.commands?.hasCommand('create-mitosheet-from-dataframe-output')) document.getElementById('f7fdef7e-ac84-4714-bcca-3e2aec28c119').style.display = 'flex' </script> <table border=\"1\" class=\"dataframe\">\n",
       "  <thead>\n",
       "    <tr style=\"text-align: right;\">\n",
       "      <th></th>\n",
       "      <th>f3_text</th>\n",
       "      <th>f3_url</th>\n",
       "      <th>f2_url</th>\n",
       "    </tr>\n",
       "  </thead>\n",
       "  <tbody>\n",
       "    <tr>\n",
       "      <th>0</th>\n",
       "      <td>C21074 International Reporting Inc. - AO-001-RH-005-2020 Hearing Transcript REDACTED Vol. 1</td>\n",
       "      <td>https://apps.cer-rec.gc.ca/REGDOCS/Item/LoadResult/4268217</td>\n",
       "      <td>https://apps.cer-rec.gc.ca/REGDOCS/Item/LoadResult/4265879</td>\n",
       "    </tr>\n",
       "  </tbody>\n",
       "</table></div>"
      ],
      "text/plain": [
       "                                             f3_text  \\\n",
       "0  C21074 International Reporting Inc. - AO-001-R...   \n",
       "\n",
       "                                              f3_url  \\\n",
       "0  https://apps.cer-rec.gc.ca/REGDOCS/Item/LoadRe...   \n",
       "\n",
       "                                              f2_url  \n",
       "0  https://apps.cer-rec.gc.ca/REGDOCS/Item/LoadRe...  "
      ]
     },
     "metadata": {},
     "output_type": "display_data"
    }
   ],
   "source": [
    "df_f3_path = path(df_f3, 'f3_text')"
   ]
  },
  {
   "cell_type": "markdown",
   "id": "38b7cb66",
   "metadata": {},
   "source": [
    "## Featured 4"
   ]
  },
  {
   "cell_type": "code",
   "execution_count": 40,
   "id": "e3b7df9e",
   "metadata": {},
   "outputs": [
    {
     "name": "stdout",
     "output_type": "stream",
     "text": [
      "(3076, 7)\n",
      "f4_text                   2775\n",
      "f4_url                    2775\n",
      "f3_url                       0\n",
      "document_name              301\n",
      "document_download_link     301\n",
      "document_date              301\n",
      "doc_submitter              301\n",
      "dtype: int64\n"
     ]
    },
    {
     "data": {
      "text/html": [
       "<div><div id=fef5ba19-b0d9-4abf-8633-b8e564db2870 style=\"display:none; background-color:#9D6CFF; color:white; width:200px; height:30px; padding-left:5px; border-radius:4px; flex-direction:row; justify-content:space-around; align-items:center;\" onmouseover=\"this.style.backgroundColor='#BA9BF8'\" onmouseout=\"this.style.backgroundColor='#9D6CFF'\" onclick=\"window.commands?.execute('create-mitosheet-from-dataframe-output');\">See Full Dataframe in Mito</div> <script> if (window.commands?.hasCommand('create-mitosheet-from-dataframe-output')) document.getElementById('fef5ba19-b0d9-4abf-8633-b8e564db2870').style.display = 'flex' </script> <table border=\"1\" class=\"dataframe\">\n",
       "  <thead>\n",
       "    <tr style=\"text-align: right;\">\n",
       "      <th></th>\n",
       "      <th>f4_text</th>\n",
       "      <th>f4_url</th>\n",
       "      <th>f3_url</th>\n",
       "      <th>document_name</th>\n",
       "      <th>document_download_link</th>\n",
       "      <th>document_date</th>\n",
       "      <th>doc_submitter</th>\n",
       "    </tr>\n",
       "  </thead>\n",
       "  <tbody>\n",
       "    <tr>\n",
       "      <th>0</th>\n",
       "      <td>NaN</td>\n",
       "      <td>NaN</td>\n",
       "      <td>https://apps.cer-rec.gc.ca/REGDOCS/Item/LoadResult/4268217</td>\n",
       "      <td>C21074-1 Vol.1-MonSep26,2022-REDACTED - A8G7U8</td>\n",
       "      <td>/REGDOCS/File/Download/4265421</td>\n",
       "      <td>2022-09-28</td>\n",
       "      <td>International Reporting Inc.</td>\n",
       "    </tr>\n",
       "  </tbody>\n",
       "</table></div>"
      ],
      "text/plain": [
       "  f4_text f4_url                                             f3_url  \\\n",
       "0     NaN    NaN  https://apps.cer-rec.gc.ca/REGDOCS/Item/LoadRe...   \n",
       "\n",
       "                                    document_name  \\\n",
       "0  C21074-1 Vol.1-MonSep26,2022-REDACTED - A8G7U8   \n",
       "\n",
       "           document_download_link document_date                 doc_submitter  \n",
       "0  /REGDOCS/File/Download/4265421    2022-09-28  International Reporting Inc.  "
      ]
     },
     "metadata": {},
     "output_type": "display_data"
    },
    {
     "name": "stdout",
     "output_type": "stream",
     "text": [
      "CPU times: user 11.4 s, sys: 876 ms, total: 12.3 s\n",
      "Wall time: 35.3 s\n"
     ]
    },
    {
     "data": {
      "image/png": "[encoded data removed]",
      "text/plain": [
       "<Figure size 432x576 with 1 Axes>"
      ]
     },
     "metadata": {
      "needs_background": "light"
     },
     "output_type": "display_data"
    }
   ],
   "source": [
    "%%time\n",
    "# Wall time: 35.9 s\n",
    "dfs_collector = []\n",
    "get_documents(source = df_f3_path['f3_url'], string1 = 'f4_', string2 = 'f3_')\n",
    "df_f4 = concat_dfs_collector('df_f4.csv', 'f4_text', 'f4')"
   ]
  },
  {
   "cell_type": "markdown",
   "id": "0362f06c",
   "metadata": {},
   "source": [
    "### Featured 4 documents"
   ]
  },
  {
   "cell_type": "code",
   "execution_count": 41,
   "id": "21296f38",
   "metadata": {},
   "outputs": [
    {
     "name": "stdout",
     "output_type": "stream",
     "text": [
      "(2754, 5)\n"
     ]
    },
    {
     "data": {
      "text/html": [
       "<div><div id=5981fc89-077f-4392-9ee9-c575843e7051 style=\"display:none; background-color:#9D6CFF; color:white; width:200px; height:30px; padding-left:5px; border-radius:4px; flex-direction:row; justify-content:space-around; align-items:center;\" onmouseover=\"this.style.backgroundColor='#BA9BF8'\" onmouseout=\"this.style.backgroundColor='#9D6CFF'\" onclick=\"window.commands?.execute('create-mitosheet-from-dataframe-output');\">See Full Dataframe in Mito</div> <script> if (window.commands?.hasCommand('create-mitosheet-from-dataframe-output')) document.getElementById('5981fc89-077f-4392-9ee9-c575843e7051').style.display = 'flex' </script> <table border=\"1\" class=\"dataframe\">\n",
       "  <thead>\n",
       "    <tr style=\"text-align: right;\">\n",
       "      <th></th>\n",
       "      <th>f3_url</th>\n",
       "      <th>document_name</th>\n",
       "      <th>document_download_link</th>\n",
       "      <th>document_date</th>\n",
       "      <th>doc_submitter</th>\n",
       "    </tr>\n",
       "  </thead>\n",
       "  <tbody>\n",
       "    <tr>\n",
       "      <th>0</th>\n",
       "      <td>https://apps.cer-rec.gc.ca/REGDOCS/Item/LoadResult/4268217</td>\n",
       "      <td>C21074-1 Vol.1-MonSep26,2022-REDACTED - A8G7U8</td>\n",
       "      <td>/REGDOCS/File/Download/4265421</td>\n",
       "      <td>2022-09-28</td>\n",
       "      <td>International Reporting Inc.</td>\n",
       "    </tr>\n",
       "  </tbody>\n",
       "</table></div>"
      ],
      "text/plain": [
       "                                              f3_url  \\\n",
       "0  https://apps.cer-rec.gc.ca/REGDOCS/Item/LoadRe...   \n",
       "\n",
       "                                    document_name  \\\n",
       "0  C21074-1 Vol.1-MonSep26,2022-REDACTED - A8G7U8   \n",
       "\n",
       "           document_download_link document_date                 doc_submitter  \n",
       "0  /REGDOCS/File/Download/4265421    2022-09-28  International Reporting Inc.  "
      ]
     },
     "metadata": {},
     "output_type": "display_data"
    },
    {
     "data": {
      "text/plain": [
       "(2775, 15)"
      ]
     },
     "execution_count": 41,
     "metadata": {},
     "output_type": "execute_result"
    },
    {
     "data": {
      "text/html": [
       "<div><div id=3862b624-bce3-4551-83c7-e904150d6b52 style=\"display:none; background-color:#9D6CFF; color:white; width:200px; height:30px; padding-left:5px; border-radius:4px; flex-direction:row; justify-content:space-around; align-items:center;\" onmouseover=\"this.style.backgroundColor='#BA9BF8'\" onmouseout=\"this.style.backgroundColor='#9D6CFF'\" onclick=\"window.commands?.execute('create-mitosheet-from-dataframe-output');\">See Full Dataframe in Mito</div> <script> if (window.commands?.hasCommand('create-mitosheet-from-dataframe-output')) document.getElementById('3862b624-bce3-4551-83c7-e904150d6b52').style.display = 'flex' </script> <table border=\"1\" class=\"dataframe\">\n",
       "  <thead>\n",
       "    <tr style=\"text-align: right;\">\n",
       "      <th></th>\n",
       "      <th>folder_name_url</th>\n",
       "      <th>document_name</th>\n",
       "      <th>document_download_link</th>\n",
       "      <th>document_date</th>\n",
       "      <th>doc_submitter</th>\n",
       "      <th>folder_name</th>\n",
       "      <th>fi_type_url</th>\n",
       "      <th>fi_component</th>\n",
       "      <th>application_name_featured_information_url</th>\n",
       "      <th>application_name</th>\n",
       "      <th>application_name_url</th>\n",
       "      <th>company_name</th>\n",
       "      <th>company_name_url</th>\n",
       "      <th>year_folder</th>\n",
       "      <th>year_folder_url</th>\n",
       "    </tr>\n",
       "  </thead>\n",
       "  <tbody>\n",
       "    <tr>\n",
       "      <th>0</th>\n",
       "      <td>https://apps.cer-rec.gc.ca/REGDOCS/Item/LoadResult/4268217</td>\n",
       "      <td>C21074-1 Vol.1-MonSep26,2022-REDACTED - A8G7U8</td>\n",
       "      <td>/REGDOCS/File/Download/4265421</td>\n",
       "      <td>2022-09-28</td>\n",
       "      <td>International Reporting Inc.</td>\n",
       "      <td>C21074 International Reporting Inc. - AO-001-RH-005-2020 Hearing Transcript REDACTED Vol. 1</td>\n",
       "      <td>https://apps.cer-rec.gc.ca/REGDOCS/Item/LoadResult/4265879</td>\n",
       "      <td>Hearing Transcripts</td>\n",
       "      <td>https://apps.cer-rec.gc.ca/REGDOCS/Item/LoadFeatured/3891130</td>\n",
       "      <td>2019-12-20 - Complaint by Phillips 66 Canada Ltd. regarding CER Tariff No. 44 (RH-005-2020)</td>\n",
       "      <td>https://apps.cer-rec.gc.ca/REGDOCS/Item/LoadResult/3891130</td>\n",
       "      <td>TransCanada Keystone Pipeline GP Ltd.</td>\n",
       "      <td>https://apps.cer-rec.gc.ca/REGDOCS/Item/LoadResult/565787</td>\n",
       "      <td>NaN</td>\n",
       "      <td>NaN</td>\n",
       "    </tr>\n",
       "  </tbody>\n",
       "</table></div>"
      ],
      "text/plain": [
       "                                     folder_name_url  \\\n",
       "0  https://apps.cer-rec.gc.ca/REGDOCS/Item/LoadRe...   \n",
       "\n",
       "                                    document_name  \\\n",
       "0  C21074-1 Vol.1-MonSep26,2022-REDACTED - A8G7U8   \n",
       "\n",
       "           document_download_link document_date                 doc_submitter  \\\n",
       "0  /REGDOCS/File/Download/4265421    2022-09-28  International Reporting Inc.   \n",
       "\n",
       "                                         folder_name  \\\n",
       "0  C21074 International Reporting Inc. - AO-001-R...   \n",
       "\n",
       "                                         fi_type_url         fi_component  \\\n",
       "0  https://apps.cer-rec.gc.ca/REGDOCS/Item/LoadRe...  Hearing Transcripts   \n",
       "\n",
       "           application_name_featured_information_url  \\\n",
       "0  https://apps.cer-rec.gc.ca/REGDOCS/Item/LoadFe...   \n",
       "\n",
       "                                    application_name  \\\n",
       "0  2019-12-20 - Complaint by Phillips 66 Canada L...   \n",
       "\n",
       "                                application_name_url  \\\n",
       "0  https://apps.cer-rec.gc.ca/REGDOCS/Item/LoadRe...   \n",
       "\n",
       "                            company_name  \\\n",
       "0  TransCanada Keystone Pipeline GP Ltd.   \n",
       "\n",
       "                                    company_name_url year_folder  \\\n",
       "0  https://apps.cer-rec.gc.ca/REGDOCS/Item/LoadRe...         NaN   \n",
       "\n",
       "  year_folder_url  \n",
       "0             NaN  "
      ]
     },
     "execution_count": 41,
     "metadata": {},
     "output_type": "execute_result"
    }
   ],
   "source": [
    "df_f4_doc = documents(df_f4) \n",
    "df_f4_doc = df_f4_doc.merge(df_f3_path).merge(df_f2).merge(df_f1)\n",
    "\n",
    "df_f4_doc.rename(columns = {\"f2_text\" : \"fi_component\", 'f2_url' : \"fi_type_url\",\n",
    "                            \"f3_text\" : \"folder_name\", \"f3_url\" : \"folder_name_url\"}, inplace = True)\n",
    "                          \n",
    "df_f4_doc.shape\n",
    "\n",
    "df_f4_doc.head(1)\n",
    "df_f4_doc['component'] = 'featured_information'\n",
    "df_f4_doc['df'] = 'df_f4_doc'\n",
    "\n",
    "df_f4_doc.to_csv('test.csv', index = False)"
   ]
  },
  {
   "cell_type": "markdown",
   "id": "9e31bff2",
   "metadata": {},
   "source": [
    "### Featured 4 path"
   ]
  },
  {
   "cell_type": "code",
   "execution_count": 42,
   "id": "60208e2c",
   "metadata": {},
   "outputs": [
    {
     "name": "stdout",
     "output_type": "stream",
     "text": [
      "(301, 3)\n"
     ]
    },
    {
     "data": {
      "text/html": [
       "<div><div id=546f6028-670d-44b7-bfbb-314d6feb0da2 style=\"display:none; background-color:#9D6CFF; color:white; width:200px; height:30px; padding-left:5px; border-radius:4px; flex-direction:row; justify-content:space-around; align-items:center;\" onmouseover=\"this.style.backgroundColor='#BA9BF8'\" onmouseout=\"this.style.backgroundColor='#9D6CFF'\" onclick=\"window.commands?.execute('create-mitosheet-from-dataframe-output');\">See Full Dataframe in Mito</div> <script> if (window.commands?.hasCommand('create-mitosheet-from-dataframe-output')) document.getElementById('546f6028-670d-44b7-bfbb-314d6feb0da2').style.display = 'flex' </script> <table border=\"1\" class=\"dataframe\">\n",
       "  <thead>\n",
       "    <tr style=\"text-align: right;\">\n",
       "      <th></th>\n",
       "      <th>f4_text</th>\n",
       "      <th>f4_url</th>\n",
       "      <th>f3_url</th>\n",
       "    </tr>\n",
       "  </thead>\n",
       "  <tbody>\n",
       "    <tr>\n",
       "      <th>0</th>\n",
       "      <td>A82197 Alliance Pipeline Ltd. - Request to Withdraw Review and Variance Application</td>\n",
       "      <td>https://apps.cer-rec.gc.ca/REGDOCS/Item/LoadResult/3210125</td>\n",
       "      <td>https://apps.cer-rec.gc.ca/REGDOCS/Item/LoadResult/3083645</td>\n",
       "    </tr>\n",
       "  </tbody>\n",
       "</table></div>"
      ],
      "text/plain": [
       "                                             f4_text  \\\n",
       "0  A82197 Alliance Pipeline Ltd. - Request to Wit...   \n",
       "\n",
       "                                              f4_url  \\\n",
       "0  https://apps.cer-rec.gc.ca/REGDOCS/Item/LoadRe...   \n",
       "\n",
       "                                              f3_url  \n",
       "0  https://apps.cer-rec.gc.ca/REGDOCS/Item/LoadRe...  "
      ]
     },
     "metadata": {},
     "output_type": "display_data"
    }
   ],
   "source": [
    "df_f4_path = path(df_f4, 'f4_text')"
   ]
  },
  {
   "cell_type": "markdown",
   "id": "6dcd55dc",
   "metadata": {},
   "source": [
    "## Featured 5"
   ]
  },
  {
   "cell_type": "code",
   "execution_count": 43,
   "id": "8b0358db",
   "metadata": {},
   "outputs": [
    {
     "name": "stdout",
     "output_type": "stream",
     "text": [
      "(820, 7)\n",
      "f5_text                   694\n",
      "f5_url                    694\n",
      "f4_url                      0\n",
      "document_name             126\n",
      "document_download_link    126\n",
      "document_date             126\n",
      "doc_submitter             126\n",
      "dtype: int64\n"
     ]
    },
    {
     "data": {
      "text/html": [
       "<div><div id=8464cd28-c5c1-49e7-b148-a82369c0282d style=\"display:none; background-color:#9D6CFF; color:white; width:200px; height:30px; padding-left:5px; border-radius:4px; flex-direction:row; justify-content:space-around; align-items:center;\" onmouseover=\"this.style.backgroundColor='#BA9BF8'\" onmouseout=\"this.style.backgroundColor='#9D6CFF'\" onclick=\"window.commands?.execute('create-mitosheet-from-dataframe-output');\">See Full Dataframe in Mito</div> <script> if (window.commands?.hasCommand('create-mitosheet-from-dataframe-output')) document.getElementById('8464cd28-c5c1-49e7-b148-a82369c0282d').style.display = 'flex' </script> <table border=\"1\" class=\"dataframe\">\n",
       "  <thead>\n",
       "    <tr style=\"text-align: right;\">\n",
       "      <th></th>\n",
       "      <th>f5_text</th>\n",
       "      <th>f5_url</th>\n",
       "      <th>f4_url</th>\n",
       "      <th>document_name</th>\n",
       "      <th>document_download_link</th>\n",
       "      <th>document_date</th>\n",
       "      <th>doc_submitter</th>\n",
       "    </tr>\n",
       "  </thead>\n",
       "  <tbody>\n",
       "    <tr>\n",
       "      <th>0</th>\n",
       "      <td>NaN</td>\n",
       "      <td>NaN</td>\n",
       "      <td>https://apps.cer-rec.gc.ca/REGDOCS/Item/LoadResult/3210730</td>\n",
       "      <td>A82127-1 PPA Agreement - AP Tariff Amendments - Reply Comments - A5J5K2</td>\n",
       "      <td>/REGDOCS/File/Download/3210178</td>\n",
       "      <td>2017-03-17</td>\n",
       "      <td>Alliance Pipeline Ltd.</td>\n",
       "    </tr>\n",
       "  </tbody>\n",
       "</table></div>"
      ],
      "text/plain": [
       "  f5_text f5_url                                             f4_url  \\\n",
       "0     NaN    NaN  https://apps.cer-rec.gc.ca/REGDOCS/Item/LoadRe...   \n",
       "\n",
       "                                       document_name  \\\n",
       "0  A82127-1 PPA Agreement - AP Tariff Amendments ...   \n",
       "\n",
       "           document_download_link document_date           doc_submitter  \n",
       "0  /REGDOCS/File/Download/3210178    2017-03-17  Alliance Pipeline Ltd.  "
      ]
     },
     "metadata": {},
     "output_type": "display_data"
    },
    {
     "name": "stdout",
     "output_type": "stream",
     "text": [
      "CPU times: user 3.23 s, sys: 244 ms, total: 3.47 s\n",
      "Wall time: 14.2 s\n"
     ]
    },
    {
     "data": {
      "image/png": "[encoded data removed]",
      "text/plain": [
       "<Figure size 432x576 with 1 Axes>"
      ]
     },
     "metadata": {
      "needs_background": "light"
     },
     "output_type": "display_data"
    }
   ],
   "source": [
    "%%time\n",
    "# Wall time: 12.3 s \n",
    "dfs_collector = []\n",
    "get_documents(source = df_f4_path['f4_url'], string1 = 'f5_', string2 = 'f4_')\n",
    "df_f5 = concat_dfs_collector('df_f5.csv', 'f5_text', 'f5')"
   ]
  },
  {
   "cell_type": "markdown",
   "id": "15db98c5",
   "metadata": {},
   "source": [
    "### Featured 5 path"
   ]
  },
  {
   "cell_type": "code",
   "execution_count": 44,
   "id": "7a082c63",
   "metadata": {},
   "outputs": [
    {
     "name": "stdout",
     "output_type": "stream",
     "text": [
      "(126, 3)\n"
     ]
    },
    {
     "data": {
      "text/html": [
       "<div><div id=cacd8722-cc68-45ef-a094-9531d4b5a75f style=\"display:none; background-color:#9D6CFF; color:white; width:200px; height:30px; padding-left:5px; border-radius:4px; flex-direction:row; justify-content:space-around; align-items:center;\" onmouseover=\"this.style.backgroundColor='#BA9BF8'\" onmouseout=\"this.style.backgroundColor='#9D6CFF'\" onclick=\"window.commands?.execute('create-mitosheet-from-dataframe-output');\">See Full Dataframe in Mito</div> <script> if (window.commands?.hasCommand('create-mitosheet-from-dataframe-output')) document.getElementById('cacd8722-cc68-45ef-a094-9531d4b5a75f').style.display = 'flex' </script> <table border=\"1\" class=\"dataframe\">\n",
       "  <thead>\n",
       "    <tr style=\"text-align: right;\">\n",
       "      <th></th>\n",
       "      <th>f5_text</th>\n",
       "      <th>f5_url</th>\n",
       "      <th>f4_url</th>\n",
       "    </tr>\n",
       "  </thead>\n",
       "  <tbody>\n",
       "    <tr>\n",
       "      <th>0</th>\n",
       "      <td>A80755 BP Canada Energy Group ULC - Alliance Pipeline PPA Fee Review and Variance - BP Canada Participation Letter</td>\n",
       "      <td>https://apps.cer-rec.gc.ca/REGDOCS/Item/LoadResult/3083642</td>\n",
       "      <td>https://apps.cer-rec.gc.ca/REGDOCS/Item/LoadResult/3084539</td>\n",
       "    </tr>\n",
       "  </tbody>\n",
       "</table></div>"
      ],
      "text/plain": [
       "                                             f5_text  \\\n",
       "0  A80755 BP Canada Energy Group ULC - Alliance P...   \n",
       "\n",
       "                                              f5_url  \\\n",
       "0  https://apps.cer-rec.gc.ca/REGDOCS/Item/LoadRe...   \n",
       "\n",
       "                                              f4_url  \n",
       "0  https://apps.cer-rec.gc.ca/REGDOCS/Item/LoadRe...  "
      ]
     },
     "metadata": {},
     "output_type": "display_data"
    }
   ],
   "source": [
    "df_f5_path = path(df_f5, 'f5_text')"
   ]
  },
  {
   "cell_type": "markdown",
   "id": "9d0f56ba",
   "metadata": {},
   "source": [
    "### Featured 5 documents"
   ]
  },
  {
   "cell_type": "code",
   "execution_count": 45,
   "id": "dc0a487d",
   "metadata": {},
   "outputs": [
    {
     "name": "stdout",
     "output_type": "stream",
     "text": [
      "(694, 5)\n"
     ]
    },
    {
     "data": {
      "text/html": [
       "<div><div id=0853076c-30ba-458d-b9df-93294da650d7 style=\"display:none; background-color:#9D6CFF; color:white; width:200px; height:30px; padding-left:5px; border-radius:4px; flex-direction:row; justify-content:space-around; align-items:center;\" onmouseover=\"this.style.backgroundColor='#BA9BF8'\" onmouseout=\"this.style.backgroundColor='#9D6CFF'\" onclick=\"window.commands?.execute('create-mitosheet-from-dataframe-output');\">See Full Dataframe in Mito</div> <script> if (window.commands?.hasCommand('create-mitosheet-from-dataframe-output')) document.getElementById('0853076c-30ba-458d-b9df-93294da650d7').style.display = 'flex' </script> <table border=\"1\" class=\"dataframe\">\n",
       "  <thead>\n",
       "    <tr style=\"text-align: right;\">\n",
       "      <th></th>\n",
       "      <th>f4_url</th>\n",
       "      <th>document_name</th>\n",
       "      <th>document_download_link</th>\n",
       "      <th>document_date</th>\n",
       "      <th>doc_submitter</th>\n",
       "    </tr>\n",
       "  </thead>\n",
       "  <tbody>\n",
       "    <tr>\n",
       "      <th>0</th>\n",
       "      <td>https://apps.cer-rec.gc.ca/REGDOCS/Item/LoadResult/3210730</td>\n",
       "      <td>A82127-1 PPA Agreement - AP Tariff Amendments - Reply Comments - A5J5K2</td>\n",
       "      <td>/REGDOCS/File/Download/3210178</td>\n",
       "      <td>2017-03-17</td>\n",
       "      <td>Alliance Pipeline Ltd.</td>\n",
       "    </tr>\n",
       "  </tbody>\n",
       "</table></div>"
      ],
      "text/plain": [
       "                                              f4_url  \\\n",
       "0  https://apps.cer-rec.gc.ca/REGDOCS/Item/LoadRe...   \n",
       "\n",
       "                                       document_name  \\\n",
       "0  A82127-1 PPA Agreement - AP Tariff Amendments ...   \n",
       "\n",
       "           document_download_link document_date           doc_submitter  \n",
       "0  /REGDOCS/File/Download/3210178    2017-03-17  Alliance Pipeline Ltd.  "
      ]
     },
     "metadata": {},
     "output_type": "display_data"
    },
    {
     "data": {
      "text/plain": [
       "(694, 17)"
      ]
     },
     "execution_count": 45,
     "metadata": {},
     "output_type": "execute_result"
    },
    {
     "data": {
      "text/html": [
       "<div><div id=e62ced1c-cb17-46b8-ab89-11f6eea0263b style=\"display:none; background-color:#9D6CFF; color:white; width:200px; height:30px; padding-left:5px; border-radius:4px; flex-direction:row; justify-content:space-around; align-items:center;\" onmouseover=\"this.style.backgroundColor='#BA9BF8'\" onmouseout=\"this.style.backgroundColor='#9D6CFF'\" onclick=\"window.commands?.execute('create-mitosheet-from-dataframe-output');\">See Full Dataframe in Mito</div> <script> if (window.commands?.hasCommand('create-mitosheet-from-dataframe-output')) document.getElementById('e62ced1c-cb17-46b8-ab89-11f6eea0263b').style.display = 'flex' </script> <table border=\"1\" class=\"dataframe\">\n",
       "  <thead>\n",
       "    <tr style=\"text-align: right;\">\n",
       "      <th></th>\n",
       "      <th>folder_name_url</th>\n",
       "      <th>document_name</th>\n",
       "      <th>document_download_link</th>\n",
       "      <th>document_date</th>\n",
       "      <th>doc_submitter</th>\n",
       "      <th>folder_name</th>\n",
       "      <th>participant_name_url</th>\n",
       "      <th>participant_name</th>\n",
       "      <th>fi_type_url</th>\n",
       "      <th>fi_component</th>\n",
       "      <th>application_name_featured_information_url</th>\n",
       "      <th>application_name</th>\n",
       "      <th>application_name_url</th>\n",
       "      <th>company_name</th>\n",
       "      <th>company_name_url</th>\n",
       "      <th>year_folder</th>\n",
       "      <th>year_folder_url</th>\n",
       "    </tr>\n",
       "  </thead>\n",
       "  <tbody>\n",
       "    <tr>\n",
       "      <th>0</th>\n",
       "      <td>https://apps.cer-rec.gc.ca/REGDOCS/Item/LoadResult/3210730</td>\n",
       "      <td>A82127-1 PPA Agreement - AP Tariff Amendments - Reply Comments - A5J5K2</td>\n",
       "      <td>/REGDOCS/File/Download/3210178</td>\n",
       "      <td>2017-03-17</td>\n",
       "      <td>Alliance Pipeline Ltd.</td>\n",
       "      <td>A82127 Alliance Pipeline Ltd. - PPA Agreement - Tariff Amendments - Reply Comments</td>\n",
       "      <td>https://apps.cer-rec.gc.ca/REGDOCS/Item/LoadResult/3083645</td>\n",
       "      <td>B - Alliance Pipeline Ltd.</td>\n",
       "      <td>https://apps.cer-rec.gc.ca/REGDOCS/Item/LoadResult/3027281</td>\n",
       "      <td>2016-08-22 - Application for Review and Variance of the National Energy Board 21 July 2016 Letter Decision - PPA Fee (RHW-002-2016)</td>\n",
       "      <td>https://apps.cer-rec.gc.ca/REGDOCS/Item/LoadFeatured/2922482</td>\n",
       "      <td>2016-02-01 - Application for Approval of New Services and Related Tolls and Tariffs for Service on the Alliance Pipeline</td>\n",
       "      <td>https://apps.cer-rec.gc.ca/REGDOCS/Item/LoadResult/2922482</td>\n",
       "      <td>Alliance Pipeline Ltd.</td>\n",
       "      <td>https://apps.cer-rec.gc.ca/REGDOCS/Item/LoadResult/285030</td>\n",
       "      <td>NaN</td>\n",
       "      <td>NaN</td>\n",
       "    </tr>\n",
       "  </tbody>\n",
       "</table></div>"
      ],
      "text/plain": [
       "                                     folder_name_url  \\\n",
       "0  https://apps.cer-rec.gc.ca/REGDOCS/Item/LoadRe...   \n",
       "\n",
       "                                       document_name  \\\n",
       "0  A82127-1 PPA Agreement - AP Tariff Amendments ...   \n",
       "\n",
       "           document_download_link document_date           doc_submitter  \\\n",
       "0  /REGDOCS/File/Download/3210178    2017-03-17  Alliance Pipeline Ltd.   \n",
       "\n",
       "                                         folder_name  \\\n",
       "0  A82127 Alliance Pipeline Ltd. - PPA Agreement ...   \n",
       "\n",
       "                                participant_name_url  \\\n",
       "0  https://apps.cer-rec.gc.ca/REGDOCS/Item/LoadRe...   \n",
       "\n",
       "             participant_name  \\\n",
       "0  B - Alliance Pipeline Ltd.   \n",
       "\n",
       "                                         fi_type_url  \\\n",
       "0  https://apps.cer-rec.gc.ca/REGDOCS/Item/LoadRe...   \n",
       "\n",
       "                                        fi_component  \\\n",
       "0  2016-08-22 - Application for Review and Varian...   \n",
       "\n",
       "           application_name_featured_information_url  \\\n",
       "0  https://apps.cer-rec.gc.ca/REGDOCS/Item/LoadFe...   \n",
       "\n",
       "                                    application_name  \\\n",
       "0  2016-02-01 - Application for Approval of New S...   \n",
       "\n",
       "                                application_name_url            company_name  \\\n",
       "0  https://apps.cer-rec.gc.ca/REGDOCS/Item/LoadRe...  Alliance Pipeline Ltd.   \n",
       "\n",
       "                                    company_name_url year_folder  \\\n",
       "0  https://apps.cer-rec.gc.ca/REGDOCS/Item/LoadRe...         NaN   \n",
       "\n",
       "  year_folder_url  \n",
       "0             NaN  "
      ]
     },
     "execution_count": 45,
     "metadata": {},
     "output_type": "execute_result"
    }
   ],
   "source": [
    "df_f5_doc = documents(df_f5) \n",
    "df_f5_doc = df_f5_doc.merge(df_f4_path).merge(df_f3_path).merge(df_f2).merge(df_f1)\n",
    "\n",
    "df_f5_doc.rename(columns = {\"f2_text\" : \"fi_component\", 'f2_url' : \"fi_type_url\",\n",
    "                            \"f3_text\" : \"participant_name\", \"f3_url\" : \"participant_name_url\",\n",
    "                            \"f4_text\" : \"folder_name\", \"f4_url\" : \"folder_name_url\"}, inplace = True)\n",
    "                          \n",
    "df_f5_doc.shape\n",
    "\n",
    "df_f5_doc.head(1)\n",
    "df_f5_doc['component'] = 'featured_information'\n",
    "df_f5_doc['df'] = 'df_f5_doc'\n",
    "\n",
    "df_f5_doc.to_csv('test.csv', index = False)"
   ]
  },
  {
   "cell_type": "markdown",
   "id": "6a5ea204",
   "metadata": {},
   "source": [
    "## Featured 6"
   ]
  },
  {
   "cell_type": "code",
   "execution_count": 46,
   "id": "9ae7b253",
   "metadata": {},
   "outputs": [
    {
     "name": "stdout",
     "output_type": "stream",
     "text": [
      "(362, 7)\n",
      "f6_text                   362\n",
      "f6_url                    362\n",
      "f5_url                      0\n",
      "document_name               0\n",
      "document_download_link      0\n",
      "document_date               0\n",
      "doc_submitter               0\n",
      "dtype: int64\n"
     ]
    },
    {
     "data": {
      "text/html": [
       "<div><div id=d0e6ad8a-1d28-4cf9-9044-c481aaf6404c style=\"display:none; background-color:#9D6CFF; color:white; width:200px; height:30px; padding-left:5px; border-radius:4px; flex-direction:row; justify-content:space-around; align-items:center;\" onmouseover=\"this.style.backgroundColor='#BA9BF8'\" onmouseout=\"this.style.backgroundColor='#9D6CFF'\" onclick=\"window.commands?.execute('create-mitosheet-from-dataframe-output');\">See Full Dataframe in Mito</div> <script> if (window.commands?.hasCommand('create-mitosheet-from-dataframe-output')) document.getElementById('d0e6ad8a-1d28-4cf9-9044-c481aaf6404c').style.display = 'flex' </script> <table border=\"1\" class=\"dataframe\">\n",
       "  <thead>\n",
       "    <tr style=\"text-align: right;\">\n",
       "      <th></th>\n",
       "      <th>f6_text</th>\n",
       "      <th>f6_url</th>\n",
       "      <th>f5_url</th>\n",
       "      <th>document_name</th>\n",
       "      <th>document_download_link</th>\n",
       "      <th>document_date</th>\n",
       "      <th>doc_submitter</th>\n",
       "    </tr>\n",
       "  </thead>\n",
       "  <tbody>\n",
       "    <tr>\n",
       "      <th>0</th>\n",
       "      <td>NaN</td>\n",
       "      <td>NaN</td>\n",
       "      <td>https://apps.cer-rec.gc.ca/REGDOCS/Item/LoadResult/3083642</td>\n",
       "      <td>A80755-1 Alliance Pipeline PPA Review and Variance - BP Canada Energy Group ULC - Request to Participate - A5H2G2</td>\n",
       "      <td>/REGDOCS/File/Download/3083872</td>\n",
       "      <td>2016-11-23</td>\n",
       "      <td>BP Canada Energy Group ULC</td>\n",
       "    </tr>\n",
       "  </tbody>\n",
       "</table></div>"
      ],
      "text/plain": [
       "   f6_text  f6_url                                             f5_url  \\\n",
       "0      NaN     NaN  https://apps.cer-rec.gc.ca/REGDOCS/Item/LoadRe...   \n",
       "\n",
       "                                       document_name  \\\n",
       "0  A80755-1 Alliance Pipeline PPA Review and Vari...   \n",
       "\n",
       "           document_download_link document_date               doc_submitter  \n",
       "0  /REGDOCS/File/Download/3083872    2016-11-23  BP Canada Energy Group ULC  "
      ]
     },
     "metadata": {},
     "output_type": "display_data"
    },
    {
     "name": "stdout",
     "output_type": "stream",
     "text": [
      "plot not available\n",
      "CPU times: user 1.37 s, sys: 93.5 ms, total: 1.46 s\n",
      "Wall time: 4.37 s\n"
     ]
    },
    {
     "data": {
      "image/png": "[encoded data removed]",
      "text/plain": [
       "<Figure size 432x576 with 1 Axes>"
      ]
     },
     "metadata": {
      "needs_background": "light"
     },
     "output_type": "display_data"
    }
   ],
   "source": [
    "%%time\n",
    "# Wall time: 4.2%save s\n",
    "dfs_collector = []\n",
    "get_documents(source = df_f5_path['f5_url'], string1 = 'f6_', string2 = 'f5_') #THE END\n",
    "df_f6 = concat_dfs_collector('df_f6.csv', 'f6_text', 'f6')"
   ]
  },
  {
   "cell_type": "markdown",
   "id": "6100dadd",
   "metadata": {},
   "source": [
    "### Featured 6 documents"
   ]
  },
  {
   "cell_type": "code",
   "execution_count": 47,
   "id": "9c27da33",
   "metadata": {
    "scrolled": false
   },
   "outputs": [
    {
     "name": "stdout",
     "output_type": "stream",
     "text": [
      "(362, 5)\n"
     ]
    },
    {
     "data": {
      "text/html": [
       "<div><div id=7580a94c-2cce-466f-9417-10b05fd6a125 style=\"display:none; background-color:#9D6CFF; color:white; width:200px; height:30px; padding-left:5px; border-radius:4px; flex-direction:row; justify-content:space-around; align-items:center;\" onmouseover=\"this.style.backgroundColor='#BA9BF8'\" onmouseout=\"this.style.backgroundColor='#9D6CFF'\" onclick=\"window.commands?.execute('create-mitosheet-from-dataframe-output');\">See Full Dataframe in Mito</div> <script> if (window.commands?.hasCommand('create-mitosheet-from-dataframe-output')) document.getElementById('7580a94c-2cce-466f-9417-10b05fd6a125').style.display = 'flex' </script> <table border=\"1\" class=\"dataframe\">\n",
       "  <thead>\n",
       "    <tr style=\"text-align: right;\">\n",
       "      <th></th>\n",
       "      <th>f5_url</th>\n",
       "      <th>document_name</th>\n",
       "      <th>document_download_link</th>\n",
       "      <th>document_date</th>\n",
       "      <th>doc_submitter</th>\n",
       "    </tr>\n",
       "  </thead>\n",
       "  <tbody>\n",
       "    <tr>\n",
       "      <th>0</th>\n",
       "      <td>https://apps.cer-rec.gc.ca/REGDOCS/Item/LoadResult/3083642</td>\n",
       "      <td>A80755-1 Alliance Pipeline PPA Review and Variance - BP Canada Energy Group ULC - Request to Participate - A5H2G2</td>\n",
       "      <td>/REGDOCS/File/Download/3083872</td>\n",
       "      <td>2016-11-23</td>\n",
       "      <td>BP Canada Energy Group ULC</td>\n",
       "    </tr>\n",
       "  </tbody>\n",
       "</table></div>"
      ],
      "text/plain": [
       "                                              f5_url  \\\n",
       "0  https://apps.cer-rec.gc.ca/REGDOCS/Item/LoadRe...   \n",
       "\n",
       "                                       document_name  \\\n",
       "0  A80755-1 Alliance Pipeline PPA Review and Vari...   \n",
       "\n",
       "           document_download_link document_date               doc_submitter  \n",
       "0  /REGDOCS/File/Download/3083872    2016-11-23  BP Canada Energy Group ULC  "
      ]
     },
     "metadata": {},
     "output_type": "display_data"
    },
    {
     "data": {
      "text/plain": [
       "(362, 19)"
      ]
     },
     "execution_count": 47,
     "metadata": {},
     "output_type": "execute_result"
    },
    {
     "data": {
      "text/html": [
       "<div><div id=b25bbbb5-b6eb-4abf-9786-80b2906fdf8d style=\"display:none; background-color:#9D6CFF; color:white; width:200px; height:30px; padding-left:5px; border-radius:4px; flex-direction:row; justify-content:space-around; align-items:center;\" onmouseover=\"this.style.backgroundColor='#BA9BF8'\" onmouseout=\"this.style.backgroundColor='#9D6CFF'\" onclick=\"window.commands?.execute('create-mitosheet-from-dataframe-output');\">See Full Dataframe in Mito</div> <script> if (window.commands?.hasCommand('create-mitosheet-from-dataframe-output')) document.getElementById('b25bbbb5-b6eb-4abf-9786-80b2906fdf8d').style.display = 'flex' </script> <table border=\"1\" class=\"dataframe\">\n",
       "  <thead>\n",
       "    <tr style=\"text-align: right;\">\n",
       "      <th></th>\n",
       "      <th>folder_name_url</th>\n",
       "      <th>document_name</th>\n",
       "      <th>document_download_link</th>\n",
       "      <th>document_date</th>\n",
       "      <th>doc_submitter</th>\n",
       "      <th>folder_name</th>\n",
       "      <th>participant_name_url</th>\n",
       "      <th>participant_name</th>\n",
       "      <th>participant_category_url</th>\n",
       "      <th>participant_category</th>\n",
       "      <th>...</th>\n",
       "      <th>fi_component</th>\n",
       "      <th>application_name_featured_information_url</th>\n",
       "      <th>application_name</th>\n",
       "      <th>application_name_url</th>\n",
       "      <th>company_name</th>\n",
       "      <th>company_name_url</th>\n",
       "      <th>year_folder</th>\n",
       "      <th>year_folder_url</th>\n",
       "      <th>component</th>\n",
       "      <th>df</th>\n",
       "    </tr>\n",
       "  </thead>\n",
       "  <tbody>\n",
       "    <tr>\n",
       "      <th>0</th>\n",
       "      <td>https://apps.cer-rec.gc.ca/REGDOCS/Item/LoadResult/3083642</td>\n",
       "      <td>A80755-1 Alliance Pipeline PPA Review and Variance - BP Canada Energy Group ULC - Request to Participate - A5H2G2</td>\n",
       "      <td>/REGDOCS/File/Download/3083872</td>\n",
       "      <td>2016-11-23</td>\n",
       "      <td>BP Canada Energy Group ULC</td>\n",
       "      <td>A80755 BP Canada Energy Group ULC - Alliance Pipeline PPA Fee Review and Variance - BP Canada Participation Letter</td>\n",
       "      <td>https://apps.cer-rec.gc.ca/REGDOCS/Item/LoadResult/3084539</td>\n",
       "      <td>BP Canada Energy Group ULC</td>\n",
       "      <td>https://apps.cer-rec.gc.ca/REGDOCS/Item/LoadResult/3084972</td>\n",
       "      <td>C - Intervenors</td>\n",
       "      <td>...</td>\n",
       "      <td>2016-08-22 - Application for Review and Variance of the National Energy Board 21 July 2016 Letter Decision - PPA Fee (RHW-002-2016)</td>\n",
       "      <td>https://apps.cer-rec.gc.ca/REGDOCS/Item/LoadFeatured/2922482</td>\n",
       "      <td>2016-02-01 - Application for Approval of New Services and Related Tolls and Tariffs for Service on the Alliance Pipeline</td>\n",
       "      <td>https://apps.cer-rec.gc.ca/REGDOCS/Item/LoadResult/2922482</td>\n",
       "      <td>Alliance Pipeline Ltd.</td>\n",
       "      <td>https://apps.cer-rec.gc.ca/REGDOCS/Item/LoadResult/285030</td>\n",
       "      <td>NaN</td>\n",
       "      <td>NaN</td>\n",
       "      <td>featured_information</td>\n",
       "      <td>df_f6_doc</td>\n",
       "    </tr>\n",
       "  </tbody>\n",
       "</table></div>"
      ],
      "text/plain": [
       "                                     folder_name_url  \\\n",
       "0  https://apps.cer-rec.gc.ca/REGDOCS/Item/LoadRe...   \n",
       "\n",
       "                                       document_name  \\\n",
       "0  A80755-1 Alliance Pipeline PPA Review and Vari...   \n",
       "\n",
       "           document_download_link document_date               doc_submitter  \\\n",
       "0  /REGDOCS/File/Download/3083872    2016-11-23  BP Canada Energy Group ULC   \n",
       "\n",
       "                                         folder_name  \\\n",
       "0  A80755 BP Canada Energy Group ULC - Alliance P...   \n",
       "\n",
       "                                participant_name_url  \\\n",
       "0  https://apps.cer-rec.gc.ca/REGDOCS/Item/LoadRe...   \n",
       "\n",
       "             participant_name  \\\n",
       "0  BP Canada Energy Group ULC   \n",
       "\n",
       "                            participant_category_url participant_category  \\\n",
       "0  https://apps.cer-rec.gc.ca/REGDOCS/Item/LoadRe...      C - Intervenors   \n",
       "\n",
       "   ...                                       fi_component  \\\n",
       "0  ...  2016-08-22 - Application for Review and Varian...   \n",
       "\n",
       "           application_name_featured_information_url  \\\n",
       "0  https://apps.cer-rec.gc.ca/REGDOCS/Item/LoadFe...   \n",
       "\n",
       "                                    application_name  \\\n",
       "0  2016-02-01 - Application for Approval of New S...   \n",
       "\n",
       "                                application_name_url            company_name  \\\n",
       "0  https://apps.cer-rec.gc.ca/REGDOCS/Item/LoadRe...  Alliance Pipeline Ltd.   \n",
       "\n",
       "                                    company_name_url year_folder  \\\n",
       "0  https://apps.cer-rec.gc.ca/REGDOCS/Item/LoadRe...         NaN   \n",
       "\n",
       "  year_folder_url             component         df  \n",
       "0             NaN  featured_information  df_f6_doc  \n",
       "\n",
       "[1 rows x 21 columns]"
      ]
     },
     "execution_count": 47,
     "metadata": {},
     "output_type": "execute_result"
    }
   ],
   "source": [
    "df_f6_doc = documents(df_f6) \n",
    "df_f6_doc = df_f6_doc.merge(df_f5_path).merge(df_f4_path).merge(df_f3_path).merge(df_f2).merge(df_f1)\n",
    "\n",
    "df_f6_doc.rename(columns={\"f2_text\" : \"fi_component\", 'f2_url' : \"fi_type_url\",\n",
    "                          \"f3_text\" : \"participant_category\", \"f3_url\" : \"participant_category_url\",\n",
    "                          \"f4_text\" : \"participant_name\", \"f4_url\" : \"participant_name_url\",\n",
    "                          \"f5_text\" : \"folder_name\", \"f5_url\" : \"folder_name_url\"}, inplace = True)\n",
    "df_f6_doc.shape\n",
    "\n",
    "df_f6_doc['component'] = 'featured_information'\n",
    "df_f6_doc['df'] = 'df_f6_doc'\n",
    "df_f6_doc.head(1)\n",
    "\n",
    "df_f6_doc.to_csv('test.csv', index = False)"
   ]
  },
  {
   "cell_type": "markdown",
   "id": "ba935763",
   "metadata": {},
   "source": [
    "# documents_all 2"
   ]
  },
  {
   "cell_type": "code",
   "execution_count": 48,
   "id": "ab39f7aa",
   "metadata": {},
   "outputs": [
    {
     "data": {
      "text/plain": [
       "(26818, 21)"
      ]
     },
     "execution_count": 48,
     "metadata": {},
     "output_type": "execute_result"
    },
    {
     "data": {
      "text/plain": [
       "Index(['folder_name_url', 'document_name', 'document_download_link',\n",
       "       'document_date', 'doc_submitter', 'folder_name', 'application_name_url',\n",
       "       'application_name', 'company_name_url', 'company_name', 'r0_url', 'df',\n",
       "       'component', 'year_folder_url', 'year_folder', 'participant_name_url',\n",
       "       'participant_name', 'Notes_url', 'Notes', 'participant_category_url',\n",
       "       'participant_category'],\n",
       "      dtype='object')"
      ]
     },
     "execution_count": 48,
     "metadata": {},
     "output_type": "execute_result"
    }
   ],
   "source": [
    "documents_all.shape\n",
    "documents_all.columns"
   ]
  },
  {
   "cell_type": "code",
   "execution_count": 60,
   "id": "f934e888",
   "metadata": {},
   "outputs": [
    {
     "data": {
      "text/plain": [
       "(20244, 24)"
      ]
     },
     "execution_count": 60,
     "metadata": {},
     "output_type": "execute_result"
    },
    {
     "data": {
      "text/html": [
       "<div><div id=324e8c4b-0439-41e8-8b60-516053007766 style=\"display:none; background-color:#9D6CFF; color:white; width:200px; height:30px; padding-left:5px; border-radius:4px; flex-direction:row; justify-content:space-around; align-items:center;\" onmouseover=\"this.style.backgroundColor='#BA9BF8'\" onmouseout=\"this.style.backgroundColor='#9D6CFF'\" onclick=\"window.commands?.execute('create-mitosheet-from-dataframe-output');\">See Full Dataframe in Mito</div> <script> if (window.commands?.hasCommand('create-mitosheet-from-dataframe-output')) document.getElementById('324e8c4b-0439-41e8-8b60-516053007766').style.display = 'flex' </script> <table border=\"1\" class=\"dataframe\">\n",
       "  <thead>\n",
       "    <tr style=\"text-align: right;\">\n",
       "      <th></th>\n",
       "      <th>folder_name_url</th>\n",
       "      <th>document_name</th>\n",
       "      <th>document_download_link</th>\n",
       "      <th>document_date</th>\n",
       "      <th>doc_submitter</th>\n",
       "      <th>folder_name</th>\n",
       "      <th>application_name_url</th>\n",
       "      <th>application_name</th>\n",
       "      <th>company_name_url</th>\n",
       "      <th>company_name</th>\n",
       "      <th>...</th>\n",
       "      <th>year_folder</th>\n",
       "      <th>participant_name_url</th>\n",
       "      <th>participant_name</th>\n",
       "      <th>Notes_url</th>\n",
       "      <th>Notes</th>\n",
       "      <th>participant_category_url</th>\n",
       "      <th>participant_category</th>\n",
       "      <th>fi_type_url</th>\n",
       "      <th>fi_component</th>\n",
       "      <th>application_name_featured_information_url</th>\n",
       "    </tr>\n",
       "  </thead>\n",
       "  <tbody>\n",
       "    <tr>\n",
       "      <th>0</th>\n",
       "      <td>https://apps.cer-rec.gc.ca/REGDOCS/Item/LoadResult/427733</td>\n",
       "      <td>A0V7Q5 - Board letter and Order TOI-02-2006 to Terasen Pipelines - Toll Settlement and Final Tolls for 2006</td>\n",
       "      <td>https://apps.cer-rec.gc.ca/REGDOCS/File/Download/427734</td>\n",
       "      <td>2006-08-30</td>\n",
       "      <td>NEB</td>\n",
       "      <td>06-08-30 NEB - Board letter and Order TOI-02-2006 to Terasen Pipelines - Application dated 17 August 2006 for Approval of 2006 Toll Settlements and Final Tolls for 2006 (A13202)</td>\n",
       "      <td>https://apps.cer-rec.gc.ca/REGDOCS/Item/LoadResult/424302</td>\n",
       "      <td>2006-08-17 - Application for 2006 Final Tolls</td>\n",
       "      <td>https://apps.cer-rec.gc.ca/REGDOCS/Item/LoadResult/267614</td>\n",
       "      <td>Terasen Pipelines (Trans Mountain) Inc. (Name changed to Trans Mountain Pipeline Inc.)</td>\n",
       "      <td>...</td>\n",
       "      <td>NaN</td>\n",
       "      <td>NaN</td>\n",
       "      <td>NaN</td>\n",
       "      <td>NaN</td>\n",
       "      <td>NaN</td>\n",
       "      <td>NaN</td>\n",
       "      <td>NaN</td>\n",
       "      <td>NaN</td>\n",
       "      <td>NaN</td>\n",
       "      <td>NaN</td>\n",
       "    </tr>\n",
       "  </tbody>\n",
       "</table></div>"
      ],
      "text/plain": [
       "                                     folder_name_url  \\\n",
       "0  https://apps.cer-rec.gc.ca/REGDOCS/Item/LoadRe...   \n",
       "\n",
       "                                       document_name  \\\n",
       "0  A0V7Q5 - Board letter and Order TOI-02-2006 to...   \n",
       "\n",
       "                              document_download_link document_date  \\\n",
       "0  https://apps.cer-rec.gc.ca/REGDOCS/File/Downlo...    2006-08-30   \n",
       "\n",
       "  doc_submitter                                        folder_name  \\\n",
       "0           NEB  06-08-30 NEB - Board letter and Order TOI-02-2...   \n",
       "\n",
       "                                application_name_url  \\\n",
       "0  https://apps.cer-rec.gc.ca/REGDOCS/Item/LoadRe...   \n",
       "\n",
       "                                application_name  \\\n",
       "0  2006-08-17 - Application for 2006 Final Tolls   \n",
       "\n",
       "                                    company_name_url  \\\n",
       "0  https://apps.cer-rec.gc.ca/REGDOCS/Item/LoadRe...   \n",
       "\n",
       "                                        company_name  ... year_folder  \\\n",
       "0  Terasen Pipelines (Trans Mountain) Inc. (Name ...  ...         NaN   \n",
       "\n",
       "  participant_name_url participant_name Notes_url Notes  \\\n",
       "0                  NaN              NaN       NaN   NaN   \n",
       "\n",
       "  participant_category_url participant_category fi_type_url fi_component  \\\n",
       "0                      NaN                  NaN         NaN          NaN   \n",
       "\n",
       "  application_name_featured_information_url  \n",
       "0                                       NaN  \n",
       "\n",
       "[1 rows x 24 columns]"
      ]
     },
     "execution_count": 60,
     "metadata": {},
     "output_type": "execute_result"
    }
   ],
   "source": [
    "documents_all_2 = pd.concat([documents_all,\n",
    "                           df_f6_doc,\n",
    "                           df_f5_doc,\n",
    "                           df_f4_doc])\n",
    "\n",
    "documents_all_2 = documents_all_2[documents_all_2['document_name'].str.contains('Receipt') == False]\n",
    "documents_all_2['document_download_link'] = ['https://apps.cer-rec.gc.ca' + x for x in documents_all_2['document_download_link']]\n",
    "\n",
    "documents_all_2.shape #(20244 for 8 June 2023) \n",
    "documents_all_2.head(1)\n",
    "documents_all_2.to_csv('Group1TollsApplications.csv', index = False)"
   ]
  },
  {
   "cell_type": "code",
   "execution_count": 61,
   "id": "b764ccbb",
   "metadata": {},
   "outputs": [
    {
     "data": {
      "text/plain": [
       "<AxesSubplot:title={'center':'count of documents by application, Group1 Traffic, Tolls & Tariffs'}>"
      ]
     },
     "execution_count": 61,
     "metadata": {},
     "output_type": "execute_result"
    },
    {
     "data": {
      "image/png": "[encoded data removed]",
      "text/plain": [
       "<Figure size 432x576 with 1 Axes>"
      ]
     },
     "metadata": {
      "needs_background": "light"
     },
     "output_type": "display_data"
    }
   ],
   "source": [
    "documents_all_2['application_name'].value_counts()[:20].sort_values(ascending = True).plot(kind = 'barh', \n",
    "                                                                                    figsize=(6, 8),\n",
    "                                                                                    title = 'count of documents by application, Group1 Traffic, Tolls & Tariffs')"
   ]
  },
  {
   "cell_type": "code",
   "execution_count": 62,
   "id": "1c29f4d6",
   "metadata": {},
   "outputs": [
    {
     "data": {
      "text/plain": [
       "<AxesSubplot:title={'center':'count of documents by company, Group 1 Traffic, Tolls & Tariffs'}>"
      ]
     },
     "execution_count": 62,
     "metadata": {},
     "output_type": "execute_result"
    },
    {
     "data": {
      "image/png": "[encoded data removed]",
      "text/plain": [
       "<Figure size 432x576 with 1 Axes>"
      ]
     },
     "metadata": {
      "needs_background": "light"
     },
     "output_type": "display_data"
    }
   ],
   "source": [
    "documents_all_2['company_name'].value_counts()[:30].sort_values(ascending = True).plot(kind = 'barh', \n",
    "                                                                                       figsize=(6, 8),\n",
    "                                                                                      title = 'count of documents by company, Group 1 Traffic, Tolls & Tariffs')"
   ]
  },
  {
   "cell_type": "code",
   "execution_count": 64,
   "id": "b7412729",
   "metadata": {
    "scrolled": false
   },
   "outputs": [
    {
     "data": {
      "text/plain": [
       "(20244, 24)"
      ]
     },
     "execution_count": 64,
     "metadata": {},
     "output_type": "execute_result"
    },
    {
     "name": "stdout",
     "output_type": "stream",
     "text": [
      "<class 'pandas.core.frame.DataFrame'>\n",
      "Int64Index: 20244 entries, 0 to 2773\n",
      "Data columns (total 24 columns):\n",
      " #   Column                                     Non-Null Count  Dtype \n",
      "---  ------                                     --------------  ----- \n",
      " 0   folder_name_url                            20244 non-null  object\n",
      " 1   document_name                              20244 non-null  object\n",
      " 2   document_download_link                     20244 non-null  object\n",
      " 3   document_date                              20244 non-null  object\n",
      " 4   doc_submitter                              20244 non-null  object\n",
      " 5   folder_name                                20244 non-null  object\n",
      " 6   application_name_url                       20244 non-null  object\n",
      " 7   application_name                           20244 non-null  object\n",
      " 8   company_name_url                           20244 non-null  object\n",
      " 9   company_name                               20244 non-null  object\n",
      " 10  r0_url                                     17945 non-null  object\n",
      " 11  df                                         20244 non-null  object\n",
      " 12  component                                  20244 non-null  object\n",
      " 13  year_folder_url                            16125 non-null  object\n",
      " 14  year_folder                                16125 non-null  object\n",
      " 15  participant_name_url                       8745 non-null   object\n",
      " 16  participant_name                           8745 non-null   object\n",
      " 17  Notes_url                                  139 non-null    object\n",
      " 18  Notes                                      139 non-null    object\n",
      " 19  participant_category_url                   11703 non-null  object\n",
      " 20  participant_category                       11703 non-null  object\n",
      " 21  fi_type_url                                2299 non-null   object\n",
      " 22  fi_component                               2299 non-null   object\n",
      " 23  application_name_featured_information_url  2299 non-null   object\n",
      "dtypes: object(24)\n",
      "memory usage: 3.9+ MB\n"
     ]
    }
   ],
   "source": [
    "documents_all_2.shape\n",
    "documents_all_2.info()"
   ]
  },
  {
   "cell_type": "code",
   "execution_count": null,
   "id": "c3dc7de4",
   "metadata": {},
   "outputs": [],
   "source": []
  }
 ],
 "metadata": {
  "kernelspec": {
   "display_name": "Python 3",
   "language": "python",
   "name": "python3"
  },
  "language_info": {
   "codemirror_mode": {
    "name": "ipython",
    "version": 3
   },
   "file_extension": ".py",
   "mimetype": "text/x-python",
   "name": "python",
   "nbconvert_exporter": "python",
   "pygments_lexer": "ipython3",
   "version": "3.8.5"
  },
  "toc": {
   "base_numbering": 1,
   "nav_menu": {},
   "number_sections": true,
   "sideBar": true,
   "skip_h1_title": false,
   "title_cell": "Table of Contents",
   "title_sidebar": "Contents",
   "toc_cell": true,
   "toc_position": {
    "height": "calc(100% - 180px)",
    "left": "10px",
    "top": "150px",
    "width": "290.883px"
   },
   "toc_section_display": true,
   "toc_window_display": true
  }
 },
 "nbformat": 4,
 "nbformat_minor": 5
}
